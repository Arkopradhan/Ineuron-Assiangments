{
 "cells": [
  {
   "cell_type": "markdown",
   "metadata": {},
   "source": [
    "### In this assignment students have to make ARIMA model over shampoo sales data and check the MSE between predicted and actual value."
   ]
  },
  {
   "cell_type": "code",
   "execution_count": 1,
   "metadata": {},
   "outputs": [],
   "source": [
    "import pandas as pd\n",
    "import numpy as np\n",
    "import matplotlib.pyplot as plt\n",
    "from statsmodels.tsa.arima_model import ARIMA\n",
    "from sklearn.metrics import mean_squared_error\n",
    "import datetime"
   ]
  },
  {
   "cell_type": "code",
   "execution_count": 2,
   "metadata": {},
   "outputs": [],
   "source": [
    "def parser(x):\n",
    "    return datetime.strptime('190'+x, '%Y-%m')\n",
    "series = pd.read_csv('sales-of-shampoo-over-a-three-ye.csv', header=0,parse_dates=True,index_col='Month')"
   ]
  },
  {
   "cell_type": "code",
   "execution_count": 3,
   "metadata": {},
   "outputs": [
    {
     "data": {
      "text/html": [
       "<div>\n",
       "<style scoped>\n",
       "    .dataframe tbody tr th:only-of-type {\n",
       "        vertical-align: middle;\n",
       "    }\n",
       "\n",
       "    .dataframe tbody tr th {\n",
       "        vertical-align: top;\n",
       "    }\n",
       "\n",
       "    .dataframe thead th {\n",
       "        text-align: right;\n",
       "    }\n",
       "</style>\n",
       "<table border=\"1\" class=\"dataframe\">\n",
       "  <thead>\n",
       "    <tr style=\"text-align: right;\">\n",
       "      <th></th>\n",
       "      <th>Sales of shampoo over a three year period</th>\n",
       "    </tr>\n",
       "    <tr>\n",
       "      <th>Month</th>\n",
       "      <th></th>\n",
       "    </tr>\n",
       "  </thead>\n",
       "  <tbody>\n",
       "    <tr>\n",
       "      <th>1-01</th>\n",
       "      <td>266.0</td>\n",
       "    </tr>\n",
       "    <tr>\n",
       "      <th>1-02</th>\n",
       "      <td>145.9</td>\n",
       "    </tr>\n",
       "    <tr>\n",
       "      <th>1-03</th>\n",
       "      <td>183.1</td>\n",
       "    </tr>\n",
       "    <tr>\n",
       "      <th>1-04</th>\n",
       "      <td>119.3</td>\n",
       "    </tr>\n",
       "    <tr>\n",
       "      <th>1-05</th>\n",
       "      <td>180.3</td>\n",
       "    </tr>\n",
       "  </tbody>\n",
       "</table>\n",
       "</div>"
      ],
      "text/plain": [
       "       Sales of shampoo over a three year period\n",
       "Month                                           \n",
       "1-01                                       266.0\n",
       "1-02                                       145.9\n",
       "1-03                                       183.1\n",
       "1-04                                       119.3\n",
       "1-05                                       180.3"
      ]
     },
     "execution_count": 3,
     "metadata": {},
     "output_type": "execute_result"
    }
   ],
   "source": [
    "series.head()"
   ]
  },
  {
   "cell_type": "code",
   "execution_count": 4,
   "metadata": {},
   "outputs": [],
   "source": [
    "series = series.dropna()"
   ]
  },
  {
   "cell_type": "code",
   "execution_count": 5,
   "metadata": {},
   "outputs": [
    {
     "data": {
      "image/png": "[encoded data removed]",
      "text/plain": [
       "<Figure size 432x288 with 1 Axes>"
      ]
     },
     "metadata": {
      "needs_background": "light"
     },
     "output_type": "display_data"
    }
   ],
   "source": [
    "series.plot()\n",
    "plt.show()"
   ]
  },
  {
   "cell_type": "markdown",
   "metadata": {},
   "source": [
    "From here we can see that Shampoo sales data has a clear trend, that means time series is not stationary and will require differencing to make it stationary."
   ]
  },
  {
   "cell_type": "code",
   "execution_count": 6,
   "metadata": {},
   "outputs": [],
   "source": [
    "X = series.values"
   ]
  },
  {
   "cell_type": "code",
   "execution_count": 7,
   "metadata": {},
   "outputs": [
    {
     "data": {
      "text/plain": [
       "array([[266. ],\n",
       "       [145.9],\n",
       "       [183.1],\n",
       "       [119.3],\n",
       "       [180.3],\n",
       "       [168.5],\n",
       "       [231.8],\n",
       "       [224.5],\n",
       "       [192.8],\n",
       "       [122.9],\n",
       "       [336.5],\n",
       "       [185.9],\n",
       "       [194.3],\n",
       "       [149.5],\n",
       "       [210.1],\n",
       "       [273.3],\n",
       "       [191.4],\n",
       "       [287. ],\n",
       "       [226. ],\n",
       "       [303.6],\n",
       "       [289.9],\n",
       "       [421.6],\n",
       "       [264.5],\n",
       "       [342.3],\n",
       "       [339.7],\n",
       "       [440.4],\n",
       "       [315.9],\n",
       "       [439.3],\n",
       "       [401.3],\n",
       "       [437.4],\n",
       "       [575.5],\n",
       "       [407.6],\n",
       "       [682. ],\n",
       "       [475.3],\n",
       "       [581.3],\n",
       "       [646.9]])"
      ]
     },
     "execution_count": 7,
     "metadata": {},
     "output_type": "execute_result"
    }
   ],
   "source": [
    "X"
   ]
  },
  {
   "cell_type": "code",
   "execution_count": 8,
   "metadata": {},
   "outputs": [
    {
     "name": "stdout",
     "output_type": "stream",
     "text": [
      "36\n",
      "21\n"
     ]
    }
   ],
   "source": [
    "size = int(len(X) * 0.60)\n",
    "print(len(X))\n",
    "print(size)"
   ]
  },
  {
   "cell_type": "code",
   "execution_count": 9,
   "metadata": {},
   "outputs": [],
   "source": [
    "train, test = X[0:size], X[size:len(X)]"
   ]
  },
  {
   "cell_type": "code",
   "execution_count": 10,
   "metadata": {},
   "outputs": [
    {
     "name": "stdout",
     "output_type": "stream",
     "text": [
      "Predicted=[272.96448051],Expected =[421.6]\n",
      "Predicted=[290.31395227],Expected =[264.5]\n",
      "Predicted=[349.11769187],Expected =[342.3]\n",
      "Predicted=[306.51286567],Expected =[339.7]\n",
      "Predicted=[387.37646454],Expected =[440.4]\n",
      "Predicted=[348.15414368],Expected =[315.9]\n",
      "Predicted=[386.30880113],Expected =[439.3]\n",
      "Predicted=[356.0820882],Expected =[401.3]\n",
      "Predicted=[446.37947108],Expected =[437.4]\n",
      "Predicted=[394.73728843],Expected =[575.5]\n",
      "Predicted=[434.91541338],Expected =[407.6]\n",
      "Predicted=[507.92347151],Expected =[682.]\n",
      "Predicted=[435.48276116],Expected =[475.3]\n",
      "Predicted=[652.7439008],Expected =[581.3]\n",
      "Predicted=[546.34347218],Expected =[646.9]\n",
      "TEST MSE :7547.807568293882\n"
     ]
    }
   ],
   "source": [
    "history = [x for x in train]\n",
    "predictions = list()\n",
    "for t in range(len(test)):\n",
    "    model = ARIMA(history,order=(5,1,0))\n",
    "    model_fit = model.fit(disp=0)\n",
    "    output = model_fit.forecast()\n",
    "    yhat = output[0]\n",
    "    predictions.append(yhat)\n",
    "    obs = test[t]\n",
    "    history.append(obs)\n",
    "    print(f'Predicted={yhat},Expected ={obs}')\n",
    "error = mean_squared_error(test,predictions)\n",
    "print(f\"TEST MSE :{error}\")"
   ]
  },
  {
   "cell_type": "code",
   "execution_count": 11,
   "metadata": {},
   "outputs": [
    {
     "data": {
      "image/png": "[encoded data removed]",
      "text/plain": [
       "<Figure size 432x288 with 1 Axes>"
      ]
     },
     "metadata": {
      "needs_background": "light"
     },
     "output_type": "display_data"
    }
   ],
   "source": [
    "plt.plot(test)\n",
    "plt.plot(predictions, color='red')\n",
    "plt.show()"
   ]
  }
 ],
 "metadata": {
  "kernelspec": {
   "display_name": "Python 3",
   "language": "python",
   "name": "python3"
  },
  "language_info": {
   "codemirror_mode": {
    "name": "ipython",
    "version": 3
   },
   "file_extension": ".py",
   "mimetype": "text/x-python",
   "name": "python",
   "nbconvert_exporter": "python",
   "pygments_lexer": "ipython3",
   "version": "3.7.6"
  }
 },
 "nbformat": 4,
 "nbformat_minor": 4
}
