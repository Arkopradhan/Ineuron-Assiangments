{
 "cells": [
  {
   "cell_type": "markdown",
   "metadata": {},
   "source": [
    "Import"
   ]
  },
  {
   "cell_type": "code",
   "execution_count": 1,
   "metadata": {},
   "outputs": [],
   "source": [
    "import pandas as pd\n",
    "import numpy as np\n",
    "import seaborn as sns\n",
    "import matplotlib.pyplot as plt\n",
    "%matplotlib inline"
   ]
  },
  {
   "cell_type": "markdown",
   "metadata": {},
   "source": [
    "Dataset Url"
   ]
  },
  {
   "cell_type": "code",
   "execution_count": 2,
   "metadata": {},
   "outputs": [],
   "source": [
    "url = 'https://archive.ics.uci.edu/ml/machine-learning-databases/adult/adult.data'"
   ]
  },
  {
   "cell_type": "markdown",
   "metadata": {},
   "source": [
    "Dataset columns"
   ]
  },
  {
   "cell_type": "code",
   "execution_count": 3,
   "metadata": {},
   "outputs": [],
   "source": [
    "columns = ['age','workclass','fnlwgt','education','education-num','marital-status','occupation','relationship','race','sex','capital-gain','capital-loss','hours-per-week','native-country','salary']"
   ]
  },
  {
   "cell_type": "markdown",
   "metadata": {},
   "source": [
    "Loading Data with Pandas "
   ]
  },
  {
   "cell_type": "code",
   "execution_count": 4,
   "metadata": {},
   "outputs": [],
   "source": [
    "df = pd.read_csv(url,names=columns)"
   ]
  },
  {
   "cell_type": "code",
   "execution_count": 5,
   "metadata": {},
   "outputs": [
    {
     "data": {
      "text/html": [
       "<div>\n",
       "<style scoped>\n",
       "    .dataframe tbody tr th:only-of-type {\n",
       "        vertical-align: middle;\n",
       "    }\n",
       "\n",
       "    .dataframe tbody tr th {\n",
       "        vertical-align: top;\n",
       "    }\n",
       "\n",
       "    .dataframe thead th {\n",
       "        text-align: right;\n",
       "    }\n",
       "</style>\n",
       "<table border=\"1\" class=\"dataframe\">\n",
       "  <thead>\n",
       "    <tr style=\"text-align: right;\">\n",
       "      <th></th>\n",
       "      <th>age</th>\n",
       "      <th>workclass</th>\n",
       "      <th>fnlwgt</th>\n",
       "      <th>education</th>\n",
       "      <th>education-num</th>\n",
       "      <th>marital-status</th>\n",
       "      <th>occupation</th>\n",
       "      <th>relationship</th>\n",
       "      <th>race</th>\n",
       "      <th>sex</th>\n",
       "      <th>capital-gain</th>\n",
       "      <th>capital-loss</th>\n",
       "      <th>hours-per-week</th>\n",
       "      <th>native-country</th>\n",
       "      <th>salary</th>\n",
       "    </tr>\n",
       "  </thead>\n",
       "  <tbody>\n",
       "    <tr>\n",
       "      <th>0</th>\n",
       "      <td>39</td>\n",
       "      <td>State-gov</td>\n",
       "      <td>77516</td>\n",
       "      <td>Bachelors</td>\n",
       "      <td>13</td>\n",
       "      <td>Never-married</td>\n",
       "      <td>Adm-clerical</td>\n",
       "      <td>Not-in-family</td>\n",
       "      <td>White</td>\n",
       "      <td>Male</td>\n",
       "      <td>2174</td>\n",
       "      <td>0</td>\n",
       "      <td>40</td>\n",
       "      <td>United-States</td>\n",
       "      <td>&lt;=50K</td>\n",
       "    </tr>\n",
       "    <tr>\n",
       "      <th>1</th>\n",
       "      <td>50</td>\n",
       "      <td>Self-emp-not-inc</td>\n",
       "      <td>83311</td>\n",
       "      <td>Bachelors</td>\n",
       "      <td>13</td>\n",
       "      <td>Married-civ-spouse</td>\n",
       "      <td>Exec-managerial</td>\n",
       "      <td>Husband</td>\n",
       "      <td>White</td>\n",
       "      <td>Male</td>\n",
       "      <td>0</td>\n",
       "      <td>0</td>\n",
       "      <td>13</td>\n",
       "      <td>United-States</td>\n",
       "      <td>&lt;=50K</td>\n",
       "    </tr>\n",
       "    <tr>\n",
       "      <th>2</th>\n",
       "      <td>38</td>\n",
       "      <td>Private</td>\n",
       "      <td>215646</td>\n",
       "      <td>HS-grad</td>\n",
       "      <td>9</td>\n",
       "      <td>Divorced</td>\n",
       "      <td>Handlers-cleaners</td>\n",
       "      <td>Not-in-family</td>\n",
       "      <td>White</td>\n",
       "      <td>Male</td>\n",
       "      <td>0</td>\n",
       "      <td>0</td>\n",
       "      <td>40</td>\n",
       "      <td>United-States</td>\n",
       "      <td>&lt;=50K</td>\n",
       "    </tr>\n",
       "    <tr>\n",
       "      <th>3</th>\n",
       "      <td>53</td>\n",
       "      <td>Private</td>\n",
       "      <td>234721</td>\n",
       "      <td>11th</td>\n",
       "      <td>7</td>\n",
       "      <td>Married-civ-spouse</td>\n",
       "      <td>Handlers-cleaners</td>\n",
       "      <td>Husband</td>\n",
       "      <td>Black</td>\n",
       "      <td>Male</td>\n",
       "      <td>0</td>\n",
       "      <td>0</td>\n",
       "      <td>40</td>\n",
       "      <td>United-States</td>\n",
       "      <td>&lt;=50K</td>\n",
       "    </tr>\n",
       "    <tr>\n",
       "      <th>4</th>\n",
       "      <td>28</td>\n",
       "      <td>Private</td>\n",
       "      <td>338409</td>\n",
       "      <td>Bachelors</td>\n",
       "      <td>13</td>\n",
       "      <td>Married-civ-spouse</td>\n",
       "      <td>Prof-specialty</td>\n",
       "      <td>Wife</td>\n",
       "      <td>Black</td>\n",
       "      <td>Female</td>\n",
       "      <td>0</td>\n",
       "      <td>0</td>\n",
       "      <td>40</td>\n",
       "      <td>Cuba</td>\n",
       "      <td>&lt;=50K</td>\n",
       "    </tr>\n",
       "  </tbody>\n",
       "</table>\n",
       "</div>"
      ],
      "text/plain": [
       "   age          workclass  fnlwgt   education  education-num  \\\n",
       "0   39          State-gov   77516   Bachelors             13   \n",
       "1   50   Self-emp-not-inc   83311   Bachelors             13   \n",
       "2   38            Private  215646     HS-grad              9   \n",
       "3   53            Private  234721        11th              7   \n",
       "4   28            Private  338409   Bachelors             13   \n",
       "\n",
       "        marital-status          occupation    relationship    race      sex  \\\n",
       "0        Never-married        Adm-clerical   Not-in-family   White     Male   \n",
       "1   Married-civ-spouse     Exec-managerial         Husband   White     Male   \n",
       "2             Divorced   Handlers-cleaners   Not-in-family   White     Male   \n",
       "3   Married-civ-spouse   Handlers-cleaners         Husband   Black     Male   \n",
       "4   Married-civ-spouse      Prof-specialty            Wife   Black   Female   \n",
       "\n",
       "   capital-gain  capital-loss  hours-per-week  native-country  salary  \n",
       "0          2174             0              40   United-States   <=50K  \n",
       "1             0             0              13   United-States   <=50K  \n",
       "2             0             0              40   United-States   <=50K  \n",
       "3             0             0              40   United-States   <=50K  \n",
       "4             0             0              40            Cuba   <=50K  "
      ]
     },
     "execution_count": 5,
     "metadata": {},
     "output_type": "execute_result"
    }
   ],
   "source": [
    "df.head()"
   ]
  },
  {
   "cell_type": "markdown",
   "metadata": {},
   "source": [
    "Dataset Info"
   ]
  },
  {
   "cell_type": "code",
   "execution_count": 6,
   "metadata": {},
   "outputs": [
    {
     "name": "stdout",
     "output_type": "stream",
     "text": [
      "<class 'pandas.core.frame.DataFrame'>\n",
      "RangeIndex: 32561 entries, 0 to 32560\n",
      "Data columns (total 15 columns):\n",
      " #   Column          Non-Null Count  Dtype \n",
      "---  ------          --------------  ----- \n",
      " 0   age             32561 non-null  int64 \n",
      " 1   workclass       32561 non-null  object\n",
      " 2   fnlwgt          32561 non-null  int64 \n",
      " 3   education       32561 non-null  object\n",
      " 4   education-num   32561 non-null  int64 \n",
      " 5   marital-status  32561 non-null  object\n",
      " 6   occupation      32561 non-null  object\n",
      " 7   relationship    32561 non-null  object\n",
      " 8   race            32561 non-null  object\n",
      " 9   sex             32561 non-null  object\n",
      " 10  capital-gain    32561 non-null  int64 \n",
      " 11  capital-loss    32561 non-null  int64 \n",
      " 12  hours-per-week  32561 non-null  int64 \n",
      " 13  native-country  32561 non-null  object\n",
      " 14  salary          32561 non-null  object\n",
      "dtypes: int64(6), object(9)\n",
      "memory usage: 3.7+ MB\n"
     ]
    }
   ],
   "source": [
    "df.info()"
   ]
  },
  {
   "cell_type": "markdown",
   "metadata": {},
   "source": [
    "Dataset Shape"
   ]
  },
  {
   "cell_type": "code",
   "execution_count": 7,
   "metadata": {},
   "outputs": [
    {
     "data": {
      "text/plain": [
       "(32561, 15)"
      ]
     },
     "execution_count": 7,
     "metadata": {},
     "output_type": "execute_result"
    }
   ],
   "source": [
    "df.shape"
   ]
  },
  {
   "cell_type": "markdown",
   "metadata": {},
   "source": [
    "Dataset Description"
   ]
  },
  {
   "cell_type": "code",
   "execution_count": 8,
   "metadata": {},
   "outputs": [
    {
     "data": {
      "text/html": [
       "<div>\n",
       "<style scoped>\n",
       "    .dataframe tbody tr th:only-of-type {\n",
       "        vertical-align: middle;\n",
       "    }\n",
       "\n",
       "    .dataframe tbody tr th {\n",
       "        vertical-align: top;\n",
       "    }\n",
       "\n",
       "    .dataframe thead th {\n",
       "        text-align: right;\n",
       "    }\n",
       "</style>\n",
       "<table border=\"1\" class=\"dataframe\">\n",
       "  <thead>\n",
       "    <tr style=\"text-align: right;\">\n",
       "      <th></th>\n",
       "      <th>age</th>\n",
       "      <th>fnlwgt</th>\n",
       "      <th>education-num</th>\n",
       "      <th>capital-gain</th>\n",
       "      <th>capital-loss</th>\n",
       "      <th>hours-per-week</th>\n",
       "    </tr>\n",
       "  </thead>\n",
       "  <tbody>\n",
       "    <tr>\n",
       "      <th>count</th>\n",
       "      <td>32561.000000</td>\n",
       "      <td>3.256100e+04</td>\n",
       "      <td>32561.000000</td>\n",
       "      <td>32561.000000</td>\n",
       "      <td>32561.000000</td>\n",
       "      <td>32561.000000</td>\n",
       "    </tr>\n",
       "    <tr>\n",
       "      <th>mean</th>\n",
       "      <td>38.581647</td>\n",
       "      <td>1.897784e+05</td>\n",
       "      <td>10.080679</td>\n",
       "      <td>1077.648844</td>\n",
       "      <td>87.303830</td>\n",
       "      <td>40.437456</td>\n",
       "    </tr>\n",
       "    <tr>\n",
       "      <th>std</th>\n",
       "      <td>13.640433</td>\n",
       "      <td>1.055500e+05</td>\n",
       "      <td>2.572720</td>\n",
       "      <td>7385.292085</td>\n",
       "      <td>402.960219</td>\n",
       "      <td>12.347429</td>\n",
       "    </tr>\n",
       "    <tr>\n",
       "      <th>min</th>\n",
       "      <td>17.000000</td>\n",
       "      <td>1.228500e+04</td>\n",
       "      <td>1.000000</td>\n",
       "      <td>0.000000</td>\n",
       "      <td>0.000000</td>\n",
       "      <td>1.000000</td>\n",
       "    </tr>\n",
       "    <tr>\n",
       "      <th>25%</th>\n",
       "      <td>28.000000</td>\n",
       "      <td>1.178270e+05</td>\n",
       "      <td>9.000000</td>\n",
       "      <td>0.000000</td>\n",
       "      <td>0.000000</td>\n",
       "      <td>40.000000</td>\n",
       "    </tr>\n",
       "    <tr>\n",
       "      <th>50%</th>\n",
       "      <td>37.000000</td>\n",
       "      <td>1.783560e+05</td>\n",
       "      <td>10.000000</td>\n",
       "      <td>0.000000</td>\n",
       "      <td>0.000000</td>\n",
       "      <td>40.000000</td>\n",
       "    </tr>\n",
       "    <tr>\n",
       "      <th>75%</th>\n",
       "      <td>48.000000</td>\n",
       "      <td>2.370510e+05</td>\n",
       "      <td>12.000000</td>\n",
       "      <td>0.000000</td>\n",
       "      <td>0.000000</td>\n",
       "      <td>45.000000</td>\n",
       "    </tr>\n",
       "    <tr>\n",
       "      <th>max</th>\n",
       "      <td>90.000000</td>\n",
       "      <td>1.484705e+06</td>\n",
       "      <td>16.000000</td>\n",
       "      <td>99999.000000</td>\n",
       "      <td>4356.000000</td>\n",
       "      <td>99.000000</td>\n",
       "    </tr>\n",
       "  </tbody>\n",
       "</table>\n",
       "</div>"
      ],
      "text/plain": [
       "                age        fnlwgt  education-num  capital-gain  capital-loss  \\\n",
       "count  32561.000000  3.256100e+04   32561.000000  32561.000000  32561.000000   \n",
       "mean      38.581647  1.897784e+05      10.080679   1077.648844     87.303830   \n",
       "std       13.640433  1.055500e+05       2.572720   7385.292085    402.960219   \n",
       "min       17.000000  1.228500e+04       1.000000      0.000000      0.000000   \n",
       "25%       28.000000  1.178270e+05       9.000000      0.000000      0.000000   \n",
       "50%       37.000000  1.783560e+05      10.000000      0.000000      0.000000   \n",
       "75%       48.000000  2.370510e+05      12.000000      0.000000      0.000000   \n",
       "max       90.000000  1.484705e+06      16.000000  99999.000000   4356.000000   \n",
       "\n",
       "       hours-per-week  \n",
       "count    32561.000000  \n",
       "mean        40.437456  \n",
       "std         12.347429  \n",
       "min          1.000000  \n",
       "25%         40.000000  \n",
       "50%         40.000000  \n",
       "75%         45.000000  \n",
       "max         99.000000  "
      ]
     },
     "execution_count": 8,
     "metadata": {},
     "output_type": "execute_result"
    }
   ],
   "source": [
    "df.describe()"
   ]
  },
  {
   "cell_type": "code",
   "execution_count": 9,
   "metadata": {},
   "outputs": [
    {
     "data": {
      "text/plain": [
       "488415"
      ]
     },
     "execution_count": 9,
     "metadata": {},
     "output_type": "execute_result"
    }
   ],
   "source": [
    "df.size"
   ]
  },
  {
   "cell_type": "markdown",
   "metadata": {},
   "source": [
    "### Feature Engineering"
   ]
  },
  {
   "cell_type": "markdown",
   "metadata": {},
   "source": [
    "Checking for null Values "
   ]
  },
  {
   "cell_type": "code",
   "execution_count": 10,
   "metadata": {},
   "outputs": [
    {
     "data": {
      "text/plain": [
       "age               0\n",
       "workclass         0\n",
       "fnlwgt            0\n",
       "education         0\n",
       "education-num     0\n",
       "marital-status    0\n",
       "occupation        0\n",
       "relationship      0\n",
       "race              0\n",
       "sex               0\n",
       "capital-gain      0\n",
       "capital-loss      0\n",
       "hours-per-week    0\n",
       "native-country    0\n",
       "salary            0\n",
       "dtype: int64"
      ]
     },
     "execution_count": 10,
     "metadata": {},
     "output_type": "execute_result"
    }
   ],
   "source": [
    "df.isnull().sum()"
   ]
  },
  {
   "cell_type": "code",
   "execution_count": 11,
   "metadata": {},
   "outputs": [
    {
     "data": {
      "text/plain": [
       "array([' State-gov', ' Self-emp-not-inc', ' Private', ' Federal-gov',\n",
       "       ' Local-gov', ' ?', ' Self-emp-inc', ' Without-pay',\n",
       "       ' Never-worked'], dtype=object)"
      ]
     },
     "execution_count": 11,
     "metadata": {},
     "output_type": "execute_result"
    }
   ],
   "source": [
    "df.workclass.unique()"
   ]
  },
  {
   "cell_type": "markdown",
   "metadata": {},
   "source": [
    "Replacing ' ?' with Nan for data cleaning"
   ]
  },
  {
   "cell_type": "code",
   "execution_count": 12,
   "metadata": {},
   "outputs": [],
   "source": [
    "df.replace(' ?',np.nan,inplace=True)"
   ]
  },
  {
   "cell_type": "code",
   "execution_count": 13,
   "metadata": {},
   "outputs": [
    {
     "data": {
      "text/plain": [
       "age                  0\n",
       "workclass         1836\n",
       "fnlwgt               0\n",
       "education            0\n",
       "education-num        0\n",
       "marital-status       0\n",
       "occupation        1843\n",
       "relationship         0\n",
       "race                 0\n",
       "sex                  0\n",
       "capital-gain         0\n",
       "capital-loss         0\n",
       "hours-per-week       0\n",
       "native-country     583\n",
       "salary               0\n",
       "dtype: int64"
      ]
     },
     "execution_count": 13,
     "metadata": {},
     "output_type": "execute_result"
    }
   ],
   "source": [
    "df.isnull().sum()"
   ]
  },
  {
   "cell_type": "code",
   "execution_count": 14,
   "metadata": {},
   "outputs": [
    {
     "data": {
      "text/plain": [
       "age                int64\n",
       "workclass         object\n",
       "fnlwgt             int64\n",
       "education         object\n",
       "education-num      int64\n",
       "marital-status    object\n",
       "occupation        object\n",
       "relationship      object\n",
       "race              object\n",
       "sex               object\n",
       "capital-gain       int64\n",
       "capital-loss       int64\n",
       "hours-per-week     int64\n",
       "native-country    object\n",
       "salary            object\n",
       "dtype: object"
      ]
     },
     "execution_count": 14,
     "metadata": {},
     "output_type": "execute_result"
    }
   ],
   "source": [
    "df.dtypes"
   ]
  },
  {
   "cell_type": "markdown",
   "metadata": {},
   "source": [
    "#### Salary"
   ]
  },
  {
   "cell_type": "code",
   "execution_count": 15,
   "metadata": {},
   "outputs": [
    {
     "data": {
      "text/plain": [
       "array([' <=50K', ' >50K'], dtype=object)"
      ]
     },
     "execution_count": 15,
     "metadata": {},
     "output_type": "execute_result"
    }
   ],
   "source": [
    "df.salary.unique()"
   ]
  },
  {
   "cell_type": "code",
   "execution_count": 16,
   "metadata": {},
   "outputs": [],
   "source": [
    "df = df.replace({' <=50K':0,' >50K':1})"
   ]
  },
  {
   "cell_type": "code",
   "execution_count": 17,
   "metadata": {},
   "outputs": [
    {
     "data": {
      "text/plain": [
       "<matplotlib.axes._subplots.AxesSubplot at 0x29ac45e6608>"
      ]
     },
     "execution_count": 17,
     "metadata": {},
     "output_type": "execute_result"
    },
    {
     "data": {
      "image/png": "[encoded data removed]",
      "text/plain": [
       "<Figure size 432x288 with 1 Axes>"
      ]
     },
     "metadata": {
      "needs_background": "light"
     },
     "output_type": "display_data"
    }
   ],
   "source": [
    "sns.countplot(df['salary'])"
   ]
  },
  {
   "cell_type": "code",
   "execution_count": 18,
   "metadata": {},
   "outputs": [
    {
     "data": {
      "text/plain": [
       "0    24720\n",
       "1     7841\n",
       "Name: salary, dtype: int64"
      ]
     },
     "execution_count": 18,
     "metadata": {},
     "output_type": "execute_result"
    }
   ],
   "source": [
    "df['salary'].value_counts()"
   ]
  },
  {
   "cell_type": "markdown",
   "metadata": {},
   "source": [
    "#### Workclass"
   ]
  },
  {
   "cell_type": "code",
   "execution_count": 19,
   "metadata": {},
   "outputs": [
    {
     "data": {
      "text/plain": [
       "array([' State-gov', ' Self-emp-not-inc', ' Private', ' Federal-gov',\n",
       "       ' Local-gov', nan, ' Self-emp-inc', ' Without-pay',\n",
       "       ' Never-worked'], dtype=object)"
      ]
     },
     "execution_count": 19,
     "metadata": {},
     "output_type": "execute_result"
    }
   ],
   "source": [
    "df.workclass.unique()"
   ]
  },
  {
   "cell_type": "code",
   "execution_count": 20,
   "metadata": {},
   "outputs": [
    {
     "data": {
      "text/plain": [
       " Private             22696\n",
       " Self-emp-not-inc     2541\n",
       " Local-gov            2093\n",
       " State-gov            1298\n",
       " Self-emp-inc         1116\n",
       " Federal-gov           960\n",
       " Without-pay            14\n",
       " Never-worked            7\n",
       "Name: workclass, dtype: int64"
      ]
     },
     "execution_count": 20,
     "metadata": {},
     "output_type": "execute_result"
    }
   ],
   "source": [
    "df['workclass'].value_counts()"
   ]
  },
  {
   "cell_type": "code",
   "execution_count": 21,
   "metadata": {},
   "outputs": [],
   "source": [
    "df= df.replace(' Without-pay', ' Never-worked')"
   ]
  },
  {
   "cell_type": "code",
   "execution_count": 22,
   "metadata": {},
   "outputs": [
    {
     "data": {
      "text/plain": [
       " Private             22696\n",
       " Self-emp-not-inc     2541\n",
       " Local-gov            2093\n",
       " State-gov            1298\n",
       " Self-emp-inc         1116\n",
       " Federal-gov           960\n",
       " Never-worked           21\n",
       "Name: workclass, dtype: int64"
      ]
     },
     "execution_count": 22,
     "metadata": {},
     "output_type": "execute_result"
    }
   ],
   "source": [
    "df['workclass'].value_counts()"
   ]
  },
  {
   "cell_type": "code",
   "execution_count": 23,
   "metadata": {},
   "outputs": [
    {
     "data": {
      "text/plain": [
       "(array([0, 1, 2, 3, 4, 5, 6]), <a list of 7 Text xticklabel objects>)"
      ]
     },
     "execution_count": 23,
     "metadata": {},
     "output_type": "execute_result"
    },
    {
     "data": {
      "image/png": "[encoded data removed]",
      "text/plain": [
       "<Figure size 720x576 with 1 Axes>"
      ]
     },
     "metadata": {
      "needs_background": "light"
     },
     "output_type": "display_data"
    }
   ],
   "source": [
    "plt.figure(figsize=(10,8))\n",
    "sns.countplot(df['workclass'])\n",
    "plt.xticks(rotation=60)"
   ]
  },
  {
   "cell_type": "code",
   "execution_count": 24,
   "metadata": {},
   "outputs": [],
   "source": [
    "df['workclass'].fillna('0',inplace=True)"
   ]
  },
  {
   "cell_type": "code",
   "execution_count": 25,
   "metadata": {},
   "outputs": [
    {
     "data": {
      "text/plain": [
       "(array([0, 1, 2, 3, 4, 5, 6, 7]), <a list of 8 Text xticklabel objects>)"
      ]
     },
     "execution_count": 25,
     "metadata": {},
     "output_type": "execute_result"
    },
    {
     "data": {
      "image/png": "[encoded data removed]",
      "text/plain": [
       "<Figure size 720x576 with 1 Axes>"
      ]
     },
     "metadata": {
      "needs_background": "light"
     },
     "output_type": "display_data"
    }
   ],
   "source": [
    "plt.figure(figsize=(10,8))\n",
    "sns.countplot(df['workclass'])\n",
    "plt.xticks(rotation=60)"
   ]
  },
  {
   "cell_type": "markdown",
   "metadata": {},
   "source": [
    "#### Fnlwgt"
   ]
  },
  {
   "cell_type": "code",
   "execution_count": 26,
   "metadata": {},
   "outputs": [
    {
     "data": {
      "text/plain": [
       "count    3.256100e+04\n",
       "mean     1.897784e+05\n",
       "std      1.055500e+05\n",
       "min      1.228500e+04\n",
       "25%      1.178270e+05\n",
       "50%      1.783560e+05\n",
       "75%      2.370510e+05\n",
       "max      1.484705e+06\n",
       "Name: fnlwgt, dtype: float64"
      ]
     },
     "execution_count": 26,
     "metadata": {},
     "output_type": "execute_result"
    }
   ],
   "source": [
    "df['fnlwgt'].describe()"
   ]
  },
  {
   "cell_type": "code",
   "execution_count": 27,
   "metadata": {},
   "outputs": [
    {
     "data": {
      "text/plain": [
       "count    32561.000000\n",
       "mean        11.983778\n",
       "std          0.630738\n",
       "min          9.416216\n",
       "25%         11.676981\n",
       "50%         12.091542\n",
       "75%         12.376035\n",
       "max         14.210727\n",
       "Name: fnlwgt, dtype: float64"
      ]
     },
     "execution_count": 27,
     "metadata": {},
     "output_type": "execute_result"
    }
   ],
   "source": [
    "df['fnlwgt'] = df['fnlwgt'].apply(lambda x :np.log1p(x))\n",
    "\n",
    "df['fnlwgt'].describe()"
   ]
  },
  {
   "cell_type": "markdown",
   "metadata": {},
   "source": [
    "#### Education"
   ]
  },
  {
   "cell_type": "code",
   "execution_count": 28,
   "metadata": {},
   "outputs": [
    {
     "data": {
      "text/plain": [
       " HS-grad         10501\n",
       " Some-college     7291\n",
       " Bachelors        5355\n",
       " Masters          1723\n",
       " Assoc-voc        1382\n",
       " 11th             1175\n",
       " Assoc-acdm       1067\n",
       " 10th              933\n",
       " 7th-8th           646\n",
       " Prof-school       576\n",
       " 9th               514\n",
       " 12th              433\n",
       " Doctorate         413\n",
       " 5th-6th           333\n",
       " 1st-4th           168\n",
       " Preschool          51\n",
       "Name: education, dtype: int64"
      ]
     },
     "execution_count": 28,
     "metadata": {},
     "output_type": "execute_result"
    }
   ],
   "source": [
    "df['education'].value_counts()"
   ]
  },
  {
   "cell_type": "code",
   "execution_count": 29,
   "metadata": {},
   "outputs": [
    {
     "data": {
      "text/plain": [
       "(array([ 0,  1,  2,  3,  4,  5,  6,  7,  8,  9, 10, 11, 12, 13, 14, 15]),\n",
       " <a list of 16 Text xticklabel objects>)"
      ]
     },
     "execution_count": 29,
     "metadata": {},
     "output_type": "execute_result"
    },
    {
     "data": {
      "image/png": "[encoded data removed]",
      "text/plain": [
       "<Figure size 720x720 with 1 Axes>"
      ]
     },
     "metadata": {
      "needs_background": "light"
     },
     "output_type": "display_data"
    }
   ],
   "source": [
    "sns.catplot(x='education',y='salary',data=df,height=10,palette='muted',kind='bar')\n",
    "plt.xticks(rotation=60)"
   ]
  },
  {
   "cell_type": "code",
   "execution_count": 30,
   "metadata": {},
   "outputs": [],
   "source": [
    "def primary(x):\n",
    "    if x in [' 1st-4th', ' 5th-6th', ' 7th-8th', ' 9th', ' 10th', ' 11th', ' 12th']:\n",
    "        return 'Primary'\n",
    "    else:\n",
    "        return x"
   ]
  },
  {
   "cell_type": "code",
   "execution_count": 31,
   "metadata": {},
   "outputs": [],
   "source": [
    "df['education'] = df['education'].apply(primary)"
   ]
  },
  {
   "cell_type": "code",
   "execution_count": 32,
   "metadata": {},
   "outputs": [
    {
     "data": {
      "text/plain": [
       "(array([0, 1, 2, 3, 4, 5, 6, 7, 8, 9]), <a list of 10 Text xticklabel objects>)"
      ]
     },
     "execution_count": 32,
     "metadata": {},
     "output_type": "execute_result"
    },
    {
     "data": {
      "image/png": "[encoded data removed]",
      "text/plain": [
       "<Figure size 720x720 with 1 Axes>"
      ]
     },
     "metadata": {
      "needs_background": "light"
     },
     "output_type": "display_data"
    }
   ],
   "source": [
    "sns.catplot(x='education',y='salary',data=df,height=10,palette='muted',kind='bar')\n",
    "plt.xticks(rotation=60)"
   ]
  },
  {
   "cell_type": "markdown",
   "metadata": {},
   "source": [
    "#### Marital-status"
   ]
  },
  {
   "cell_type": "code",
   "execution_count": 33,
   "metadata": {},
   "outputs": [
    {
     "data": {
      "text/plain": [
       " Married-civ-spouse       14976\n",
       " Never-married            10683\n",
       " Divorced                  4443\n",
       " Separated                 1025\n",
       " Widowed                    993\n",
       " Married-spouse-absent      418\n",
       " Married-AF-spouse           23\n",
       "Name: marital-status, dtype: int64"
      ]
     },
     "execution_count": 33,
     "metadata": {},
     "output_type": "execute_result"
    }
   ],
   "source": [
    "df['marital-status'].value_counts()"
   ]
  },
  {
   "cell_type": "code",
   "execution_count": 34,
   "metadata": {},
   "outputs": [],
   "source": [
    "df['marital-status'].replace(' Married-AF-spouse', ' Married-civ-spouse',inplace=True)"
   ]
  },
  {
   "cell_type": "code",
   "execution_count": 35,
   "metadata": {},
   "outputs": [
    {
     "data": {
      "text/plain": [
       "(array([0, 1, 2, 3, 4, 5]), <a list of 6 Text xticklabel objects>)"
      ]
     },
     "execution_count": 35,
     "metadata": {},
     "output_type": "execute_result"
    },
    {
     "data": {
      "image/png": "[encoded data removed]",
      "text/plain": [
       "<Figure size 576x576 with 1 Axes>"
      ]
     },
     "metadata": {
      "needs_background": "light"
     },
     "output_type": "display_data"
    }
   ],
   "source": [
    "sns.catplot(x='marital-status',y='salary',data=df,palette='muted',kind='bar',height=8)\n",
    "plt.xticks(rotation=60)"
   ]
  },
  {
   "cell_type": "markdown",
   "metadata": {},
   "source": [
    "#### Occupation"
   ]
  },
  {
   "cell_type": "code",
   "execution_count": 36,
   "metadata": {},
   "outputs": [
    {
     "data": {
      "text/plain": [
       " Prof-specialty       4140\n",
       " Craft-repair         4099\n",
       " Exec-managerial      4066\n",
       " Adm-clerical         3770\n",
       " Sales                3650\n",
       " Other-service        3295\n",
       " Machine-op-inspct    2002\n",
       "0                     1843\n",
       " Transport-moving     1597\n",
       " Handlers-cleaners    1370\n",
       " Farming-fishing       994\n",
       " Tech-support          928\n",
       " Protective-serv       649\n",
       " Priv-house-serv       149\n",
       " Armed-Forces            9\n",
       "Name: occupation, dtype: int64"
      ]
     },
     "execution_count": 36,
     "metadata": {},
     "output_type": "execute_result"
    }
   ],
   "source": [
    "df['occupation'].fillna('0',inplace=True)\n",
    "\n",
    "df['occupation'].value_counts()"
   ]
  },
  {
   "cell_type": "code",
   "execution_count": 37,
   "metadata": {},
   "outputs": [
    {
     "data": {
      "text/plain": [
       " Prof-specialty       4140\n",
       " Craft-repair         4099\n",
       " Exec-managerial      4066\n",
       " Adm-clerical         3770\n",
       " Sales                3650\n",
       " Other-service        3295\n",
       " Machine-op-inspct    2002\n",
       "0                     1852\n",
       " Transport-moving     1597\n",
       " Handlers-cleaners    1370\n",
       " Farming-fishing       994\n",
       " Tech-support          928\n",
       " Protective-serv       649\n",
       " Priv-house-serv       149\n",
       "Name: occupation, dtype: int64"
      ]
     },
     "execution_count": 37,
     "metadata": {},
     "output_type": "execute_result"
    }
   ],
   "source": [
    "df['occupation'].replace(' Armed-Forces','0',inplace=True)\n",
    "\n",
    "df['occupation'].value_counts()"
   ]
  },
  {
   "cell_type": "code",
   "execution_count": 38,
   "metadata": {},
   "outputs": [
    {
     "data": {
      "text/plain": [
       "(array([ 0,  1,  2,  3,  4,  5,  6,  7,  8,  9, 10, 11, 12, 13]),\n",
       " <a list of 14 Text xticklabel objects>)"
      ]
     },
     "execution_count": 38,
     "metadata": {},
     "output_type": "execute_result"
    },
    {
     "data": {
      "image/png": "[encoded data removed]",
      "text/plain": [
       "<Figure size 576x576 with 1 Axes>"
      ]
     },
     "metadata": {
      "needs_background": "light"
     },
     "output_type": "display_data"
    }
   ],
   "source": [
    "sns.catplot(x='occupation',y='salary',data=df,palette='muted',kind='bar',height=8)\n",
    "plt.xticks(rotation=60)"
   ]
  },
  {
   "cell_type": "markdown",
   "metadata": {},
   "source": [
    "#### Relationship"
   ]
  },
  {
   "cell_type": "code",
   "execution_count": 39,
   "metadata": {},
   "outputs": [
    {
     "data": {
      "text/plain": [
       " Husband           13193\n",
       " Not-in-family      8305\n",
       " Own-child          5068\n",
       " Unmarried          3446\n",
       " Wife               1568\n",
       " Other-relative      981\n",
       "Name: relationship, dtype: int64"
      ]
     },
     "execution_count": 39,
     "metadata": {},
     "output_type": "execute_result"
    }
   ],
   "source": [
    "df['relationship'].value_counts()"
   ]
  },
  {
   "cell_type": "markdown",
   "metadata": {},
   "source": [
    "#### Race"
   ]
  },
  {
   "cell_type": "code",
   "execution_count": 40,
   "metadata": {},
   "outputs": [
    {
     "data": {
      "text/plain": [
       " White                 27816\n",
       " Black                  3124\n",
       " Asian-Pac-Islander     1039\n",
       " Amer-Indian-Eskimo      311\n",
       " Other                   271\n",
       "Name: race, dtype: int64"
      ]
     },
     "execution_count": 40,
     "metadata": {},
     "output_type": "execute_result"
    }
   ],
   "source": [
    "df['race'].value_counts()"
   ]
  },
  {
   "cell_type": "markdown",
   "metadata": {},
   "source": [
    "#### Sex"
   ]
  },
  {
   "cell_type": "code",
   "execution_count": 41,
   "metadata": {},
   "outputs": [
    {
     "data": {
      "text/plain": [
       " Male      21790\n",
       " Female    10771\n",
       "Name: sex, dtype: int64"
      ]
     },
     "execution_count": 41,
     "metadata": {},
     "output_type": "execute_result"
    }
   ],
   "source": [
    "df['sex'].value_counts()"
   ]
  },
  {
   "cell_type": "code",
   "execution_count": 42,
   "metadata": {},
   "outputs": [
    {
     "data": {
      "text/plain": [
       "Index(['age', 'workclass', 'fnlwgt', 'education', 'education-num',\n",
       "       'marital-status', 'occupation', 'relationship', 'race', 'sex',\n",
       "       'capital-gain', 'capital-loss', 'hours-per-week', 'native-country',\n",
       "       'salary'],\n",
       "      dtype='object')"
      ]
     },
     "execution_count": 42,
     "metadata": {},
     "output_type": "execute_result"
    }
   ],
   "source": [
    "df.columns"
   ]
  },
  {
   "cell_type": "markdown",
   "metadata": {},
   "source": [
    "#### Native-Country"
   ]
  },
  {
   "cell_type": "code",
   "execution_count": 43,
   "metadata": {},
   "outputs": [
    {
     "data": {
      "text/plain": [
       "array([' United-States', ' Cuba', ' Jamaica', ' India', nan, ' Mexico',\n",
       "       ' South', ' Puerto-Rico', ' Honduras', ' England', ' Canada',\n",
       "       ' Germany', ' Iran', ' Philippines', ' Italy', ' Poland',\n",
       "       ' Columbia', ' Cambodia', ' Thailand', ' Ecuador', ' Laos',\n",
       "       ' Taiwan', ' Haiti', ' Portugal', ' Dominican-Republic',\n",
       "       ' El-Salvador', ' France', ' Guatemala', ' China', ' Japan',\n",
       "       ' Yugoslavia', ' Peru', ' Outlying-US(Guam-USVI-etc)', ' Scotland',\n",
       "       ' Trinadad&Tobago', ' Greece', ' Nicaragua', ' Vietnam', ' Hong',\n",
       "       ' Ireland', ' Hungary', ' Holand-Netherlands'], dtype=object)"
      ]
     },
     "execution_count": 43,
     "metadata": {},
     "output_type": "execute_result"
    }
   ],
   "source": [
    "df['native-country'].unique()"
   ]
  },
  {
   "cell_type": "code",
   "execution_count": 44,
   "metadata": {},
   "outputs": [],
   "source": [
    "def native(country):\n",
    "    if country in [' United-States',' Canada']:\n",
    "        return 'North_America'\n",
    "    elif country in [' Puerto-Rico',' El-Salvador',' Cuba',' Jamaica',' Dominican-Republic',' Guatemala',' Haiti',' Nicaragua',' Trinadad&Tobago',' Honduras']:\n",
    "        return 'Central_America' \n",
    "    elif country in [' Mexico',' Columbia',' Vietnam',' Peru',' Ecuador',' South',' Outlying-US(Guam-USVI-etc)']:\n",
    "        return 'South_America'\n",
    "    elif country in [' Germany',' England',' Italy',' Poland',' Portugal',' Greece',' Yugoslavia',' France',' Ireland',' Scotland',' Hungary',' Holand-Netherlands']:\n",
    "        return 'EU'\n",
    "    elif country in [' India',' Iran',' China',' Japan',' Thailand',' Hong',' Cambodia',' Laos',' Philippines',' Taiwan']:\n",
    "        return 'Asian'\n",
    "    else:\n",
    "        return country"
   ]
  },
  {
   "cell_type": "code",
   "execution_count": 45,
   "metadata": {},
   "outputs": [],
   "source": [
    "df['native-country'] = df['native-country'].apply(native)"
   ]
  },
  {
   "cell_type": "code",
   "execution_count": 46,
   "metadata": {},
   "outputs": [
    {
     "data": {
      "text/plain": [
       "(array([0, 1, 2, 3, 4]), <a list of 5 Text xticklabel objects>)"
      ]
     },
     "execution_count": 46,
     "metadata": {},
     "output_type": "execute_result"
    },
    {
     "data": {
      "image/png": "[encoded data removed]",
      "text/plain": [
       "<Figure size 576x576 with 1 Axes>"
      ]
     },
     "metadata": {
      "needs_background": "light"
     },
     "output_type": "display_data"
    }
   ],
   "source": [
    "sns.catplot(x='native-country',y='salary',data=df,palette='muted',kind='bar',height=8)\n",
    "plt.xticks(rotation=60)"
   ]
  },
  {
   "cell_type": "markdown",
   "metadata": {},
   "source": [
    "Let's check our data's correlation with the help of Heatmap"
   ]
  },
  {
   "cell_type": "code",
   "execution_count": 47,
   "metadata": {},
   "outputs": [
    {
     "data": {
      "text/plain": [
       "<matplotlib.axes._subplots.AxesSubplot at 0x29ac5122048>"
      ]
     },
     "execution_count": 47,
     "metadata": {},
     "output_type": "execute_result"
    },
    {
     "data": {
      "image/png": "[encoded data removed]",
      "text/plain": [
       "<Figure size 720x864 with 2 Axes>"
      ]
     },
     "metadata": {
      "needs_background": "light"
     },
     "output_type": "display_data"
    }
   ],
   "source": [
    "corr = df.corr()\n",
    "plt.figure(figsize=(10,12))\n",
    "sns.heatmap(corr,annot=True)"
   ]
  },
  {
   "cell_type": "markdown",
   "metadata": {},
   "source": [
    "As we can see that corr values of fnlwgt are very low, Hence we can drop it safely."
   ]
  },
  {
   "cell_type": "code",
   "execution_count": 48,
   "metadata": {},
   "outputs": [],
   "source": [
    "df.drop('fnlwgt',axis=1,inplace=True)"
   ]
  },
  {
   "cell_type": "code",
   "execution_count": 49,
   "metadata": {},
   "outputs": [
    {
     "data": {
      "text/html": [
       "<div>\n",
       "<style scoped>\n",
       "    .dataframe tbody tr th:only-of-type {\n",
       "        vertical-align: middle;\n",
       "    }\n",
       "\n",
       "    .dataframe tbody tr th {\n",
       "        vertical-align: top;\n",
       "    }\n",
       "\n",
       "    .dataframe thead th {\n",
       "        text-align: right;\n",
       "    }\n",
       "</style>\n",
       "<table border=\"1\" class=\"dataframe\">\n",
       "  <thead>\n",
       "    <tr style=\"text-align: right;\">\n",
       "      <th></th>\n",
       "      <th>age</th>\n",
       "      <th>workclass</th>\n",
       "      <th>education</th>\n",
       "      <th>education-num</th>\n",
       "      <th>marital-status</th>\n",
       "      <th>occupation</th>\n",
       "      <th>relationship</th>\n",
       "      <th>race</th>\n",
       "      <th>sex</th>\n",
       "      <th>capital-gain</th>\n",
       "      <th>capital-loss</th>\n",
       "      <th>hours-per-week</th>\n",
       "      <th>native-country</th>\n",
       "      <th>salary</th>\n",
       "    </tr>\n",
       "  </thead>\n",
       "  <tbody>\n",
       "    <tr>\n",
       "      <th>0</th>\n",
       "      <td>39</td>\n",
       "      <td>State-gov</td>\n",
       "      <td>Bachelors</td>\n",
       "      <td>13</td>\n",
       "      <td>Never-married</td>\n",
       "      <td>Adm-clerical</td>\n",
       "      <td>Not-in-family</td>\n",
       "      <td>White</td>\n",
       "      <td>Male</td>\n",
       "      <td>2174</td>\n",
       "      <td>0</td>\n",
       "      <td>40</td>\n",
       "      <td>North_America</td>\n",
       "      <td>0</td>\n",
       "    </tr>\n",
       "    <tr>\n",
       "      <th>1</th>\n",
       "      <td>50</td>\n",
       "      <td>Self-emp-not-inc</td>\n",
       "      <td>Bachelors</td>\n",
       "      <td>13</td>\n",
       "      <td>Married-civ-spouse</td>\n",
       "      <td>Exec-managerial</td>\n",
       "      <td>Husband</td>\n",
       "      <td>White</td>\n",
       "      <td>Male</td>\n",
       "      <td>0</td>\n",
       "      <td>0</td>\n",
       "      <td>13</td>\n",
       "      <td>North_America</td>\n",
       "      <td>0</td>\n",
       "    </tr>\n",
       "    <tr>\n",
       "      <th>2</th>\n",
       "      <td>38</td>\n",
       "      <td>Private</td>\n",
       "      <td>HS-grad</td>\n",
       "      <td>9</td>\n",
       "      <td>Divorced</td>\n",
       "      <td>Handlers-cleaners</td>\n",
       "      <td>Not-in-family</td>\n",
       "      <td>White</td>\n",
       "      <td>Male</td>\n",
       "      <td>0</td>\n",
       "      <td>0</td>\n",
       "      <td>40</td>\n",
       "      <td>North_America</td>\n",
       "      <td>0</td>\n",
       "    </tr>\n",
       "    <tr>\n",
       "      <th>3</th>\n",
       "      <td>53</td>\n",
       "      <td>Private</td>\n",
       "      <td>Primary</td>\n",
       "      <td>7</td>\n",
       "      <td>Married-civ-spouse</td>\n",
       "      <td>Handlers-cleaners</td>\n",
       "      <td>Husband</td>\n",
       "      <td>Black</td>\n",
       "      <td>Male</td>\n",
       "      <td>0</td>\n",
       "      <td>0</td>\n",
       "      <td>40</td>\n",
       "      <td>North_America</td>\n",
       "      <td>0</td>\n",
       "    </tr>\n",
       "    <tr>\n",
       "      <th>4</th>\n",
       "      <td>28</td>\n",
       "      <td>Private</td>\n",
       "      <td>Bachelors</td>\n",
       "      <td>13</td>\n",
       "      <td>Married-civ-spouse</td>\n",
       "      <td>Prof-specialty</td>\n",
       "      <td>Wife</td>\n",
       "      <td>Black</td>\n",
       "      <td>Female</td>\n",
       "      <td>0</td>\n",
       "      <td>0</td>\n",
       "      <td>40</td>\n",
       "      <td>Central_America</td>\n",
       "      <td>0</td>\n",
       "    </tr>\n",
       "  </tbody>\n",
       "</table>\n",
       "</div>"
      ],
      "text/plain": [
       "   age          workclass   education  education-num       marital-status  \\\n",
       "0   39          State-gov   Bachelors             13        Never-married   \n",
       "1   50   Self-emp-not-inc   Bachelors             13   Married-civ-spouse   \n",
       "2   38            Private     HS-grad              9             Divorced   \n",
       "3   53            Private     Primary              7   Married-civ-spouse   \n",
       "4   28            Private   Bachelors             13   Married-civ-spouse   \n",
       "\n",
       "           occupation    relationship    race      sex  capital-gain  \\\n",
       "0        Adm-clerical   Not-in-family   White     Male          2174   \n",
       "1     Exec-managerial         Husband   White     Male             0   \n",
       "2   Handlers-cleaners   Not-in-family   White     Male             0   \n",
       "3   Handlers-cleaners         Husband   Black     Male             0   \n",
       "4      Prof-specialty            Wife   Black   Female             0   \n",
       "\n",
       "   capital-loss  hours-per-week   native-country  salary  \n",
       "0             0              40    North_America       0  \n",
       "1             0              13    North_America       0  \n",
       "2             0              40    North_America       0  \n",
       "3             0              40    North_America       0  \n",
       "4             0              40  Central_America       0  "
      ]
     },
     "execution_count": 49,
     "metadata": {},
     "output_type": "execute_result"
    }
   ],
   "source": [
    "df.head()"
   ]
  },
  {
   "cell_type": "markdown",
   "metadata": {},
   "source": [
    "### Dividing Data into 'X' and 'y'"
   ]
  },
  {
   "cell_type": "code",
   "execution_count": 50,
   "metadata": {},
   "outputs": [],
   "source": [
    "X = df.drop('salary',axis=1)\n",
    "y = df['salary']"
   ]
  },
  {
   "cell_type": "code",
   "execution_count": 51,
   "metadata": {},
   "outputs": [
    {
     "data": {
      "text/plain": [
       "Index(['age', 'workclass', 'education', 'education-num', 'marital-status',\n",
       "       'occupation', 'relationship', 'race', 'sex', 'capital-gain',\n",
       "       'capital-loss', 'hours-per-week', 'native-country'],\n",
       "      dtype='object')"
      ]
     },
     "execution_count": 51,
     "metadata": {},
     "output_type": "execute_result"
    }
   ],
   "source": [
    "X.columns"
   ]
  },
  {
   "cell_type": "markdown",
   "metadata": {},
   "source": [
    "Converting Categorical data into Numerical Data "
   ]
  },
  {
   "cell_type": "code",
   "execution_count": 52,
   "metadata": {},
   "outputs": [],
   "source": [
    "X_d = pd.get_dummies(X)"
   ]
  },
  {
   "cell_type": "code",
   "execution_count": 53,
   "metadata": {},
   "outputs": [
    {
     "data": {
      "text/html": [
       "<div>\n",
       "<style scoped>\n",
       "    .dataframe tbody tr th:only-of-type {\n",
       "        vertical-align: middle;\n",
       "    }\n",
       "\n",
       "    .dataframe tbody tr th {\n",
       "        vertical-align: top;\n",
       "    }\n",
       "\n",
       "    .dataframe thead th {\n",
       "        text-align: right;\n",
       "    }\n",
       "</style>\n",
       "<table border=\"1\" class=\"dataframe\">\n",
       "  <thead>\n",
       "    <tr style=\"text-align: right;\">\n",
       "      <th></th>\n",
       "      <th>age</th>\n",
       "      <th>education-num</th>\n",
       "      <th>capital-gain</th>\n",
       "      <th>capital-loss</th>\n",
       "      <th>hours-per-week</th>\n",
       "      <th>workclass_ Federal-gov</th>\n",
       "      <th>workclass_ Local-gov</th>\n",
       "      <th>workclass_ Never-worked</th>\n",
       "      <th>workclass_ Private</th>\n",
       "      <th>workclass_ Self-emp-inc</th>\n",
       "      <th>...</th>\n",
       "      <th>race_ Black</th>\n",
       "      <th>race_ Other</th>\n",
       "      <th>race_ White</th>\n",
       "      <th>sex_ Female</th>\n",
       "      <th>sex_ Male</th>\n",
       "      <th>native-country_Asian</th>\n",
       "      <th>native-country_Central_America</th>\n",
       "      <th>native-country_EU</th>\n",
       "      <th>native-country_North_America</th>\n",
       "      <th>native-country_South_America</th>\n",
       "    </tr>\n",
       "  </thead>\n",
       "  <tbody>\n",
       "    <tr>\n",
       "      <th>0</th>\n",
       "      <td>39</td>\n",
       "      <td>13</td>\n",
       "      <td>2174</td>\n",
       "      <td>0</td>\n",
       "      <td>40</td>\n",
       "      <td>0</td>\n",
       "      <td>0</td>\n",
       "      <td>0</td>\n",
       "      <td>0</td>\n",
       "      <td>0</td>\n",
       "      <td>...</td>\n",
       "      <td>0</td>\n",
       "      <td>0</td>\n",
       "      <td>1</td>\n",
       "      <td>0</td>\n",
       "      <td>1</td>\n",
       "      <td>0</td>\n",
       "      <td>0</td>\n",
       "      <td>0</td>\n",
       "      <td>1</td>\n",
       "      <td>0</td>\n",
       "    </tr>\n",
       "    <tr>\n",
       "      <th>1</th>\n",
       "      <td>50</td>\n",
       "      <td>13</td>\n",
       "      <td>0</td>\n",
       "      <td>0</td>\n",
       "      <td>13</td>\n",
       "      <td>0</td>\n",
       "      <td>0</td>\n",
       "      <td>0</td>\n",
       "      <td>0</td>\n",
       "      <td>0</td>\n",
       "      <td>...</td>\n",
       "      <td>0</td>\n",
       "      <td>0</td>\n",
       "      <td>1</td>\n",
       "      <td>0</td>\n",
       "      <td>1</td>\n",
       "      <td>0</td>\n",
       "      <td>0</td>\n",
       "      <td>0</td>\n",
       "      <td>1</td>\n",
       "      <td>0</td>\n",
       "    </tr>\n",
       "    <tr>\n",
       "      <th>2</th>\n",
       "      <td>38</td>\n",
       "      <td>9</td>\n",
       "      <td>0</td>\n",
       "      <td>0</td>\n",
       "      <td>40</td>\n",
       "      <td>0</td>\n",
       "      <td>0</td>\n",
       "      <td>0</td>\n",
       "      <td>1</td>\n",
       "      <td>0</td>\n",
       "      <td>...</td>\n",
       "      <td>0</td>\n",
       "      <td>0</td>\n",
       "      <td>1</td>\n",
       "      <td>0</td>\n",
       "      <td>1</td>\n",
       "      <td>0</td>\n",
       "      <td>0</td>\n",
       "      <td>0</td>\n",
       "      <td>1</td>\n",
       "      <td>0</td>\n",
       "    </tr>\n",
       "    <tr>\n",
       "      <th>3</th>\n",
       "      <td>53</td>\n",
       "      <td>7</td>\n",
       "      <td>0</td>\n",
       "      <td>0</td>\n",
       "      <td>40</td>\n",
       "      <td>0</td>\n",
       "      <td>0</td>\n",
       "      <td>0</td>\n",
       "      <td>1</td>\n",
       "      <td>0</td>\n",
       "      <td>...</td>\n",
       "      <td>1</td>\n",
       "      <td>0</td>\n",
       "      <td>0</td>\n",
       "      <td>0</td>\n",
       "      <td>1</td>\n",
       "      <td>0</td>\n",
       "      <td>0</td>\n",
       "      <td>0</td>\n",
       "      <td>1</td>\n",
       "      <td>0</td>\n",
       "    </tr>\n",
       "    <tr>\n",
       "      <th>4</th>\n",
       "      <td>28</td>\n",
       "      <td>13</td>\n",
       "      <td>0</td>\n",
       "      <td>0</td>\n",
       "      <td>40</td>\n",
       "      <td>0</td>\n",
       "      <td>0</td>\n",
       "      <td>0</td>\n",
       "      <td>1</td>\n",
       "      <td>0</td>\n",
       "      <td>...</td>\n",
       "      <td>1</td>\n",
       "      <td>0</td>\n",
       "      <td>0</td>\n",
       "      <td>1</td>\n",
       "      <td>0</td>\n",
       "      <td>0</td>\n",
       "      <td>1</td>\n",
       "      <td>0</td>\n",
       "      <td>0</td>\n",
       "      <td>0</td>\n",
       "    </tr>\n",
       "  </tbody>\n",
       "</table>\n",
       "<p>5 rows × 61 columns</p>\n",
       "</div>"
      ],
      "text/plain": [
       "   age  education-num  capital-gain  capital-loss  hours-per-week  \\\n",
       "0   39             13          2174             0              40   \n",
       "1   50             13             0             0              13   \n",
       "2   38              9             0             0              40   \n",
       "3   53              7             0             0              40   \n",
       "4   28             13             0             0              40   \n",
       "\n",
       "   workclass_ Federal-gov  workclass_ Local-gov  workclass_ Never-worked  \\\n",
       "0                       0                     0                        0   \n",
       "1                       0                     0                        0   \n",
       "2                       0                     0                        0   \n",
       "3                       0                     0                        0   \n",
       "4                       0                     0                        0   \n",
       "\n",
       "   workclass_ Private  workclass_ Self-emp-inc  ...  race_ Black  race_ Other  \\\n",
       "0                   0                        0  ...            0            0   \n",
       "1                   0                        0  ...            0            0   \n",
       "2                   1                        0  ...            0            0   \n",
       "3                   1                        0  ...            1            0   \n",
       "4                   1                        0  ...            1            0   \n",
       "\n",
       "   race_ White  sex_ Female  sex_ Male  native-country_Asian  \\\n",
       "0            1            0          1                     0   \n",
       "1            1            0          1                     0   \n",
       "2            1            0          1                     0   \n",
       "3            0            0          1                     0   \n",
       "4            0            1          0                     0   \n",
       "\n",
       "   native-country_Central_America  native-country_EU  \\\n",
       "0                               0                  0   \n",
       "1                               0                  0   \n",
       "2                               0                  0   \n",
       "3                               0                  0   \n",
       "4                               1                  0   \n",
       "\n",
       "   native-country_North_America  native-country_South_America  \n",
       "0                             1                             0  \n",
       "1                             1                             0  \n",
       "2                             1                             0  \n",
       "3                             1                             0  \n",
       "4                             0                             0  \n",
       "\n",
       "[5 rows x 61 columns]"
      ]
     },
     "execution_count": 53,
     "metadata": {},
     "output_type": "execute_result"
    }
   ],
   "source": [
    "X_d.head()"
   ]
  },
  {
   "cell_type": "markdown",
   "metadata": {},
   "source": [
    "#### Train_Test_Split"
   ]
  },
  {
   "cell_type": "code",
   "execution_count": 54,
   "metadata": {},
   "outputs": [],
   "source": [
    "from sklearn.model_selection import train_test_split\n",
    "x_train,x_test,y_train,y_test = train_test_split(X_d,y,test_size=0.3,random_state=101)"
   ]
  },
  {
   "cell_type": "code",
   "execution_count": 55,
   "metadata": {},
   "outputs": [
    {
     "data": {
      "text/plain": [
       "(22792, 61)"
      ]
     },
     "execution_count": 55,
     "metadata": {},
     "output_type": "execute_result"
    }
   ],
   "source": [
    "x_train.shape"
   ]
  },
  {
   "cell_type": "code",
   "execution_count": 56,
   "metadata": {},
   "outputs": [
    {
     "data": {
      "text/plain": [
       "(22792,)"
      ]
     },
     "execution_count": 56,
     "metadata": {},
     "output_type": "execute_result"
    }
   ],
   "source": [
    "y_train.shape"
   ]
  },
  {
   "cell_type": "markdown",
   "metadata": {},
   "source": [
    "#### On Applying Algorithms & Evaluating the Models"
   ]
  },
  {
   "cell_type": "markdown",
   "metadata": {},
   "source": [
    "### 1. Logistic Regression"
   ]
  },
  {
   "cell_type": "code",
   "execution_count": 57,
   "metadata": {},
   "outputs": [
    {
     "name": "stderr",
     "output_type": "stream",
     "text": [
      "C:\\Users\\Shridhar M\\AppData\\Roaming\\Python\\Python37\\site-packages\\sklearn\\linear_model\\logistic.py:432: FutureWarning: Default solver will be changed to 'lbfgs' in 0.22. Specify a solver to silence this warning.\n",
      "  FutureWarning)\n"
     ]
    },
    {
     "data": {
      "text/plain": [
       "LogisticRegression(C=1.0, class_weight=None, dual=False, fit_intercept=True,\n",
       "                   intercept_scaling=1, l1_ratio=None, max_iter=100,\n",
       "                   multi_class='warn', n_jobs=None, penalty='l2',\n",
       "                   random_state=None, solver='warn', tol=0.0001, verbose=0,\n",
       "                   warm_start=False)"
      ]
     },
     "execution_count": 57,
     "metadata": {},
     "output_type": "execute_result"
    }
   ],
   "source": [
    "from sklearn.linear_model import LogisticRegression\n",
    "Lr = LogisticRegression()\n",
    "Lr.fit(x_train,y_train)"
   ]
  },
  {
   "cell_type": "markdown",
   "metadata": {},
   "source": [
    "#### Applying Hyperparams for LogReg model to get best model score"
   ]
  },
  {
   "cell_type": "code",
   "execution_count": 58,
   "metadata": {},
   "outputs": [],
   "source": [
    "penalty = ['l1', 'l2']\n",
    "# C is the inverese of regularization parameter\n",
    "C = np.logspace(0, 4, 10)\n",
    "random_state=[0]\n",
    "# creating a dictionary of hyperparameters\n",
    "hyperparameters = dict(C=C, penalty=penalty, \n",
    "                  random_state=random_state)"
   ]
  },
  {
   "cell_type": "markdown",
   "metadata": {},
   "source": [
    "### GridSearchCV for LogReg"
   ]
  },
  {
   "cell_type": "code",
   "execution_count": 59,
   "metadata": {},
   "outputs": [
    {
     "name": "stdout",
     "output_type": "stream",
     "text": [
      "Fitting 5 folds for each of 20 candidates, totalling 100 fits\n"
     ]
    },
    {
     "name": "stderr",
     "output_type": "stream",
     "text": [
      "[Parallel(n_jobs=-1)]: Using backend LokyBackend with 8 concurrent workers.\n",
      "[Parallel(n_jobs=-1)]: Done  16 tasks      | elapsed:   13.5s\n",
      "[Parallel(n_jobs=-1)]: Done 100 out of 100 | elapsed:   28.6s finished\n",
      "C:\\Users\\Shridhar M\\AppData\\Roaming\\Python\\Python37\\site-packages\\sklearn\\linear_model\\logistic.py:432: FutureWarning: Default solver will be changed to 'lbfgs' in 0.22. Specify a solver to silence this warning.\n",
      "  FutureWarning)\n"
     ]
    },
    {
     "data": {
      "text/plain": [
       "GridSearchCV(cv=5, error_score='raise-deprecating',\n",
       "             estimator=LogisticRegression(C=1.0, class_weight=None, dual=False,\n",
       "                                          fit_intercept=True,\n",
       "                                          intercept_scaling=1, l1_ratio=None,\n",
       "                                          max_iter=100, multi_class='warn',\n",
       "                                          n_jobs=None, penalty='l2',\n",
       "                                          random_state=None, solver='warn',\n",
       "                                          tol=0.0001, verbose=0,\n",
       "                                          warm_start=False),\n",
       "             iid='warn', n_jobs=-1,\n",
       "             param_grid={'C': array([1.00000000e+00, 2.78255940e+00, 7.74263683e+00, 2.15443469e+01,\n",
       "       5.99484250e+01, 1.66810054e+02, 4.64158883e+02, 1.29154967e+03,\n",
       "       3.59381366e+03, 1.00000000e+04]),\n",
       "                         'penalty': ['l1', 'l2'], 'random_state': [0]},\n",
       "             pre_dispatch='2*n_jobs', refit=True, return_train_score=False,\n",
       "             scoring=None, verbose=3)"
      ]
     },
     "execution_count": 59,
     "metadata": {},
     "output_type": "execute_result"
    }
   ],
   "source": [
    "from sklearn.model_selection import GridSearchCV\n",
    "gsv = GridSearchCV(Lr,param_grid=hyperparameters,cv=5,verbose=3,n_jobs=-1)\n",
    "gsv.fit(x_train,y_train)"
   ]
  },
  {
   "cell_type": "markdown",
   "metadata": {},
   "source": [
    "Best_params"
   ]
  },
  {
   "cell_type": "code",
   "execution_count": 60,
   "metadata": {},
   "outputs": [
    {
     "data": {
      "text/plain": [
       "{'C': 1.0, 'penalty': 'l1', 'random_state': 0}"
      ]
     },
     "execution_count": 60,
     "metadata": {},
     "output_type": "execute_result"
    }
   ],
   "source": [
    "gsv.best_params_"
   ]
  },
  {
   "cell_type": "code",
   "execution_count": 61,
   "metadata": {},
   "outputs": [],
   "source": [
    "lr_tuned = LogisticRegression(C=1.0,penalty='l1',random_state=0)"
   ]
  },
  {
   "cell_type": "code",
   "execution_count": 62,
   "metadata": {},
   "outputs": [
    {
     "name": "stderr",
     "output_type": "stream",
     "text": [
      "C:\\Users\\Shridhar M\\AppData\\Roaming\\Python\\Python37\\site-packages\\sklearn\\linear_model\\logistic.py:432: FutureWarning: Default solver will be changed to 'lbfgs' in 0.22. Specify a solver to silence this warning.\n",
      "  FutureWarning)\n"
     ]
    },
    {
     "data": {
      "text/plain": [
       "LogisticRegression(C=1.0, class_weight=None, dual=False, fit_intercept=True,\n",
       "                   intercept_scaling=1, l1_ratio=None, max_iter=100,\n",
       "                   multi_class='warn', n_jobs=None, penalty='l1',\n",
       "                   random_state=0, solver='warn', tol=0.0001, verbose=0,\n",
       "                   warm_start=False)"
      ]
     },
     "execution_count": 62,
     "metadata": {},
     "output_type": "execute_result"
    }
   ],
   "source": [
    "lr_tuned.fit(x_train,y_train)"
   ]
  },
  {
   "cell_type": "code",
   "execution_count": 102,
   "metadata": {},
   "outputs": [],
   "source": [
    "Log_Reg =lr_tuned.score(x_test,y_test)"
   ]
  },
  {
   "cell_type": "code",
   "execution_count": 64,
   "metadata": {},
   "outputs": [],
   "source": [
    "lr_y_pred = lr_tuned.predict(x_test)"
   ]
  },
  {
   "cell_type": "markdown",
   "metadata": {},
   "source": [
    "### Logistic Regression Model Evaluation"
   ]
  },
  {
   "cell_type": "code",
   "execution_count": 76,
   "metadata": {},
   "outputs": [
    {
     "name": "stdout",
     "output_type": "stream",
     "text": [
      "Accuracy_Score:0.8547446002661481\n",
      "**************************************************\n",
      "Classification_Report:              precision    recall  f1-score   support\n",
      "\n",
      "           0       0.88      0.93      0.91      7436\n",
      "           1       0.73      0.61      0.67      2333\n",
      "\n",
      "    accuracy                           0.85      9769\n",
      "   macro avg       0.81      0.77      0.79      9769\n",
      "weighted avg       0.85      0.85      0.85      9769\n",
      "\n",
      "**************************************************\n",
      "Confusion_Matrix:[[6920  516]\n",
      " [ 903 1430]]\n"
     ]
    }
   ],
   "source": [
    "from sklearn.metrics import accuracy_score,classification_report,confusion_matrix,auc\n",
    "print(f\"Accuracy_Score:{accuracy_score(y_test,lr_y_pred)}\")\n",
    "print('*'*50)\n",
    "print(f\"Classification_Report:{classification_report(y_test,lr_y_pred)}\")\n",
    "print('*'*50)\n",
    "print(f\"Confusion_Matrix:{confusion_matrix(y_test,lr_y_pred)}\")"
   ]
  },
  {
   "cell_type": "markdown",
   "metadata": {},
   "source": [
    "### 2. Decision Tree "
   ]
  },
  {
   "cell_type": "code",
   "execution_count": 66,
   "metadata": {},
   "outputs": [
    {
     "data": {
      "text/plain": [
       "DecisionTreeClassifier(class_weight=None, criterion='gini', max_depth=None,\n",
       "                       max_features=None, max_leaf_nodes=None,\n",
       "                       min_impurity_decrease=0.0, min_impurity_split=None,\n",
       "                       min_samples_leaf=1, min_samples_split=2,\n",
       "                       min_weight_fraction_leaf=0.0, presort=False,\n",
       "                       random_state=None, splitter='best')"
      ]
     },
     "execution_count": 66,
     "metadata": {},
     "output_type": "execute_result"
    }
   ],
   "source": [
    "from sklearn.tree import DecisionTreeClassifier\n",
    "dtc = DecisionTreeClassifier()\n",
    "dtc.fit(x_train,y_train)"
   ]
  },
  {
   "cell_type": "markdown",
   "metadata": {},
   "source": [
    "#### Applying grid_params with GridsearchCv for DTC model to get best model score"
   ]
  },
  {
   "cell_type": "code",
   "execution_count": 67,
   "metadata": {},
   "outputs": [],
   "source": [
    "grid_param = {\n",
    "    'criterion': ['gini', 'entropy'],\n",
    "    'max_depth' : range(2,20,2),\n",
    "    'min_samples_leaf' : range(1,10,1),\n",
    "    'min_samples_split': range(2,10,1),\n",
    "    'splitter' : ['best', 'random']\n",
    "    \n",
    "}"
   ]
  },
  {
   "cell_type": "code",
   "execution_count": 68,
   "metadata": {},
   "outputs": [
    {
     "name": "stdout",
     "output_type": "stream",
     "text": [
      "Fitting 5 folds for each of 2592 candidates, totalling 12960 fits\n"
     ]
    },
    {
     "name": "stderr",
     "output_type": "stream",
     "text": [
      "[Parallel(n_jobs=-1)]: Using backend LokyBackend with 8 concurrent workers.\n",
      "[Parallel(n_jobs=-1)]: Done  16 tasks      | elapsed:    0.5s\n",
      "[Parallel(n_jobs=-1)]: Done 208 tasks      | elapsed:    3.7s\n",
      "[Parallel(n_jobs=-1)]: Done 528 tasks      | elapsed:    9.3s\n",
      "[Parallel(n_jobs=-1)]: Done 976 tasks      | elapsed:   17.9s\n",
      "[Parallel(n_jobs=-1)]: Done 1552 tasks      | elapsed:   31.9s\n",
      "[Parallel(n_jobs=-1)]: Done 2256 tasks      | elapsed:   52.6s\n",
      "[Parallel(n_jobs=-1)]: Done 3088 tasks      | elapsed:  1.4min\n",
      "[Parallel(n_jobs=-1)]: Done 3928 tasks      | elapsed:  2.1min\n",
      "[Parallel(n_jobs=-1)]: Done 4472 tasks      | elapsed:  2.6min\n",
      "[Parallel(n_jobs=-1)]: Done 5080 tasks      | elapsed:  3.1min\n",
      "[Parallel(n_jobs=-1)]: Done 5752 tasks      | elapsed:  3.7min\n",
      "[Parallel(n_jobs=-1)]: Done 6488 tasks      | elapsed:  4.4min\n",
      "[Parallel(n_jobs=-1)]: Done 7288 tasks      | elapsed:  4.6min\n",
      "[Parallel(n_jobs=-1)]: Done 8152 tasks      | elapsed:  5.0min\n",
      "[Parallel(n_jobs=-1)]: Done 9080 tasks      | elapsed:  5.7min\n",
      "[Parallel(n_jobs=-1)]: Done 10072 tasks      | elapsed:  6.6min\n",
      "[Parallel(n_jobs=-1)]: Done 11128 tasks      | elapsed:  7.7min\n",
      "[Parallel(n_jobs=-1)]: Done 12248 tasks      | elapsed:  9.0min\n",
      "[Parallel(n_jobs=-1)]: Done 12960 out of 12960 | elapsed:  9.8min finished\n"
     ]
    },
    {
     "data": {
      "text/plain": [
       "GridSearchCV(cv=5, error_score='raise-deprecating',\n",
       "             estimator=DecisionTreeClassifier(class_weight=None,\n",
       "                                              criterion='gini', max_depth=None,\n",
       "                                              max_features=None,\n",
       "                                              max_leaf_nodes=None,\n",
       "                                              min_impurity_decrease=0.0,\n",
       "                                              min_impurity_split=None,\n",
       "                                              min_samples_leaf=1,\n",
       "                                              min_samples_split=2,\n",
       "                                              min_weight_fraction_leaf=0.0,\n",
       "                                              presort=False, random_state=None,\n",
       "                                              splitter='best'),\n",
       "             iid='warn', n_jobs=-1,\n",
       "             param_grid={'criterion': ['gini', 'entropy'],\n",
       "                         'max_depth': range(2, 20, 2),\n",
       "                         'min_samples_leaf': range(1, 10),\n",
       "                         'min_samples_split': range(2, 10),\n",
       "                         'splitter': ['best', 'random']},\n",
       "             pre_dispatch='2*n_jobs', refit=True, return_train_score=False,\n",
       "             scoring=None, verbose=3)"
      ]
     },
     "execution_count": 68,
     "metadata": {},
     "output_type": "execute_result"
    }
   ],
   "source": [
    "gsv = GridSearchCV(dtc,param_grid=grid_param,cv=5,verbose=3,n_jobs=-1)\n",
    "gsv.fit(x_train,y_train)"
   ]
  },
  {
   "cell_type": "markdown",
   "metadata": {},
   "source": [
    "Bestparams"
   ]
  },
  {
   "cell_type": "code",
   "execution_count": 69,
   "metadata": {},
   "outputs": [
    {
     "data": {
      "text/plain": [
       "{'criterion': 'gini',\n",
       " 'max_depth': 10,\n",
       " 'min_samples_leaf': 6,\n",
       " 'min_samples_split': 2,\n",
       " 'splitter': 'best'}"
      ]
     },
     "execution_count": 69,
     "metadata": {},
     "output_type": "execute_result"
    }
   ],
   "source": [
    "gsv.best_params_"
   ]
  },
  {
   "cell_type": "code",
   "execution_count": 70,
   "metadata": {},
   "outputs": [],
   "source": [
    "dtc_tuned = DecisionTreeClassifier(criterion='gini',max_depth=10,min_samples_leaf=6,min_samples_split=2,splitter='best')"
   ]
  },
  {
   "cell_type": "code",
   "execution_count": 71,
   "metadata": {},
   "outputs": [
    {
     "data": {
      "text/plain": [
       "DecisionTreeClassifier(class_weight=None, criterion='gini', max_depth=10,\n",
       "                       max_features=None, max_leaf_nodes=None,\n",
       "                       min_impurity_decrease=0.0, min_impurity_split=None,\n",
       "                       min_samples_leaf=6, min_samples_split=2,\n",
       "                       min_weight_fraction_leaf=0.0, presort=False,\n",
       "                       random_state=None, splitter='best')"
      ]
     },
     "execution_count": 71,
     "metadata": {},
     "output_type": "execute_result"
    }
   ],
   "source": [
    "dtc_tuned.fit(x_train,y_train)"
   ]
  },
  {
   "cell_type": "code",
   "execution_count": 101,
   "metadata": {},
   "outputs": [],
   "source": [
    "Dtc = dtc_tuned.score(x_test,y_test)"
   ]
  },
  {
   "cell_type": "markdown",
   "metadata": {},
   "source": [
    "### Decision Tree Classifier Model Evaluation"
   ]
  },
  {
   "cell_type": "code",
   "execution_count": 73,
   "metadata": {},
   "outputs": [],
   "source": [
    "dtc_y_pred = dtc_tuned.predict(x_test)"
   ]
  },
  {
   "cell_type": "code",
   "execution_count": 74,
   "metadata": {},
   "outputs": [
    {
     "name": "stdout",
     "output_type": "stream",
     "text": [
      "Accuracy_Score:0.8591462790459617\n",
      "**************************************************\n",
      "Classification_Report:              precision    recall  f1-score   support\n",
      "\n",
      "           0       0.88      0.95      0.91      7436\n",
      "           1       0.77      0.58      0.66      2333\n",
      "\n",
      "    accuracy                           0.86      9769\n",
      "   macro avg       0.83      0.76      0.79      9769\n",
      "weighted avg       0.85      0.86      0.85      9769\n",
      "\n",
      "**************************************************\n",
      "Confusion_Matrix:[[7043  393]\n",
      " [ 983 1350]]\n"
     ]
    }
   ],
   "source": [
    "print(f\"Accuracy_Score:{accuracy_score(y_test,dtc_y_pred)}\")\n",
    "print('*'*50)\n",
    "print(f\"Classification_Report:{classification_report(y_test,dtc_y_pred)}\")\n",
    "print('*'*50)\n",
    "print(f\"Confusion_Matrix:{confusion_matrix(y_test,dtc_y_pred)}\")"
   ]
  },
  {
   "cell_type": "markdown",
   "metadata": {},
   "source": [
    "### 3. Random Forest Classifier"
   ]
  },
  {
   "cell_type": "code",
   "execution_count": 77,
   "metadata": {},
   "outputs": [
    {
     "name": "stderr",
     "output_type": "stream",
     "text": [
      "C:\\Users\\Shridhar M\\AppData\\Roaming\\Python\\Python37\\site-packages\\sklearn\\ensemble\\forest.py:245: FutureWarning: The default value of n_estimators will change from 10 in version 0.20 to 100 in 0.22.\n",
      "  \"10 in version 0.20 to 100 in 0.22.\", FutureWarning)\n"
     ]
    },
    {
     "data": {
      "text/plain": [
       "RandomForestClassifier(bootstrap=True, class_weight=None, criterion='gini',\n",
       "                       max_depth=None, max_features='auto', max_leaf_nodes=None,\n",
       "                       min_impurity_decrease=0.0, min_impurity_split=None,\n",
       "                       min_samples_leaf=1, min_samples_split=2,\n",
       "                       min_weight_fraction_leaf=0.0, n_estimators=10,\n",
       "                       n_jobs=None, oob_score=False, random_state=None,\n",
       "                       verbose=0, warm_start=False)"
      ]
     },
     "execution_count": 77,
     "metadata": {},
     "output_type": "execute_result"
    }
   ],
   "source": [
    "from sklearn.ensemble import RandomForestClassifier\n",
    "rfc = RandomForestClassifier()\n",
    "rfc.fit(x_train,y_train)"
   ]
  },
  {
   "cell_type": "markdown",
   "metadata": {},
   "source": [
    "#### Applying grid_params with GridsearchCv for RFC model to get best model score"
   ]
  },
  {
   "cell_type": "code",
   "execution_count": 78,
   "metadata": {},
   "outputs": [],
   "source": [
    "grid_params = {\"n_estimators\" : [10,15,25,30],\n",
    "              \"max_depth\" : range(1,10,2),\n",
    "              \"min_samples_leaf\" : range(1,10,1),\n",
    "              \"min_samples_split\" : range(2,10,1),\n",
    "              \"max_features\" : ['auto','log2']\n",
    "              }"
   ]
  },
  {
   "cell_type": "code",
   "execution_count": 79,
   "metadata": {},
   "outputs": [
    {
     "name": "stdout",
     "output_type": "stream",
     "text": [
      "Fitting 5 folds for each of 2880 candidates, totalling 14400 fits\n"
     ]
    },
    {
     "name": "stderr",
     "output_type": "stream",
     "text": [
      "[Parallel(n_jobs=-1)]: Using backend LokyBackend with 8 concurrent workers.\n",
      "[Parallel(n_jobs=-1)]: Done  16 tasks      | elapsed:    0.8s\n",
      "[Parallel(n_jobs=-1)]: Done 208 tasks      | elapsed:    8.1s\n",
      "[Parallel(n_jobs=-1)]: Done 528 tasks      | elapsed:   20.2s\n",
      "[Parallel(n_jobs=-1)]: Done 976 tasks      | elapsed:   37.5s\n",
      "[Parallel(n_jobs=-1)]: Done 1360 tasks      | elapsed:   55.0s\n",
      "[Parallel(n_jobs=-1)]: Done 1712 tasks      | elapsed:  1.2min\n",
      "[Parallel(n_jobs=-1)]: Done 2128 tasks      | elapsed:  1.5min\n",
      "[Parallel(n_jobs=-1)]: Done 2608 tasks      | elapsed:  1.8min\n",
      "[Parallel(n_jobs=-1)]: Done 3152 tasks      | elapsed:  2.3min\n",
      "[Parallel(n_jobs=-1)]: Done 3760 tasks      | elapsed:  2.9min\n",
      "[Parallel(n_jobs=-1)]: Done 4432 tasks      | elapsed:  3.6min\n",
      "[Parallel(n_jobs=-1)]: Done 5168 tasks      | elapsed:  4.2min\n",
      "[Parallel(n_jobs=-1)]: Done 5968 tasks      | elapsed:  5.0min\n",
      "[Parallel(n_jobs=-1)]: Done 6832 tasks      | elapsed:  6.2min\n",
      "[Parallel(n_jobs=-1)]: Done 7760 tasks      | elapsed:  7.3min\n",
      "[Parallel(n_jobs=-1)]: Done 8752 tasks      | elapsed:  8.4min\n",
      "[Parallel(n_jobs=-1)]: Done 9808 tasks      | elapsed: 10.1min\n",
      "[Parallel(n_jobs=-1)]: Done 10928 tasks      | elapsed: 11.7min\n",
      "[Parallel(n_jobs=-1)]: Done 12112 tasks      | elapsed: 13.7min\n",
      "[Parallel(n_jobs=-1)]: Done 13360 tasks      | elapsed: 15.9min\n",
      "[Parallel(n_jobs=-1)]: Done 14400 out of 14400 | elapsed: 17.6min finished\n"
     ]
    },
    {
     "data": {
      "text/plain": [
       "GridSearchCV(cv=5, error_score='raise-deprecating',\n",
       "             estimator=RandomForestClassifier(bootstrap=True, class_weight=None,\n",
       "                                              criterion='gini', max_depth=None,\n",
       "                                              max_features='auto',\n",
       "                                              max_leaf_nodes=None,\n",
       "                                              min_impurity_decrease=0.0,\n",
       "                                              min_impurity_split=None,\n",
       "                                              min_samples_leaf=1,\n",
       "                                              min_samples_split=2,\n",
       "                                              min_weight_fraction_leaf=0.0,\n",
       "                                              n_estimators=10, n_jobs=None,\n",
       "                                              oob_score=False,\n",
       "                                              random_state=None, verbose=0,\n",
       "                                              warm_start=False),\n",
       "             iid='warn', n_jobs=-1,\n",
       "             param_grid={'max_depth': range(1, 10, 2),\n",
       "                         'max_features': ['auto', 'log2'],\n",
       "                         'min_samples_leaf': range(1, 10),\n",
       "                         'min_samples_split': range(2, 10),\n",
       "                         'n_estimators': [10, 15, 25, 30]},\n",
       "             pre_dispatch='2*n_jobs', refit=True, return_train_score=False,\n",
       "             scoring=None, verbose=3)"
      ]
     },
     "execution_count": 79,
     "metadata": {},
     "output_type": "execute_result"
    }
   ],
   "source": [
    "gsv = GridSearchCV(rfc,param_grid=grid_params,cv=5,n_jobs=-1,verbose=3)\n",
    "gsv.fit(x_train,y_train)"
   ]
  },
  {
   "cell_type": "code",
   "execution_count": 80,
   "metadata": {},
   "outputs": [
    {
     "data": {
      "text/plain": [
       "{'max_depth': 9,\n",
       " 'max_features': 'auto',\n",
       " 'min_samples_leaf': 1,\n",
       " 'min_samples_split': 8,\n",
       " 'n_estimators': 25}"
      ]
     },
     "execution_count": 80,
     "metadata": {},
     "output_type": "execute_result"
    }
   ],
   "source": [
    "gsv.best_params_"
   ]
  },
  {
   "cell_type": "code",
   "execution_count": 81,
   "metadata": {},
   "outputs": [],
   "source": [
    "rfc_tuned = RandomForestClassifier(max_depth=9,max_features='auto',min_samples_leaf=1,min_samples_split=8,n_estimators=25)"
   ]
  },
  {
   "cell_type": "code",
   "execution_count": 82,
   "metadata": {},
   "outputs": [
    {
     "data": {
      "text/plain": [
       "RandomForestClassifier(bootstrap=True, class_weight=None, criterion='gini',\n",
       "                       max_depth=9, max_features='auto', max_leaf_nodes=None,\n",
       "                       min_impurity_decrease=0.0, min_impurity_split=None,\n",
       "                       min_samples_leaf=1, min_samples_split=8,\n",
       "                       min_weight_fraction_leaf=0.0, n_estimators=25,\n",
       "                       n_jobs=None, oob_score=False, random_state=None,\n",
       "                       verbose=0, warm_start=False)"
      ]
     },
     "execution_count": 82,
     "metadata": {},
     "output_type": "execute_result"
    }
   ],
   "source": [
    "rfc_tuned.fit(x_train,y_train)"
   ]
  },
  {
   "cell_type": "code",
   "execution_count": 100,
   "metadata": {},
   "outputs": [],
   "source": [
    "RFC = rfc_tuned.score(x_test,y_test)"
   ]
  },
  {
   "cell_type": "markdown",
   "metadata": {},
   "source": [
    "### RandomForest Classifier Model Evaluation"
   ]
  },
  {
   "cell_type": "code",
   "execution_count": 84,
   "metadata": {},
   "outputs": [],
   "source": [
    "rfc_y_pred = rfc_tuned.predict(x_test)"
   ]
  },
  {
   "cell_type": "code",
   "execution_count": 85,
   "metadata": {},
   "outputs": [
    {
     "name": "stdout",
     "output_type": "stream",
     "text": [
      "Accuracy_Score:0.8623195823523391\n",
      "**************************************************\n",
      "Classification_Report:              precision    recall  f1-score   support\n",
      "\n",
      "           0       0.88      0.95      0.91      7436\n",
      "           1       0.79      0.57      0.66      2333\n",
      "\n",
      "    accuracy                           0.86      9769\n",
      "   macro avg       0.84      0.76      0.79      9769\n",
      "weighted avg       0.86      0.86      0.85      9769\n",
      "\n",
      "**************************************************\n",
      "Confusion_Matrix:[[7090  346]\n",
      " [ 999 1334]]\n"
     ]
    }
   ],
   "source": [
    "print(f\"Accuracy_Score:{accuracy_score(y_test,rfc_y_pred)}\")\n",
    "print('*'*50)\n",
    "print(f\"Classification_Report:{classification_report(y_test,rfc_y_pred)}\")\n",
    "print('*'*50)\n",
    "print(f\"Confusion_Matrix:{confusion_matrix(y_test,rfc_y_pred)}\")"
   ]
  },
  {
   "cell_type": "markdown",
   "metadata": {},
   "source": [
    "### 4. KNN Classifier"
   ]
  },
  {
   "cell_type": "code",
   "execution_count": 86,
   "metadata": {},
   "outputs": [
    {
     "data": {
      "text/plain": [
       "KNeighborsClassifier(algorithm='auto', leaf_size=30, metric='minkowski',\n",
       "                     metric_params=None, n_jobs=None, n_neighbors=5, p=2,\n",
       "                     weights='uniform')"
      ]
     },
     "execution_count": 86,
     "metadata": {},
     "output_type": "execute_result"
    }
   ],
   "source": [
    "from sklearn.neighbors import KNeighborsClassifier\n",
    "knc = KNeighborsClassifier()\n",
    "knc.fit(x_train,y_train)"
   ]
  },
  {
   "cell_type": "code",
   "execution_count": 87,
   "metadata": {},
   "outputs": [],
   "source": [
    "param_grid = { 'algorithm' : ['ball_tree', 'kd_tree', 'brute'],\n",
    "               'leaf_size' : [18,25,27,30],\n",
    "               'n_neighbors' : [3,7,9,11]\n",
    "              }"
   ]
  },
  {
   "cell_type": "code",
   "execution_count": 88,
   "metadata": {},
   "outputs": [
    {
     "name": "stderr",
     "output_type": "stream",
     "text": [
      "C:\\Users\\Shridhar M\\AppData\\Roaming\\Python\\Python37\\site-packages\\sklearn\\model_selection\\_split.py:1978: FutureWarning: The default value of cv will change from 3 to 5 in version 0.22. Specify it explicitly to silence this warning.\n",
      "  warnings.warn(CV_WARNING, FutureWarning)\n",
      "[Parallel(n_jobs=1)]: Using backend SequentialBackend with 1 concurrent workers.\n"
     ]
    },
    {
     "name": "stdout",
     "output_type": "stream",
     "text": [
      "Fitting 3 folds for each of 48 candidates, totalling 144 fits\n",
      "[CV] algorithm=ball_tree, leaf_size=18, n_neighbors=3 ................\n",
      "[CV]  algorithm=ball_tree, leaf_size=18, n_neighbors=3, score=0.832, total=   4.9s\n",
      "[CV] algorithm=ball_tree, leaf_size=18, n_neighbors=3 ................\n"
     ]
    },
    {
     "name": "stderr",
     "output_type": "stream",
     "text": [
      "[Parallel(n_jobs=1)]: Done   1 out of   1 | elapsed:    4.8s remaining:    0.0s\n"
     ]
    },
    {
     "name": "stdout",
     "output_type": "stream",
     "text": [
      "[CV]  algorithm=ball_tree, leaf_size=18, n_neighbors=3, score=0.834, total=   4.7s\n",
      "[CV] algorithm=ball_tree, leaf_size=18, n_neighbors=3 ................\n"
     ]
    },
    {
     "name": "stderr",
     "output_type": "stream",
     "text": [
      "[Parallel(n_jobs=1)]: Done   2 out of   2 | elapsed:    9.5s remaining:    0.0s\n"
     ]
    },
    {
     "name": "stdout",
     "output_type": "stream",
     "text": [
      "[CV]  algorithm=ball_tree, leaf_size=18, n_neighbors=3, score=0.836, total=   4.8s\n",
      "[CV] algorithm=ball_tree, leaf_size=18, n_neighbors=7 ................\n",
      "[CV]  algorithm=ball_tree, leaf_size=18, n_neighbors=7, score=0.841, total=   4.8s\n",
      "[CV] algorithm=ball_tree, leaf_size=18, n_neighbors=7 ................\n",
      "[CV]  algorithm=ball_tree, leaf_size=18, n_neighbors=7, score=0.841, total=   5.0s\n",
      "[CV] algorithm=ball_tree, leaf_size=18, n_neighbors=7 ................\n",
      "[CV]  algorithm=ball_tree, leaf_size=18, n_neighbors=7, score=0.844, total=   5.0s\n",
      "[CV] algorithm=ball_tree, leaf_size=18, n_neighbors=9 ................\n",
      "[CV]  algorithm=ball_tree, leaf_size=18, n_neighbors=9, score=0.842, total=   4.9s\n",
      "[CV] algorithm=ball_tree, leaf_size=18, n_neighbors=9 ................\n",
      "[CV]  algorithm=ball_tree, leaf_size=18, n_neighbors=9, score=0.842, total=   5.1s\n",
      "[CV] algorithm=ball_tree, leaf_size=18, n_neighbors=9 ................\n",
      "[CV]  algorithm=ball_tree, leaf_size=18, n_neighbors=9, score=0.842, total=   4.9s\n",
      "[CV] algorithm=ball_tree, leaf_size=18, n_neighbors=11 ...............\n",
      "[CV]  algorithm=ball_tree, leaf_size=18, n_neighbors=11, score=0.843, total=   5.1s\n",
      "[CV] algorithm=ball_tree, leaf_size=18, n_neighbors=11 ...............\n",
      "[CV]  algorithm=ball_tree, leaf_size=18, n_neighbors=11, score=0.844, total=   5.3s\n",
      "[CV] algorithm=ball_tree, leaf_size=18, n_neighbors=11 ...............\n",
      "[CV]  algorithm=ball_tree, leaf_size=18, n_neighbors=11, score=0.842, total=   4.4s\n",
      "[CV] algorithm=ball_tree, leaf_size=25, n_neighbors=3 ................\n",
      "[CV]  algorithm=ball_tree, leaf_size=25, n_neighbors=3, score=0.832, total=   5.0s\n",
      "[CV] algorithm=ball_tree, leaf_size=25, n_neighbors=3 ................\n",
      "[CV]  algorithm=ball_tree, leaf_size=25, n_neighbors=3, score=0.834, total=   4.7s\n",
      "[CV] algorithm=ball_tree, leaf_size=25, n_neighbors=3 ................\n",
      "[CV]  algorithm=ball_tree, leaf_size=25, n_neighbors=3, score=0.836, total=   5.0s\n",
      "[CV] algorithm=ball_tree, leaf_size=25, n_neighbors=7 ................\n",
      "[CV]  algorithm=ball_tree, leaf_size=25, n_neighbors=7, score=0.841, total=   4.9s\n",
      "[CV] algorithm=ball_tree, leaf_size=25, n_neighbors=7 ................\n",
      "[CV]  algorithm=ball_tree, leaf_size=25, n_neighbors=7, score=0.841, total=   5.0s\n",
      "[CV] algorithm=ball_tree, leaf_size=25, n_neighbors=7 ................\n",
      "[CV]  algorithm=ball_tree, leaf_size=25, n_neighbors=7, score=0.844, total=   4.9s\n",
      "[CV] algorithm=ball_tree, leaf_size=25, n_neighbors=9 ................\n",
      "[CV]  algorithm=ball_tree, leaf_size=25, n_neighbors=9, score=0.842, total=   4.9s\n",
      "[CV] algorithm=ball_tree, leaf_size=25, n_neighbors=9 ................\n",
      "[CV]  algorithm=ball_tree, leaf_size=25, n_neighbors=9, score=0.842, total=   5.2s\n",
      "[CV] algorithm=ball_tree, leaf_size=25, n_neighbors=9 ................\n",
      "[CV]  algorithm=ball_tree, leaf_size=25, n_neighbors=9, score=0.842, total=   5.0s\n",
      "[CV] algorithm=ball_tree, leaf_size=25, n_neighbors=11 ...............\n",
      "[CV]  algorithm=ball_tree, leaf_size=25, n_neighbors=11, score=0.843, total=   5.0s\n",
      "[CV] algorithm=ball_tree, leaf_size=25, n_neighbors=11 ...............\n",
      "[CV]  algorithm=ball_tree, leaf_size=25, n_neighbors=11, score=0.844, total=   5.2s\n",
      "[CV] algorithm=ball_tree, leaf_size=25, n_neighbors=11 ...............\n",
      "[CV]  algorithm=ball_tree, leaf_size=25, n_neighbors=11, score=0.842, total=   5.0s\n",
      "[CV] algorithm=ball_tree, leaf_size=27, n_neighbors=3 ................\n",
      "[CV]  algorithm=ball_tree, leaf_size=27, n_neighbors=3, score=0.832, total=   4.5s\n",
      "[CV] algorithm=ball_tree, leaf_size=27, n_neighbors=3 ................\n",
      "[CV]  algorithm=ball_tree, leaf_size=27, n_neighbors=3, score=0.834, total=   5.1s\n",
      "[CV] algorithm=ball_tree, leaf_size=27, n_neighbors=3 ................\n",
      "[CV]  algorithm=ball_tree, leaf_size=27, n_neighbors=3, score=0.836, total=   4.8s\n",
      "[CV] algorithm=ball_tree, leaf_size=27, n_neighbors=7 ................\n",
      "[CV]  algorithm=ball_tree, leaf_size=27, n_neighbors=7, score=0.841, total=   6.6s\n",
      "[CV] algorithm=ball_tree, leaf_size=27, n_neighbors=7 ................\n",
      "[CV]  algorithm=ball_tree, leaf_size=27, n_neighbors=7, score=0.841, total=   5.5s\n",
      "[CV] algorithm=ball_tree, leaf_size=27, n_neighbors=7 ................\n",
      "[CV]  algorithm=ball_tree, leaf_size=27, n_neighbors=7, score=0.844, total=   5.4s\n",
      "[CV] algorithm=ball_tree, leaf_size=27, n_neighbors=9 ................\n",
      "[CV]  algorithm=ball_tree, leaf_size=27, n_neighbors=9, score=0.842, total=   5.8s\n",
      "[CV] algorithm=ball_tree, leaf_size=27, n_neighbors=9 ................\n",
      "[CV]  algorithm=ball_tree, leaf_size=27, n_neighbors=9, score=0.842, total=   5.4s\n",
      "[CV] algorithm=ball_tree, leaf_size=27, n_neighbors=9 ................\n",
      "[CV]  algorithm=ball_tree, leaf_size=27, n_neighbors=9, score=0.842, total=   4.9s\n",
      "[CV] algorithm=ball_tree, leaf_size=27, n_neighbors=11 ...............\n",
      "[CV]  algorithm=ball_tree, leaf_size=27, n_neighbors=11, score=0.843, total=   5.0s\n",
      "[CV] algorithm=ball_tree, leaf_size=27, n_neighbors=11 ...............\n",
      "[CV]  algorithm=ball_tree, leaf_size=27, n_neighbors=11, score=0.844, total=   5.1s\n",
      "[CV] algorithm=ball_tree, leaf_size=27, n_neighbors=11 ...............\n",
      "[CV]  algorithm=ball_tree, leaf_size=27, n_neighbors=11, score=0.842, total=   5.8s\n",
      "[CV] algorithm=ball_tree, leaf_size=30, n_neighbors=3 ................\n",
      "[CV]  algorithm=ball_tree, leaf_size=30, n_neighbors=3, score=0.832, total=   7.2s\n",
      "[CV] algorithm=ball_tree, leaf_size=30, n_neighbors=3 ................\n",
      "[CV]  algorithm=ball_tree, leaf_size=30, n_neighbors=3, score=0.834, total=   6.8s\n",
      "[CV] algorithm=ball_tree, leaf_size=30, n_neighbors=3 ................\n",
      "[CV]  algorithm=ball_tree, leaf_size=30, n_neighbors=3, score=0.837, total=   6.3s\n",
      "[CV] algorithm=ball_tree, leaf_size=30, n_neighbors=7 ................\n",
      "[CV]  algorithm=ball_tree, leaf_size=30, n_neighbors=7, score=0.840, total=   7.3s\n",
      "[CV] algorithm=ball_tree, leaf_size=30, n_neighbors=7 ................\n",
      "[CV]  algorithm=ball_tree, leaf_size=30, n_neighbors=7, score=0.842, total=   6.7s\n",
      "[CV] algorithm=ball_tree, leaf_size=30, n_neighbors=7 ................\n",
      "[CV]  algorithm=ball_tree, leaf_size=30, n_neighbors=7, score=0.842, total=   6.7s\n",
      "[CV] algorithm=ball_tree, leaf_size=30, n_neighbors=9 ................\n",
      "[CV]  algorithm=ball_tree, leaf_size=30, n_neighbors=9, score=0.844, total=   6.7s\n",
      "[CV] algorithm=ball_tree, leaf_size=30, n_neighbors=9 ................\n",
      "[CV]  algorithm=ball_tree, leaf_size=30, n_neighbors=9, score=0.843, total=   7.1s\n",
      "[CV] algorithm=ball_tree, leaf_size=30, n_neighbors=9 ................\n",
      "[CV]  algorithm=ball_tree, leaf_size=30, n_neighbors=9, score=0.844, total=   7.1s\n",
      "[CV] algorithm=ball_tree, leaf_size=30, n_neighbors=11 ...............\n",
      "[CV]  algorithm=ball_tree, leaf_size=30, n_neighbors=11, score=0.842, total=   6.7s\n",
      "[CV] algorithm=ball_tree, leaf_size=30, n_neighbors=11 ...............\n",
      "[CV]  algorithm=ball_tree, leaf_size=30, n_neighbors=11, score=0.844, total=   7.1s\n",
      "[CV] algorithm=ball_tree, leaf_size=30, n_neighbors=11 ...............\n",
      "[CV]  algorithm=ball_tree, leaf_size=30, n_neighbors=11, score=0.842, total=   6.7s\n",
      "[CV] algorithm=kd_tree, leaf_size=18, n_neighbors=3 ..................\n",
      "[CV]  algorithm=kd_tree, leaf_size=18, n_neighbors=3, score=0.831, total=   3.7s\n",
      "[CV] algorithm=kd_tree, leaf_size=18, n_neighbors=3 ..................\n",
      "[CV]  algorithm=kd_tree, leaf_size=18, n_neighbors=3, score=0.834, total=   3.8s\n",
      "[CV] algorithm=kd_tree, leaf_size=18, n_neighbors=3 ..................\n",
      "[CV]  algorithm=kd_tree, leaf_size=18, n_neighbors=3, score=0.835, total=   3.7s\n",
      "[CV] algorithm=kd_tree, leaf_size=18, n_neighbors=7 ..................\n",
      "[CV]  algorithm=kd_tree, leaf_size=18, n_neighbors=7, score=0.840, total=   3.9s\n",
      "[CV] algorithm=kd_tree, leaf_size=18, n_neighbors=7 ..................\n",
      "[CV]  algorithm=kd_tree, leaf_size=18, n_neighbors=7, score=0.841, total=   3.8s\n",
      "[CV] algorithm=kd_tree, leaf_size=18, n_neighbors=7 ..................\n",
      "[CV]  algorithm=kd_tree, leaf_size=18, n_neighbors=7, score=0.843, total=   3.9s\n",
      "[CV] algorithm=kd_tree, leaf_size=18, n_neighbors=9 ..................\n",
      "[CV]  algorithm=kd_tree, leaf_size=18, n_neighbors=9, score=0.844, total=   3.9s\n",
      "[CV] algorithm=kd_tree, leaf_size=18, n_neighbors=9 ..................\n",
      "[CV]  algorithm=kd_tree, leaf_size=18, n_neighbors=9, score=0.843, total=   3.9s\n",
      "[CV] algorithm=kd_tree, leaf_size=18, n_neighbors=9 ..................\n"
     ]
    },
    {
     "name": "stdout",
     "output_type": "stream",
     "text": [
      "[CV]  algorithm=kd_tree, leaf_size=18, n_neighbors=9, score=0.844, total=   3.9s\n",
      "[CV] algorithm=kd_tree, leaf_size=18, n_neighbors=11 .................\n",
      "[CV]  algorithm=kd_tree, leaf_size=18, n_neighbors=11, score=0.843, total=   4.0s\n",
      "[CV] algorithm=kd_tree, leaf_size=18, n_neighbors=11 .................\n",
      "[CV]  algorithm=kd_tree, leaf_size=18, n_neighbors=11, score=0.844, total=   3.9s\n",
      "[CV] algorithm=kd_tree, leaf_size=18, n_neighbors=11 .................\n",
      "[CV]  algorithm=kd_tree, leaf_size=18, n_neighbors=11, score=0.843, total=   3.9s\n",
      "[CV] algorithm=kd_tree, leaf_size=25, n_neighbors=3 ..................\n",
      "[CV]  algorithm=kd_tree, leaf_size=25, n_neighbors=3, score=0.831, total=   3.8s\n",
      "[CV] algorithm=kd_tree, leaf_size=25, n_neighbors=3 ..................\n",
      "[CV]  algorithm=kd_tree, leaf_size=25, n_neighbors=3, score=0.834, total=   3.9s\n",
      "[CV] algorithm=kd_tree, leaf_size=25, n_neighbors=3 ..................\n",
      "[CV]  algorithm=kd_tree, leaf_size=25, n_neighbors=3, score=0.835, total=   4.1s\n",
      "[CV] algorithm=kd_tree, leaf_size=25, n_neighbors=7 ..................\n",
      "[CV]  algorithm=kd_tree, leaf_size=25, n_neighbors=7, score=0.840, total=   3.9s\n",
      "[CV] algorithm=kd_tree, leaf_size=25, n_neighbors=7 ..................\n",
      "[CV]  algorithm=kd_tree, leaf_size=25, n_neighbors=7, score=0.841, total=   3.8s\n",
      "[CV] algorithm=kd_tree, leaf_size=25, n_neighbors=7 ..................\n",
      "[CV]  algorithm=kd_tree, leaf_size=25, n_neighbors=7, score=0.843, total=   3.9s\n",
      "[CV] algorithm=kd_tree, leaf_size=25, n_neighbors=9 ..................\n",
      "[CV]  algorithm=kd_tree, leaf_size=25, n_neighbors=9, score=0.844, total=   3.9s\n",
      "[CV] algorithm=kd_tree, leaf_size=25, n_neighbors=9 ..................\n",
      "[CV]  algorithm=kd_tree, leaf_size=25, n_neighbors=9, score=0.843, total=   3.9s\n",
      "[CV] algorithm=kd_tree, leaf_size=25, n_neighbors=9 ..................\n",
      "[CV]  algorithm=kd_tree, leaf_size=25, n_neighbors=9, score=0.844, total=   3.9s\n",
      "[CV] algorithm=kd_tree, leaf_size=25, n_neighbors=11 .................\n",
      "[CV]  algorithm=kd_tree, leaf_size=25, n_neighbors=11, score=0.843, total=   4.1s\n",
      "[CV] algorithm=kd_tree, leaf_size=25, n_neighbors=11 .................\n",
      "[CV]  algorithm=kd_tree, leaf_size=25, n_neighbors=11, score=0.844, total=   3.9s\n",
      "[CV] algorithm=kd_tree, leaf_size=25, n_neighbors=11 .................\n",
      "[CV]  algorithm=kd_tree, leaf_size=25, n_neighbors=11, score=0.843, total=   4.0s\n",
      "[CV] algorithm=kd_tree, leaf_size=27, n_neighbors=3 ..................\n",
      "[CV]  algorithm=kd_tree, leaf_size=27, n_neighbors=3, score=0.831, total=   3.7s\n",
      "[CV] algorithm=kd_tree, leaf_size=27, n_neighbors=3 ..................\n",
      "[CV]  algorithm=kd_tree, leaf_size=27, n_neighbors=3, score=0.834, total=   3.7s\n",
      "[CV] algorithm=kd_tree, leaf_size=27, n_neighbors=3 ..................\n",
      "[CV]  algorithm=kd_tree, leaf_size=27, n_neighbors=3, score=0.835, total=   3.7s\n",
      "[CV] algorithm=kd_tree, leaf_size=27, n_neighbors=7 ..................\n",
      "[CV]  algorithm=kd_tree, leaf_size=27, n_neighbors=7, score=0.840, total=   3.8s\n",
      "[CV] algorithm=kd_tree, leaf_size=27, n_neighbors=7 ..................\n",
      "[CV]  algorithm=kd_tree, leaf_size=27, n_neighbors=7, score=0.841, total=   3.9s\n",
      "[CV] algorithm=kd_tree, leaf_size=27, n_neighbors=7 ..................\n",
      "[CV]  algorithm=kd_tree, leaf_size=27, n_neighbors=7, score=0.843, total=   3.8s\n",
      "[CV] algorithm=kd_tree, leaf_size=27, n_neighbors=9 ..................\n",
      "[CV]  algorithm=kd_tree, leaf_size=27, n_neighbors=9, score=0.844, total=   4.0s\n",
      "[CV] algorithm=kd_tree, leaf_size=27, n_neighbors=9 ..................\n",
      "[CV]  algorithm=kd_tree, leaf_size=27, n_neighbors=9, score=0.843, total=   4.0s\n",
      "[CV] algorithm=kd_tree, leaf_size=27, n_neighbors=9 ..................\n",
      "[CV]  algorithm=kd_tree, leaf_size=27, n_neighbors=9, score=0.844, total=   3.9s\n",
      "[CV] algorithm=kd_tree, leaf_size=27, n_neighbors=11 .................\n",
      "[CV]  algorithm=kd_tree, leaf_size=27, n_neighbors=11, score=0.843, total=   3.9s\n",
      "[CV] algorithm=kd_tree, leaf_size=27, n_neighbors=11 .................\n",
      "[CV]  algorithm=kd_tree, leaf_size=27, n_neighbors=11, score=0.844, total=   4.1s\n",
      "[CV] algorithm=kd_tree, leaf_size=27, n_neighbors=11 .................\n",
      "[CV]  algorithm=kd_tree, leaf_size=27, n_neighbors=11, score=0.843, total=   3.9s\n",
      "[CV] algorithm=kd_tree, leaf_size=30, n_neighbors=3 ..................\n",
      "[CV]  algorithm=kd_tree, leaf_size=30, n_neighbors=3, score=0.831, total=   3.8s\n",
      "[CV] algorithm=kd_tree, leaf_size=30, n_neighbors=3 ..................\n",
      "[CV]  algorithm=kd_tree, leaf_size=30, n_neighbors=3, score=0.833, total=   3.8s\n",
      "[CV] algorithm=kd_tree, leaf_size=30, n_neighbors=3 ..................\n",
      "[CV]  algorithm=kd_tree, leaf_size=30, n_neighbors=3, score=0.836, total=   3.8s\n",
      "[CV] algorithm=kd_tree, leaf_size=30, n_neighbors=7 ..................\n",
      "[CV]  algorithm=kd_tree, leaf_size=30, n_neighbors=7, score=0.840, total=   3.9s\n",
      "[CV] algorithm=kd_tree, leaf_size=30, n_neighbors=7 ..................\n",
      "[CV]  algorithm=kd_tree, leaf_size=30, n_neighbors=7, score=0.841, total=   4.2s\n",
      "[CV] algorithm=kd_tree, leaf_size=30, n_neighbors=7 ..................\n",
      "[CV]  algorithm=kd_tree, leaf_size=30, n_neighbors=7, score=0.843, total=   4.0s\n",
      "[CV] algorithm=kd_tree, leaf_size=30, n_neighbors=9 ..................\n",
      "[CV]  algorithm=kd_tree, leaf_size=30, n_neighbors=9, score=0.844, total=   3.9s\n",
      "[CV] algorithm=kd_tree, leaf_size=30, n_neighbors=9 ..................\n",
      "[CV]  algorithm=kd_tree, leaf_size=30, n_neighbors=9, score=0.843, total=   4.1s\n",
      "[CV] algorithm=kd_tree, leaf_size=30, n_neighbors=9 ..................\n",
      "[CV]  algorithm=kd_tree, leaf_size=30, n_neighbors=9, score=0.843, total=   3.7s\n",
      "[CV] algorithm=kd_tree, leaf_size=30, n_neighbors=11 .................\n",
      "[CV]  algorithm=kd_tree, leaf_size=30, n_neighbors=11, score=0.842, total=   4.3s\n",
      "[CV] algorithm=kd_tree, leaf_size=30, n_neighbors=11 .................\n",
      "[CV]  algorithm=kd_tree, leaf_size=30, n_neighbors=11, score=0.845, total=   4.6s\n",
      "[CV] algorithm=kd_tree, leaf_size=30, n_neighbors=11 .................\n",
      "[CV]  algorithm=kd_tree, leaf_size=30, n_neighbors=11, score=0.843, total=   4.5s\n",
      "[CV] algorithm=brute, leaf_size=18, n_neighbors=3 ....................\n",
      "[CV]  algorithm=brute, leaf_size=18, n_neighbors=3, score=0.831, total=   4.0s\n",
      "[CV] algorithm=brute, leaf_size=18, n_neighbors=3 ....................\n",
      "[CV]  algorithm=brute, leaf_size=18, n_neighbors=3, score=0.835, total=   3.4s\n",
      "[CV] algorithm=brute, leaf_size=18, n_neighbors=3 ....................\n",
      "[CV]  algorithm=brute, leaf_size=18, n_neighbors=3, score=0.837, total=   3.8s\n",
      "[CV] algorithm=brute, leaf_size=18, n_neighbors=7 ....................\n",
      "[CV]  algorithm=brute, leaf_size=18, n_neighbors=7, score=0.840, total=   5.0s\n",
      "[CV] algorithm=brute, leaf_size=18, n_neighbors=7 ....................\n",
      "[CV]  algorithm=brute, leaf_size=18, n_neighbors=7, score=0.843, total=   4.5s\n",
      "[CV] algorithm=brute, leaf_size=18, n_neighbors=7 ....................\n",
      "[CV]  algorithm=brute, leaf_size=18, n_neighbors=7, score=0.843, total=   4.8s\n",
      "[CV] algorithm=brute, leaf_size=18, n_neighbors=9 ....................\n",
      "[CV]  algorithm=brute, leaf_size=18, n_neighbors=9, score=0.844, total=   4.2s\n",
      "[CV] algorithm=brute, leaf_size=18, n_neighbors=9 ....................\n",
      "[CV]  algorithm=brute, leaf_size=18, n_neighbors=9, score=0.844, total=   4.1s\n",
      "[CV] algorithm=brute, leaf_size=18, n_neighbors=9 ....................\n",
      "[CV]  algorithm=brute, leaf_size=18, n_neighbors=9, score=0.842, total=   4.0s\n",
      "[CV] algorithm=brute, leaf_size=18, n_neighbors=11 ...................\n",
      "[CV]  algorithm=brute, leaf_size=18, n_neighbors=11, score=0.842, total=   4.1s\n",
      "[CV] algorithm=brute, leaf_size=18, n_neighbors=11 ...................\n",
      "[CV]  algorithm=brute, leaf_size=18, n_neighbors=11, score=0.842, total=   4.3s\n",
      "[CV] algorithm=brute, leaf_size=18, n_neighbors=11 ...................\n",
      "[CV]  algorithm=brute, leaf_size=18, n_neighbors=11, score=0.843, total=   4.4s\n",
      "[CV] algorithm=brute, leaf_size=25, n_neighbors=3 ....................\n",
      "[CV]  algorithm=brute, leaf_size=25, n_neighbors=3, score=0.831, total=   3.5s\n",
      "[CV] algorithm=brute, leaf_size=25, n_neighbors=3 ....................\n",
      "[CV]  algorithm=brute, leaf_size=25, n_neighbors=3, score=0.835, total=   3.7s\n",
      "[CV] algorithm=brute, leaf_size=25, n_neighbors=3 ....................\n"
     ]
    },
    {
     "name": "stdout",
     "output_type": "stream",
     "text": [
      "[CV]  algorithm=brute, leaf_size=25, n_neighbors=3, score=0.837, total=   3.7s\n",
      "[CV] algorithm=brute, leaf_size=25, n_neighbors=7 ....................\n",
      "[CV]  algorithm=brute, leaf_size=25, n_neighbors=7, score=0.840, total=   4.8s\n",
      "[CV] algorithm=brute, leaf_size=25, n_neighbors=7 ....................\n",
      "[CV]  algorithm=brute, leaf_size=25, n_neighbors=7, score=0.843, total=   4.6s\n",
      "[CV] algorithm=brute, leaf_size=25, n_neighbors=7 ....................\n",
      "[CV]  algorithm=brute, leaf_size=25, n_neighbors=7, score=0.843, total=   4.6s\n",
      "[CV] algorithm=brute, leaf_size=25, n_neighbors=9 ....................\n",
      "[CV]  algorithm=brute, leaf_size=25, n_neighbors=9, score=0.844, total=   4.6s\n",
      "[CV] algorithm=brute, leaf_size=25, n_neighbors=9 ....................\n",
      "[CV]  algorithm=brute, leaf_size=25, n_neighbors=9, score=0.844, total=   4.5s\n",
      "[CV] algorithm=brute, leaf_size=25, n_neighbors=9 ....................\n",
      "[CV]  algorithm=brute, leaf_size=25, n_neighbors=9, score=0.842, total=   4.3s\n",
      "[CV] algorithm=brute, leaf_size=25, n_neighbors=11 ...................\n",
      "[CV]  algorithm=brute, leaf_size=25, n_neighbors=11, score=0.842, total=   4.3s\n",
      "[CV] algorithm=brute, leaf_size=25, n_neighbors=11 ...................\n",
      "[CV]  algorithm=brute, leaf_size=25, n_neighbors=11, score=0.842, total=   4.4s\n",
      "[CV] algorithm=brute, leaf_size=25, n_neighbors=11 ...................\n",
      "[CV]  algorithm=brute, leaf_size=25, n_neighbors=11, score=0.843, total=   4.2s\n",
      "[CV] algorithm=brute, leaf_size=27, n_neighbors=3 ....................\n",
      "[CV]  algorithm=brute, leaf_size=27, n_neighbors=3, score=0.831, total=   3.5s\n",
      "[CV] algorithm=brute, leaf_size=27, n_neighbors=3 ....................\n",
      "[CV]  algorithm=brute, leaf_size=27, n_neighbors=3, score=0.835, total=   3.6s\n",
      "[CV] algorithm=brute, leaf_size=27, n_neighbors=3 ....................\n",
      "[CV]  algorithm=brute, leaf_size=27, n_neighbors=3, score=0.837, total=   3.5s\n",
      "[CV] algorithm=brute, leaf_size=27, n_neighbors=7 ....................\n",
      "[CV]  algorithm=brute, leaf_size=27, n_neighbors=7, score=0.840, total=   3.9s\n",
      "[CV] algorithm=brute, leaf_size=27, n_neighbors=7 ....................\n",
      "[CV]  algorithm=brute, leaf_size=27, n_neighbors=7, score=0.843, total=   4.0s\n",
      "[CV] algorithm=brute, leaf_size=27, n_neighbors=7 ....................\n",
      "[CV]  algorithm=brute, leaf_size=27, n_neighbors=7, score=0.843, total=   4.1s\n",
      "[CV] algorithm=brute, leaf_size=27, n_neighbors=9 ....................\n",
      "[CV]  algorithm=brute, leaf_size=27, n_neighbors=9, score=0.844, total=   4.1s\n",
      "[CV] algorithm=brute, leaf_size=27, n_neighbors=9 ....................\n",
      "[CV]  algorithm=brute, leaf_size=27, n_neighbors=9, score=0.844, total=   4.0s\n",
      "[CV] algorithm=brute, leaf_size=27, n_neighbors=9 ....................\n",
      "[CV]  algorithm=brute, leaf_size=27, n_neighbors=9, score=0.842, total=   4.2s\n",
      "[CV] algorithm=brute, leaf_size=27, n_neighbors=11 ...................\n",
      "[CV]  algorithm=brute, leaf_size=27, n_neighbors=11, score=0.842, total=   4.3s\n",
      "[CV] algorithm=brute, leaf_size=27, n_neighbors=11 ...................\n",
      "[CV]  algorithm=brute, leaf_size=27, n_neighbors=11, score=0.842, total=   4.1s\n",
      "[CV] algorithm=brute, leaf_size=27, n_neighbors=11 ...................\n",
      "[CV]  algorithm=brute, leaf_size=27, n_neighbors=11, score=0.843, total=   4.0s\n",
      "[CV] algorithm=brute, leaf_size=30, n_neighbors=3 ....................\n",
      "[CV]  algorithm=brute, leaf_size=30, n_neighbors=3, score=0.831, total=   3.2s\n",
      "[CV] algorithm=brute, leaf_size=30, n_neighbors=3 ....................\n",
      "[CV]  algorithm=brute, leaf_size=30, n_neighbors=3, score=0.835, total=   3.5s\n",
      "[CV] algorithm=brute, leaf_size=30, n_neighbors=3 ....................\n",
      "[CV]  algorithm=brute, leaf_size=30, n_neighbors=3, score=0.837, total=   3.6s\n",
      "[CV] algorithm=brute, leaf_size=30, n_neighbors=7 ....................\n",
      "[CV]  algorithm=brute, leaf_size=30, n_neighbors=7, score=0.840, total=   4.4s\n",
      "[CV] algorithm=brute, leaf_size=30, n_neighbors=7 ....................\n",
      "[CV]  algorithm=brute, leaf_size=30, n_neighbors=7, score=0.843, total=   4.5s\n",
      "[CV] algorithm=brute, leaf_size=30, n_neighbors=7 ....................\n",
      "[CV]  algorithm=brute, leaf_size=30, n_neighbors=7, score=0.843, total=   4.6s\n",
      "[CV] algorithm=brute, leaf_size=30, n_neighbors=9 ....................\n",
      "[CV]  algorithm=brute, leaf_size=30, n_neighbors=9, score=0.844, total=   4.2s\n",
      "[CV] algorithm=brute, leaf_size=30, n_neighbors=9 ....................\n",
      "[CV]  algorithm=brute, leaf_size=30, n_neighbors=9, score=0.844, total=   4.4s\n",
      "[CV] algorithm=brute, leaf_size=30, n_neighbors=9 ....................\n",
      "[CV]  algorithm=brute, leaf_size=30, n_neighbors=9, score=0.842, total=   4.2s\n",
      "[CV] algorithm=brute, leaf_size=30, n_neighbors=11 ...................\n",
      "[CV]  algorithm=brute, leaf_size=30, n_neighbors=11, score=0.842, total=   4.5s\n",
      "[CV] algorithm=brute, leaf_size=30, n_neighbors=11 ...................\n",
      "[CV]  algorithm=brute, leaf_size=30, n_neighbors=11, score=0.842, total=   4.5s\n",
      "[CV] algorithm=brute, leaf_size=30, n_neighbors=11 ...................\n",
      "[CV]  algorithm=brute, leaf_size=30, n_neighbors=11, score=0.843, total=   4.4s\n"
     ]
    },
    {
     "name": "stderr",
     "output_type": "stream",
     "text": [
      "[Parallel(n_jobs=1)]: Done 144 out of 144 | elapsed: 10.9min finished\n"
     ]
    },
    {
     "data": {
      "text/plain": [
       "GridSearchCV(cv='warn', error_score='raise-deprecating',\n",
       "             estimator=KNeighborsClassifier(algorithm='auto', leaf_size=30,\n",
       "                                            metric='minkowski',\n",
       "                                            metric_params=None, n_jobs=None,\n",
       "                                            n_neighbors=5, p=2,\n",
       "                                            weights='uniform'),\n",
       "             iid='warn', n_jobs=None,\n",
       "             param_grid={'algorithm': ['ball_tree', 'kd_tree', 'brute'],\n",
       "                         'leaf_size': [18, 25, 27, 30],\n",
       "                         'n_neighbors': [3, 7, 9, 11]},\n",
       "             pre_dispatch='2*n_jobs', refit=True, return_train_score=False,\n",
       "             scoring=None, verbose=3)"
      ]
     },
     "execution_count": 88,
     "metadata": {},
     "output_type": "execute_result"
    }
   ],
   "source": [
    "gsv = GridSearchCV(knc,param_grid=param_grid,verbose=3)\n",
    "gsv.fit(x_train,y_train)"
   ]
  },
  {
   "cell_type": "code",
   "execution_count": 89,
   "metadata": {},
   "outputs": [
    {
     "data": {
      "text/plain": [
       "{'algorithm': 'kd_tree', 'leaf_size': 18, 'n_neighbors': 9}"
      ]
     },
     "execution_count": 89,
     "metadata": {},
     "output_type": "execute_result"
    }
   ],
   "source": [
    "gsv.best_params_"
   ]
  },
  {
   "cell_type": "code",
   "execution_count": 90,
   "metadata": {},
   "outputs": [
    {
     "data": {
      "text/plain": [
       "KNeighborsClassifier(algorithm='kd_tree', leaf_size=18, metric='minkowski',\n",
       "                     metric_params=None, n_jobs=None, n_neighbors=9, p=2,\n",
       "                     weights='uniform')"
      ]
     },
     "execution_count": 90,
     "metadata": {},
     "output_type": "execute_result"
    }
   ],
   "source": [
    "knc_tuned = KNeighborsClassifier(algorithm='kd_tree',leaf_size=18,n_neighbors=9)\n",
    "knc_tuned.fit(x_train,y_train)"
   ]
  },
  {
   "cell_type": "code",
   "execution_count": 99,
   "metadata": {},
   "outputs": [],
   "source": [
    "KNN = knc_tuned.score(x_test,y_test)"
   ]
  },
  {
   "cell_type": "code",
   "execution_count": 94,
   "metadata": {},
   "outputs": [],
   "source": [
    "knc_y_pred = knc_tuned.predict(x_test)"
   ]
  },
  {
   "cell_type": "markdown",
   "metadata": {},
   "source": [
    "### KNN Classifier Model Evaluation"
   ]
  },
  {
   "cell_type": "code",
   "execution_count": 110,
   "metadata": {},
   "outputs": [
    {
     "name": "stdout",
     "output_type": "stream",
     "text": [
      "Accuracy_Score:0.8540280479066434\n",
      "**************************************************\n",
      "Classification_Report:              precision    recall  f1-score   support\n",
      "\n",
      "           0       0.89      0.92      0.91      7436\n",
      "           1       0.72      0.64      0.68      2333\n",
      "\n",
      "    accuracy                           0.85      9769\n",
      "   macro avg       0.80      0.78      0.79      9769\n",
      "weighted avg       0.85      0.85      0.85      9769\n",
      "\n",
      "**************************************************\n",
      "Confusion_Matrix:[[6849  587]\n",
      " [ 839 1494]]\n"
     ]
    }
   ],
   "source": [
    "print(f\"Accuracy_Score:{accuracy_score(y_test,knc_y_pred)}\")\n",
    "print('*'*50)\n",
    "print(f\"Classification_Report:{classification_report(y_test,knc_y_pred)}\")\n",
    "print('*'*50)\n",
    "print(f\"Confusion_Matrix:{confusion_matrix(y_test,knc_y_pred)}\")"
   ]
  },
  {
   "cell_type": "markdown",
   "metadata": {},
   "source": [
    "### 5. XGBoost Classifier"
   ]
  },
  {
   "cell_type": "code",
   "execution_count": 96,
   "metadata": {},
   "outputs": [
    {
     "data": {
      "text/plain": [
       "XGBClassifier(base_score=0.5, booster='gbtree', colsample_bylevel=1,\n",
       "              colsample_bynode=1, colsample_bytree=1, gamma=0,\n",
       "              learning_rate=0.1, max_delta_step=0, max_depth=3,\n",
       "              min_child_weight=1, missing=None, n_estimators=100, n_jobs=1,\n",
       "              nthread=None, objective='binary:logistic', random_state=0,\n",
       "              reg_alpha=0, reg_lambda=1, scale_pos_weight=1, seed=None,\n",
       "              silent=None, subsample=1, verbosity=1)"
      ]
     },
     "execution_count": 96,
     "metadata": {},
     "output_type": "execute_result"
    }
   ],
   "source": [
    "from xgboost import XGBClassifier\n",
    "xbc = XGBClassifier()\n",
    "xbc.fit(x_train,y_train)"
   ]
  },
  {
   "cell_type": "code",
   "execution_count": 97,
   "metadata": {},
   "outputs": [],
   "source": [
    "param_grid={\n",
    "    ' learning_rate':[1,0.5,0.1,0.01,0.001],\n",
    "    'max_depth': [3,5,7,9,11,15],\n",
    "    'n_estimators':[10,50,100,200,300]   \n",
    "}"
   ]
  },
  {
   "cell_type": "code",
   "execution_count": 98,
   "metadata": {},
   "outputs": [
    {
     "name": "stderr",
     "output_type": "stream",
     "text": [
      "C:\\Users\\Shridhar M\\AppData\\Roaming\\Python\\Python37\\site-packages\\sklearn\\model_selection\\_split.py:1978: FutureWarning: The default value of cv will change from 3 to 5 in version 0.22. Specify it explicitly to silence this warning.\n",
      "  warnings.warn(CV_WARNING, FutureWarning)\n",
      "[Parallel(n_jobs=1)]: Using backend SequentialBackend with 1 concurrent workers.\n"
     ]
    },
    {
     "name": "stdout",
     "output_type": "stream",
     "text": [
      "Fitting 3 folds for each of 150 candidates, totalling 450 fits\n",
      "[CV]  learning_rate=1, max_depth=3, n_estimators=10 ..................\n",
      "[CV]   learning_rate=1, max_depth=3, n_estimators=10, score=0.843, total=   0.3s\n",
      "[CV]  learning_rate=1, max_depth=3, n_estimators=10 ..................\n"
     ]
    },
    {
     "name": "stderr",
     "output_type": "stream",
     "text": [
      "[Parallel(n_jobs=1)]: Done   1 out of   1 | elapsed:    0.2s remaining:    0.0s\n"
     ]
    },
    {
     "name": "stdout",
     "output_type": "stream",
     "text": [
      "[CV]   learning_rate=1, max_depth=3, n_estimators=10, score=0.845, total=   0.2s\n",
      "[CV]  learning_rate=1, max_depth=3, n_estimators=10 ..................\n"
     ]
    },
    {
     "name": "stderr",
     "output_type": "stream",
     "text": [
      "[Parallel(n_jobs=1)]: Done   2 out of   2 | elapsed:    0.4s remaining:    0.0s\n"
     ]
    },
    {
     "name": "stdout",
     "output_type": "stream",
     "text": [
      "[CV]   learning_rate=1, max_depth=3, n_estimators=10, score=0.840, total=   0.2s\n",
      "[CV]  learning_rate=1, max_depth=3, n_estimators=50 ..................\n",
      "[CV]   learning_rate=1, max_depth=3, n_estimators=50, score=0.856, total=   0.9s\n",
      "[CV]  learning_rate=1, max_depth=3, n_estimators=50 ..................\n",
      "[CV]   learning_rate=1, max_depth=3, n_estimators=50, score=0.854, total=   0.9s\n",
      "[CV]  learning_rate=1, max_depth=3, n_estimators=50 ..................\n",
      "[CV]   learning_rate=1, max_depth=3, n_estimators=50, score=0.855, total=   1.0s\n",
      "[CV]  learning_rate=1, max_depth=3, n_estimators=100 .................\n",
      "[CV]   learning_rate=1, max_depth=3, n_estimators=100, score=0.861, total=   1.9s\n",
      "[CV]  learning_rate=1, max_depth=3, n_estimators=100 .................\n",
      "[CV]   learning_rate=1, max_depth=3, n_estimators=100, score=0.862, total=   1.7s\n",
      "[CV]  learning_rate=1, max_depth=3, n_estimators=100 .................\n",
      "[CV]   learning_rate=1, max_depth=3, n_estimators=100, score=0.863, total=   1.7s\n",
      "[CV]  learning_rate=1, max_depth=3, n_estimators=200 .................\n",
      "[CV]   learning_rate=1, max_depth=3, n_estimators=200, score=0.868, total=   3.4s\n",
      "[CV]  learning_rate=1, max_depth=3, n_estimators=200 .................\n",
      "[CV]   learning_rate=1, max_depth=3, n_estimators=200, score=0.870, total=   3.4s\n",
      "[CV]  learning_rate=1, max_depth=3, n_estimators=200 .................\n",
      "[CV]   learning_rate=1, max_depth=3, n_estimators=200, score=0.870, total=   3.4s\n",
      "[CV]  learning_rate=1, max_depth=3, n_estimators=300 .................\n",
      "[CV]   learning_rate=1, max_depth=3, n_estimators=300, score=0.870, total=   5.0s\n",
      "[CV]  learning_rate=1, max_depth=3, n_estimators=300 .................\n",
      "[CV]   learning_rate=1, max_depth=3, n_estimators=300, score=0.872, total=   5.0s\n",
      "[CV]  learning_rate=1, max_depth=3, n_estimators=300 .................\n",
      "[CV]   learning_rate=1, max_depth=3, n_estimators=300, score=0.872, total=   5.0s\n",
      "[CV]  learning_rate=1, max_depth=5, n_estimators=10 ..................\n",
      "[CV]   learning_rate=1, max_depth=5, n_estimators=10, score=0.854, total=   0.3s\n",
      "[CV]  learning_rate=1, max_depth=5, n_estimators=10 ..................\n",
      "[CV]   learning_rate=1, max_depth=5, n_estimators=10, score=0.851, total=   0.3s\n",
      "[CV]  learning_rate=1, max_depth=5, n_estimators=10 ..................\n",
      "[CV]   learning_rate=1, max_depth=5, n_estimators=10, score=0.851, total=   0.3s\n",
      "[CV]  learning_rate=1, max_depth=5, n_estimators=50 ..................\n",
      "[CV]   learning_rate=1, max_depth=5, n_estimators=50, score=0.861, total=   1.4s\n",
      "[CV]  learning_rate=1, max_depth=5, n_estimators=50 ..................\n",
      "[CV]   learning_rate=1, max_depth=5, n_estimators=50, score=0.862, total=   1.4s\n",
      "[CV]  learning_rate=1, max_depth=5, n_estimators=50 ..................\n",
      "[CV]   learning_rate=1, max_depth=5, n_estimators=50, score=0.862, total=   1.4s\n",
      "[CV]  learning_rate=1, max_depth=5, n_estimators=100 .................\n",
      "[CV]   learning_rate=1, max_depth=5, n_estimators=100, score=0.869, total=   2.6s\n",
      "[CV]  learning_rate=1, max_depth=5, n_estimators=100 .................\n",
      "[CV]   learning_rate=1, max_depth=5, n_estimators=100, score=0.872, total=   2.6s\n",
      "[CV]  learning_rate=1, max_depth=5, n_estimators=100 .................\n",
      "[CV]   learning_rate=1, max_depth=5, n_estimators=100, score=0.871, total=   2.6s\n",
      "[CV]  learning_rate=1, max_depth=5, n_estimators=200 .................\n",
      "[CV]   learning_rate=1, max_depth=5, n_estimators=200, score=0.869, total=   5.2s\n",
      "[CV]  learning_rate=1, max_depth=5, n_estimators=200 .................\n",
      "[CV]   learning_rate=1, max_depth=5, n_estimators=200, score=0.871, total=   5.2s\n",
      "[CV]  learning_rate=1, max_depth=5, n_estimators=200 .................\n",
      "[CV]   learning_rate=1, max_depth=5, n_estimators=200, score=0.873, total=   5.2s\n",
      "[CV]  learning_rate=1, max_depth=5, n_estimators=300 .................\n",
      "[CV]   learning_rate=1, max_depth=5, n_estimators=300, score=0.868, total=   8.0s\n",
      "[CV]  learning_rate=1, max_depth=5, n_estimators=300 .................\n",
      "[CV]   learning_rate=1, max_depth=5, n_estimators=300, score=0.870, total=   7.7s\n",
      "[CV]  learning_rate=1, max_depth=5, n_estimators=300 .................\n",
      "[CV]   learning_rate=1, max_depth=5, n_estimators=300, score=0.873, total=   7.8s\n",
      "[CV]  learning_rate=1, max_depth=7, n_estimators=10 ..................\n",
      "[CV]   learning_rate=1, max_depth=7, n_estimators=10, score=0.858, total=   0.4s\n",
      "[CV]  learning_rate=1, max_depth=7, n_estimators=10 ..................\n",
      "[CV]   learning_rate=1, max_depth=7, n_estimators=10, score=0.858, total=   0.4s\n",
      "[CV]  learning_rate=1, max_depth=7, n_estimators=10 ..................\n",
      "[CV]   learning_rate=1, max_depth=7, n_estimators=10, score=0.856, total=   0.4s\n",
      "[CV]  learning_rate=1, max_depth=7, n_estimators=50 ..................\n",
      "[CV]   learning_rate=1, max_depth=7, n_estimators=50, score=0.866, total=   1.9s\n",
      "[CV]  learning_rate=1, max_depth=7, n_estimators=50 ..................\n",
      "[CV]   learning_rate=1, max_depth=7, n_estimators=50, score=0.869, total=   1.9s\n",
      "[CV]  learning_rate=1, max_depth=7, n_estimators=50 ..................\n",
      "[CV]   learning_rate=1, max_depth=7, n_estimators=50, score=0.867, total=   1.9s\n",
      "[CV]  learning_rate=1, max_depth=7, n_estimators=100 .................\n",
      "[CV]   learning_rate=1, max_depth=7, n_estimators=100, score=0.869, total=   3.6s\n",
      "[CV]  learning_rate=1, max_depth=7, n_estimators=100 .................\n",
      "[CV]   learning_rate=1, max_depth=7, n_estimators=100, score=0.872, total=   3.7s\n",
      "[CV]  learning_rate=1, max_depth=7, n_estimators=100 .................\n",
      "[CV]   learning_rate=1, max_depth=7, n_estimators=100, score=0.872, total=   3.8s\n",
      "[CV]  learning_rate=1, max_depth=7, n_estimators=200 .................\n",
      "[CV]   learning_rate=1, max_depth=7, n_estimators=200, score=0.867, total=   7.2s\n",
      "[CV]  learning_rate=1, max_depth=7, n_estimators=200 .................\n",
      "[CV]   learning_rate=1, max_depth=7, n_estimators=200, score=0.870, total=   7.2s\n",
      "[CV]  learning_rate=1, max_depth=7, n_estimators=200 .................\n",
      "[CV]   learning_rate=1, max_depth=7, n_estimators=200, score=0.873, total=   7.5s\n",
      "[CV]  learning_rate=1, max_depth=7, n_estimators=300 .................\n",
      "[CV]   learning_rate=1, max_depth=7, n_estimators=300, score=0.866, total=  10.6s\n",
      "[CV]  learning_rate=1, max_depth=7, n_estimators=300 .................\n",
      "[CV]   learning_rate=1, max_depth=7, n_estimators=300, score=0.868, total=  10.8s\n",
      "[CV]  learning_rate=1, max_depth=7, n_estimators=300 .................\n",
      "[CV]   learning_rate=1, max_depth=7, n_estimators=300, score=0.871, total=  10.7s\n",
      "[CV]  learning_rate=1, max_depth=9, n_estimators=10 ..................\n",
      "[CV]   learning_rate=1, max_depth=9, n_estimators=10, score=0.857, total=   0.6s\n",
      "[CV]  learning_rate=1, max_depth=9, n_estimators=10 ..................\n",
      "[CV]   learning_rate=1, max_depth=9, n_estimators=10, score=0.861, total=   0.6s\n",
      "[CV]  learning_rate=1, max_depth=9, n_estimators=10 ..................\n",
      "[CV]   learning_rate=1, max_depth=9, n_estimators=10, score=0.858, total=   0.6s\n",
      "[CV]  learning_rate=1, max_depth=9, n_estimators=50 ..................\n",
      "[CV]   learning_rate=1, max_depth=9, n_estimators=50, score=0.866, total=   2.6s\n",
      "[CV]  learning_rate=1, max_depth=9, n_estimators=50 ..................\n",
      "[CV]   learning_rate=1, max_depth=9, n_estimators=50, score=0.868, total=   2.6s\n",
      "[CV]  learning_rate=1, max_depth=9, n_estimators=50 ..................\n",
      "[CV]   learning_rate=1, max_depth=9, n_estimators=50, score=0.869, total=   2.6s\n",
      "[CV]  learning_rate=1, max_depth=9, n_estimators=100 .................\n",
      "[CV]   learning_rate=1, max_depth=9, n_estimators=100, score=0.865, total=   4.9s\n",
      "[CV]  learning_rate=1, max_depth=9, n_estimators=100 .................\n",
      "[CV]   learning_rate=1, max_depth=9, n_estimators=100, score=0.869, total=   9.0s\n",
      "[CV]  learning_rate=1, max_depth=9, n_estimators=100 .................\n",
      "[CV]   learning_rate=1, max_depth=9, n_estimators=100, score=0.871, total=   7.4s\n",
      "[CV]  learning_rate=1, max_depth=9, n_estimators=200 .................\n",
      "[CV]   learning_rate=1, max_depth=9, n_estimators=200, score=0.864, total=  11.7s\n",
      "[CV]  learning_rate=1, max_depth=9, n_estimators=200 .................\n",
      "[CV]   learning_rate=1, max_depth=9, n_estimators=200, score=0.865, total=  11.7s\n",
      "[CV]  learning_rate=1, max_depth=9, n_estimators=200 .................\n"
     ]
    },
    {
     "name": "stdout",
     "output_type": "stream",
     "text": [
      "[CV]   learning_rate=1, max_depth=9, n_estimators=200, score=0.868, total=  11.3s\n",
      "[CV]  learning_rate=1, max_depth=9, n_estimators=300 .................\n",
      "[CV]   learning_rate=1, max_depth=9, n_estimators=300, score=0.864, total=  17.4s\n",
      "[CV]  learning_rate=1, max_depth=9, n_estimators=300 .................\n",
      "[CV]   learning_rate=1, max_depth=9, n_estimators=300, score=0.863, total=  17.5s\n",
      "[CV]  learning_rate=1, max_depth=9, n_estimators=300 .................\n",
      "[CV]   learning_rate=1, max_depth=9, n_estimators=300, score=0.865, total=  17.1s\n",
      "[CV]  learning_rate=1, max_depth=11, n_estimators=10 .................\n",
      "[CV]   learning_rate=1, max_depth=11, n_estimators=10, score=0.859, total=   0.9s\n",
      "[CV]  learning_rate=1, max_depth=11, n_estimators=10 .................\n",
      "[CV]   learning_rate=1, max_depth=11, n_estimators=10, score=0.862, total=   1.0s\n",
      "[CV]  learning_rate=1, max_depth=11, n_estimators=10 .................\n",
      "[CV]   learning_rate=1, max_depth=11, n_estimators=10, score=0.860, total=   0.9s\n",
      "[CV]  learning_rate=1, max_depth=11, n_estimators=50 .................\n",
      "[CV]   learning_rate=1, max_depth=11, n_estimators=50, score=0.866, total=   4.2s\n",
      "[CV]  learning_rate=1, max_depth=11, n_estimators=50 .................\n",
      "[CV]   learning_rate=1, max_depth=11, n_estimators=50, score=0.868, total=   4.3s\n",
      "[CV]  learning_rate=1, max_depth=11, n_estimators=50 .................\n",
      "[CV]   learning_rate=1, max_depth=11, n_estimators=50, score=0.870, total=   4.2s\n",
      "[CV]  learning_rate=1, max_depth=11, n_estimators=100 ................\n",
      "[CV]   learning_rate=1, max_depth=11, n_estimators=100, score=0.867, total=   7.9s\n",
      "[CV]  learning_rate=1, max_depth=11, n_estimators=100 ................\n",
      "[CV]   learning_rate=1, max_depth=11, n_estimators=100, score=0.869, total=   8.0s\n",
      "[CV]  learning_rate=1, max_depth=11, n_estimators=100 ................\n",
      "[CV]   learning_rate=1, max_depth=11, n_estimators=100, score=0.869, total=   8.0s\n",
      "[CV]  learning_rate=1, max_depth=11, n_estimators=200 ................\n",
      "[CV]   learning_rate=1, max_depth=11, n_estimators=200, score=0.862, total=  15.6s\n",
      "[CV]  learning_rate=1, max_depth=11, n_estimators=200 ................\n",
      "[CV]   learning_rate=1, max_depth=11, n_estimators=200, score=0.865, total=  15.2s\n",
      "[CV]  learning_rate=1, max_depth=11, n_estimators=200 ................\n",
      "[CV]   learning_rate=1, max_depth=11, n_estimators=200, score=0.868, total=  15.2s\n",
      "[CV]  learning_rate=1, max_depth=11, n_estimators=300 ................\n",
      "[CV]   learning_rate=1, max_depth=11, n_estimators=300, score=0.861, total=  22.5s\n",
      "[CV]  learning_rate=1, max_depth=11, n_estimators=300 ................\n",
      "[CV]   learning_rate=1, max_depth=11, n_estimators=300, score=0.861, total=  22.4s\n",
      "[CV]  learning_rate=1, max_depth=11, n_estimators=300 ................\n",
      "[CV]   learning_rate=1, max_depth=11, n_estimators=300, score=0.865, total=  22.6s\n",
      "[CV]  learning_rate=1, max_depth=15, n_estimators=10 .................\n",
      "[CV]   learning_rate=1, max_depth=15, n_estimators=10, score=0.855, total=   1.3s\n",
      "[CV]  learning_rate=1, max_depth=15, n_estimators=10 .................\n",
      "[CV]   learning_rate=1, max_depth=15, n_estimators=10, score=0.860, total=   1.3s\n",
      "[CV]  learning_rate=1, max_depth=15, n_estimators=10 .................\n",
      "[CV]   learning_rate=1, max_depth=15, n_estimators=10, score=0.858, total=   1.3s\n",
      "[CV]  learning_rate=1, max_depth=15, n_estimators=50 .................\n",
      "[CV]   learning_rate=1, max_depth=15, n_estimators=50, score=0.863, total=   6.2s\n",
      "[CV]  learning_rate=1, max_depth=15, n_estimators=50 .................\n",
      "[CV]   learning_rate=1, max_depth=15, n_estimators=50, score=0.863, total=   6.0s\n",
      "[CV]  learning_rate=1, max_depth=15, n_estimators=50 .................\n",
      "[CV]   learning_rate=1, max_depth=15, n_estimators=50, score=0.865, total=   5.9s\n",
      "[CV]  learning_rate=1, max_depth=15, n_estimators=100 ................\n",
      "[CV]   learning_rate=1, max_depth=15, n_estimators=100, score=0.862, total=  11.2s\n",
      "[CV]  learning_rate=1, max_depth=15, n_estimators=100 ................\n",
      "[CV]   learning_rate=1, max_depth=15, n_estimators=100, score=0.861, total=  11.3s\n",
      "[CV]  learning_rate=1, max_depth=15, n_estimators=100 ................\n",
      "[CV]   learning_rate=1, max_depth=15, n_estimators=100, score=0.864, total=  11.2s\n",
      "[CV]  learning_rate=1, max_depth=15, n_estimators=200 ................\n",
      "[CV]   learning_rate=1, max_depth=15, n_estimators=200, score=0.858, total=  21.7s\n",
      "[CV]  learning_rate=1, max_depth=15, n_estimators=200 ................\n",
      "[CV]   learning_rate=1, max_depth=15, n_estimators=200, score=0.857, total=  20.7s\n",
      "[CV]  learning_rate=1, max_depth=15, n_estimators=200 ................\n",
      "[CV]   learning_rate=1, max_depth=15, n_estimators=200, score=0.859, total=  20.5s\n",
      "[CV]  learning_rate=1, max_depth=15, n_estimators=300 ................\n",
      "[CV]   learning_rate=1, max_depth=15, n_estimators=300, score=0.855, total=  31.4s\n",
      "[CV]  learning_rate=1, max_depth=15, n_estimators=300 ................\n",
      "[CV]   learning_rate=1, max_depth=15, n_estimators=300, score=0.853, total=  32.1s\n",
      "[CV]  learning_rate=1, max_depth=15, n_estimators=300 ................\n",
      "[CV]   learning_rate=1, max_depth=15, n_estimators=300, score=0.858, total=  30.4s\n",
      "[CV]  learning_rate=0.5, max_depth=3, n_estimators=10 ................\n",
      "[CV]   learning_rate=0.5, max_depth=3, n_estimators=10, score=0.843, total=   0.3s\n",
      "[CV]  learning_rate=0.5, max_depth=3, n_estimators=10 ................\n",
      "[CV]   learning_rate=0.5, max_depth=3, n_estimators=10, score=0.845, total=   0.3s\n",
      "[CV]  learning_rate=0.5, max_depth=3, n_estimators=10 ................\n",
      "[CV]   learning_rate=0.5, max_depth=3, n_estimators=10, score=0.840, total=   0.3s\n",
      "[CV]  learning_rate=0.5, max_depth=3, n_estimators=50 ................\n",
      "[CV]   learning_rate=0.5, max_depth=3, n_estimators=50, score=0.856, total=   1.1s\n",
      "[CV]  learning_rate=0.5, max_depth=3, n_estimators=50 ................\n",
      "[CV]   learning_rate=0.5, max_depth=3, n_estimators=50, score=0.854, total=   1.1s\n",
      "[CV]  learning_rate=0.5, max_depth=3, n_estimators=50 ................\n",
      "[CV]   learning_rate=0.5, max_depth=3, n_estimators=50, score=0.855, total=   1.1s\n",
      "[CV]  learning_rate=0.5, max_depth=3, n_estimators=100 ...............\n",
      "[CV]   learning_rate=0.5, max_depth=3, n_estimators=100, score=0.861, total=   2.1s\n",
      "[CV]  learning_rate=0.5, max_depth=3, n_estimators=100 ...............\n",
      "[CV]   learning_rate=0.5, max_depth=3, n_estimators=100, score=0.862, total=   2.1s\n",
      "[CV]  learning_rate=0.5, max_depth=3, n_estimators=100 ...............\n",
      "[CV]   learning_rate=0.5, max_depth=3, n_estimators=100, score=0.863, total=   2.1s\n",
      "[CV]  learning_rate=0.5, max_depth=3, n_estimators=200 ...............\n",
      "[CV]   learning_rate=0.5, max_depth=3, n_estimators=200, score=0.868, total=   4.1s\n",
      "[CV]  learning_rate=0.5, max_depth=3, n_estimators=200 ...............\n",
      "[CV]   learning_rate=0.5, max_depth=3, n_estimators=200, score=0.870, total=   4.2s\n",
      "[CV]  learning_rate=0.5, max_depth=3, n_estimators=200 ...............\n",
      "[CV]   learning_rate=0.5, max_depth=3, n_estimators=200, score=0.870, total=   4.2s\n",
      "[CV]  learning_rate=0.5, max_depth=3, n_estimators=300 ...............\n",
      "[CV]   learning_rate=0.5, max_depth=3, n_estimators=300, score=0.870, total=   6.2s\n",
      "[CV]  learning_rate=0.5, max_depth=3, n_estimators=300 ...............\n",
      "[CV]   learning_rate=0.5, max_depth=3, n_estimators=300, score=0.872, total=   6.2s\n",
      "[CV]  learning_rate=0.5, max_depth=3, n_estimators=300 ...............\n",
      "[CV]   learning_rate=0.5, max_depth=3, n_estimators=300, score=0.872, total=   6.3s\n",
      "[CV]  learning_rate=0.5, max_depth=5, n_estimators=10 ................\n",
      "[CV]   learning_rate=0.5, max_depth=5, n_estimators=10, score=0.854, total=   0.4s\n",
      "[CV]  learning_rate=0.5, max_depth=5, n_estimators=10 ................\n",
      "[CV]   learning_rate=0.5, max_depth=5, n_estimators=10, score=0.851, total=   0.4s\n",
      "[CV]  learning_rate=0.5, max_depth=5, n_estimators=10 ................\n",
      "[CV]   learning_rate=0.5, max_depth=5, n_estimators=10, score=0.851, total=   0.4s\n",
      "[CV]  learning_rate=0.5, max_depth=5, n_estimators=50 ................\n",
      "[CV]   learning_rate=0.5, max_depth=5, n_estimators=50, score=0.861, total=   1.7s\n",
      "[CV]  learning_rate=0.5, max_depth=5, n_estimators=50 ................\n",
      "[CV]   learning_rate=0.5, max_depth=5, n_estimators=50, score=0.862, total=   1.7s\n",
      "[CV]  learning_rate=0.5, max_depth=5, n_estimators=50 ................\n"
     ]
    },
    {
     "name": "stdout",
     "output_type": "stream",
     "text": [
      "[CV]   learning_rate=0.5, max_depth=5, n_estimators=50, score=0.862, total=   1.7s\n",
      "[CV]  learning_rate=0.5, max_depth=5, n_estimators=100 ...............\n",
      "[CV]   learning_rate=0.5, max_depth=5, n_estimators=100, score=0.869, total=   3.3s\n",
      "[CV]  learning_rate=0.5, max_depth=5, n_estimators=100 ...............\n",
      "[CV]   learning_rate=0.5, max_depth=5, n_estimators=100, score=0.872, total=   3.4s\n",
      "[CV]  learning_rate=0.5, max_depth=5, n_estimators=100 ...............\n",
      "[CV]   learning_rate=0.5, max_depth=5, n_estimators=100, score=0.871, total=   3.3s\n",
      "[CV]  learning_rate=0.5, max_depth=5, n_estimators=200 ...............\n",
      "[CV]   learning_rate=0.5, max_depth=5, n_estimators=200, score=0.869, total=   6.5s\n",
      "[CV]  learning_rate=0.5, max_depth=5, n_estimators=200 ...............\n",
      "[CV]   learning_rate=0.5, max_depth=5, n_estimators=200, score=0.871, total=   6.5s\n",
      "[CV]  learning_rate=0.5, max_depth=5, n_estimators=200 ...............\n",
      "[CV]   learning_rate=0.5, max_depth=5, n_estimators=200, score=0.873, total=   6.5s\n",
      "[CV]  learning_rate=0.5, max_depth=5, n_estimators=300 ...............\n",
      "[CV]   learning_rate=0.5, max_depth=5, n_estimators=300, score=0.868, total=   9.6s\n",
      "[CV]  learning_rate=0.5, max_depth=5, n_estimators=300 ...............\n",
      "[CV]   learning_rate=0.5, max_depth=5, n_estimators=300, score=0.870, total=   9.6s\n",
      "[CV]  learning_rate=0.5, max_depth=5, n_estimators=300 ...............\n",
      "[CV]   learning_rate=0.5, max_depth=5, n_estimators=300, score=0.873, total=   9.6s\n",
      "[CV]  learning_rate=0.5, max_depth=7, n_estimators=10 ................\n",
      "[CV]   learning_rate=0.5, max_depth=7, n_estimators=10, score=0.858, total=   0.5s\n",
      "[CV]  learning_rate=0.5, max_depth=7, n_estimators=10 ................\n",
      "[CV]   learning_rate=0.5, max_depth=7, n_estimators=10, score=0.858, total=   0.5s\n",
      "[CV]  learning_rate=0.5, max_depth=7, n_estimators=10 ................\n",
      "[CV]   learning_rate=0.5, max_depth=7, n_estimators=10, score=0.856, total=   0.5s\n",
      "[CV]  learning_rate=0.5, max_depth=7, n_estimators=50 ................\n",
      "[CV]   learning_rate=0.5, max_depth=7, n_estimators=50, score=0.866, total=   2.3s\n",
      "[CV]  learning_rate=0.5, max_depth=7, n_estimators=50 ................\n",
      "[CV]   learning_rate=0.5, max_depth=7, n_estimators=50, score=0.869, total=   2.3s\n",
      "[CV]  learning_rate=0.5, max_depth=7, n_estimators=50 ................\n",
      "[CV]   learning_rate=0.5, max_depth=7, n_estimators=50, score=0.867, total=   2.4s\n",
      "[CV]  learning_rate=0.5, max_depth=7, n_estimators=100 ...............\n",
      "[CV]   learning_rate=0.5, max_depth=7, n_estimators=100, score=0.869, total=   4.5s\n",
      "[CV]  learning_rate=0.5, max_depth=7, n_estimators=100 ...............\n",
      "[CV]   learning_rate=0.5, max_depth=7, n_estimators=100, score=0.872, total=   4.5s\n",
      "[CV]  learning_rate=0.5, max_depth=7, n_estimators=100 ...............\n",
      "[CV]   learning_rate=0.5, max_depth=7, n_estimators=100, score=0.872, total=   4.5s\n",
      "[CV]  learning_rate=0.5, max_depth=7, n_estimators=200 ...............\n",
      "[CV]   learning_rate=0.5, max_depth=7, n_estimators=200, score=0.867, total=   8.8s\n",
      "[CV]  learning_rate=0.5, max_depth=7, n_estimators=200 ...............\n",
      "[CV]   learning_rate=0.5, max_depth=7, n_estimators=200, score=0.870, total=   8.8s\n",
      "[CV]  learning_rate=0.5, max_depth=7, n_estimators=200 ...............\n",
      "[CV]   learning_rate=0.5, max_depth=7, n_estimators=200, score=0.873, total=   8.8s\n",
      "[CV]  learning_rate=0.5, max_depth=7, n_estimators=300 ...............\n",
      "[CV]   learning_rate=0.5, max_depth=7, n_estimators=300, score=0.866, total=  13.1s\n",
      "[CV]  learning_rate=0.5, max_depth=7, n_estimators=300 ...............\n",
      "[CV]   learning_rate=0.5, max_depth=7, n_estimators=300, score=0.868, total=  13.1s\n",
      "[CV]  learning_rate=0.5, max_depth=7, n_estimators=300 ...............\n",
      "[CV]   learning_rate=0.5, max_depth=7, n_estimators=300, score=0.871, total=  13.3s\n",
      "[CV]  learning_rate=0.5, max_depth=9, n_estimators=10 ................\n",
      "[CV]   learning_rate=0.5, max_depth=9, n_estimators=10, score=0.857, total=   0.7s\n",
      "[CV]  learning_rate=0.5, max_depth=9, n_estimators=10 ................\n",
      "[CV]   learning_rate=0.5, max_depth=9, n_estimators=10, score=0.861, total=   0.7s\n",
      "[CV]  learning_rate=0.5, max_depth=9, n_estimators=10 ................\n",
      "[CV]   learning_rate=0.5, max_depth=9, n_estimators=10, score=0.858, total=   0.7s\n",
      "[CV]  learning_rate=0.5, max_depth=9, n_estimators=50 ................\n",
      "[CV]   learning_rate=0.5, max_depth=9, n_estimators=50, score=0.866, total=   3.1s\n",
      "[CV]  learning_rate=0.5, max_depth=9, n_estimators=50 ................\n",
      "[CV]   learning_rate=0.5, max_depth=9, n_estimators=50, score=0.868, total=   3.2s\n",
      "[CV]  learning_rate=0.5, max_depth=9, n_estimators=50 ................\n",
      "[CV]   learning_rate=0.5, max_depth=9, n_estimators=50, score=0.869, total=   3.2s\n",
      "[CV]  learning_rate=0.5, max_depth=9, n_estimators=100 ...............\n",
      "[CV]   learning_rate=0.5, max_depth=9, n_estimators=100, score=0.865, total=   6.0s\n",
      "[CV]  learning_rate=0.5, max_depth=9, n_estimators=100 ...............\n",
      "[CV]   learning_rate=0.5, max_depth=9, n_estimators=100, score=0.869, total=   6.0s\n",
      "[CV]  learning_rate=0.5, max_depth=9, n_estimators=100 ...............\n",
      "[CV]   learning_rate=0.5, max_depth=9, n_estimators=100, score=0.871, total=   6.0s\n",
      "[CV]  learning_rate=0.5, max_depth=9, n_estimators=200 ...............\n",
      "[CV]   learning_rate=0.5, max_depth=9, n_estimators=200, score=0.864, total=  11.6s\n",
      "[CV]  learning_rate=0.5, max_depth=9, n_estimators=200 ...............\n",
      "[CV]   learning_rate=0.5, max_depth=9, n_estimators=200, score=0.865, total=  11.6s\n",
      "[CV]  learning_rate=0.5, max_depth=9, n_estimators=200 ...............\n",
      "[CV]   learning_rate=0.5, max_depth=9, n_estimators=200, score=0.868, total=  11.7s\n",
      "[CV]  learning_rate=0.5, max_depth=9, n_estimators=300 ...............\n",
      "[CV]   learning_rate=0.5, max_depth=9, n_estimators=300, score=0.864, total=  17.1s\n",
      "[CV]  learning_rate=0.5, max_depth=9, n_estimators=300 ...............\n",
      "[CV]   learning_rate=0.5, max_depth=9, n_estimators=300, score=0.863, total=  17.1s\n",
      "[CV]  learning_rate=0.5, max_depth=9, n_estimators=300 ...............\n",
      "[CV]   learning_rate=0.5, max_depth=9, n_estimators=300, score=0.865, total=  17.1s\n",
      "[CV]  learning_rate=0.5, max_depth=11, n_estimators=10 ...............\n",
      "[CV]   learning_rate=0.5, max_depth=11, n_estimators=10, score=0.859, total=   0.9s\n",
      "[CV]  learning_rate=0.5, max_depth=11, n_estimators=10 ...............\n",
      "[CV]   learning_rate=0.5, max_depth=11, n_estimators=10, score=0.862, total=   0.9s\n",
      "[CV]  learning_rate=0.5, max_depth=11, n_estimators=10 ...............\n",
      "[CV]   learning_rate=0.5, max_depth=11, n_estimators=10, score=0.860, total=   0.9s\n",
      "[CV]  learning_rate=0.5, max_depth=11, n_estimators=50 ...............\n",
      "[CV]   learning_rate=0.5, max_depth=11, n_estimators=50, score=0.866, total=   4.0s\n",
      "[CV]  learning_rate=0.5, max_depth=11, n_estimators=50 ...............\n",
      "[CV]   learning_rate=0.5, max_depth=11, n_estimators=50, score=0.868, total=   4.1s\n",
      "[CV]  learning_rate=0.5, max_depth=11, n_estimators=50 ...............\n",
      "[CV]   learning_rate=0.5, max_depth=11, n_estimators=50, score=0.870, total=   4.0s\n",
      "[CV]  learning_rate=0.5, max_depth=11, n_estimators=100 ..............\n",
      "[CV]   learning_rate=0.5, max_depth=11, n_estimators=100, score=0.867, total=   7.5s\n",
      "[CV]  learning_rate=0.5, max_depth=11, n_estimators=100 ..............\n",
      "[CV]   learning_rate=0.5, max_depth=11, n_estimators=100, score=0.869, total=   7.6s\n",
      "[CV]  learning_rate=0.5, max_depth=11, n_estimators=100 ..............\n",
      "[CV]   learning_rate=0.5, max_depth=11, n_estimators=100, score=0.869, total=   7.5s\n",
      "[CV]  learning_rate=0.5, max_depth=11, n_estimators=200 ..............\n",
      "[CV]   learning_rate=0.5, max_depth=11, n_estimators=200, score=0.862, total=  14.4s\n",
      "[CV]  learning_rate=0.5, max_depth=11, n_estimators=200 ..............\n",
      "[CV]   learning_rate=0.5, max_depth=11, n_estimators=200, score=0.865, total=  14.5s\n",
      "[CV]  learning_rate=0.5, max_depth=11, n_estimators=200 ..............\n",
      "[CV]   learning_rate=0.5, max_depth=11, n_estimators=200, score=0.868, total=  14.4s\n",
      "[CV]  learning_rate=0.5, max_depth=11, n_estimators=300 ..............\n",
      "[CV]   learning_rate=0.5, max_depth=11, n_estimators=300, score=0.861, total=  21.3s\n",
      "[CV]  learning_rate=0.5, max_depth=11, n_estimators=300 ..............\n"
     ]
    },
    {
     "name": "stdout",
     "output_type": "stream",
     "text": [
      "[CV]   learning_rate=0.5, max_depth=11, n_estimators=300, score=0.861, total=  21.3s\n",
      "[CV]  learning_rate=0.5, max_depth=11, n_estimators=300 ..............\n",
      "[CV]   learning_rate=0.5, max_depth=11, n_estimators=300, score=0.865, total=  21.1s\n",
      "[CV]  learning_rate=0.5, max_depth=15, n_estimators=10 ...............\n",
      "[CV]   learning_rate=0.5, max_depth=15, n_estimators=10, score=0.855, total=   1.2s\n",
      "[CV]  learning_rate=0.5, max_depth=15, n_estimators=10 ...............\n",
      "[CV]   learning_rate=0.5, max_depth=15, n_estimators=10, score=0.860, total=   1.2s\n",
      "[CV]  learning_rate=0.5, max_depth=15, n_estimators=10 ...............\n",
      "[CV]   learning_rate=0.5, max_depth=15, n_estimators=10, score=0.858, total=   1.2s\n",
      "[CV]  learning_rate=0.5, max_depth=15, n_estimators=50 ...............\n",
      "[CV]   learning_rate=0.5, max_depth=15, n_estimators=50, score=0.863, total=   5.7s\n",
      "[CV]  learning_rate=0.5, max_depth=15, n_estimators=50 ...............\n",
      "[CV]   learning_rate=0.5, max_depth=15, n_estimators=50, score=0.863, total=   5.7s\n",
      "[CV]  learning_rate=0.5, max_depth=15, n_estimators=50 ...............\n",
      "[CV]   learning_rate=0.5, max_depth=15, n_estimators=50, score=0.865, total=   5.7s\n",
      "[CV]  learning_rate=0.5, max_depth=15, n_estimators=100 ..............\n",
      "[CV]   learning_rate=0.5, max_depth=15, n_estimators=100, score=0.862, total=  10.7s\n",
      "[CV]  learning_rate=0.5, max_depth=15, n_estimators=100 ..............\n",
      "[CV]   learning_rate=0.5, max_depth=15, n_estimators=100, score=0.861, total=  10.7s\n",
      "[CV]  learning_rate=0.5, max_depth=15, n_estimators=100 ..............\n",
      "[CV]   learning_rate=0.5, max_depth=15, n_estimators=100, score=0.864, total=  10.7s\n",
      "[CV]  learning_rate=0.5, max_depth=15, n_estimators=200 ..............\n",
      "[CV]   learning_rate=0.5, max_depth=15, n_estimators=200, score=0.858, total=  20.7s\n",
      "[CV]  learning_rate=0.5, max_depth=15, n_estimators=200 ..............\n",
      "[CV]   learning_rate=0.5, max_depth=15, n_estimators=200, score=0.857, total=  20.6s\n",
      "[CV]  learning_rate=0.5, max_depth=15, n_estimators=200 ..............\n",
      "[CV]   learning_rate=0.5, max_depth=15, n_estimators=200, score=0.859, total=  20.4s\n",
      "[CV]  learning_rate=0.5, max_depth=15, n_estimators=300 ..............\n",
      "[CV]   learning_rate=0.5, max_depth=15, n_estimators=300, score=0.855, total=  30.4s\n",
      "[CV]  learning_rate=0.5, max_depth=15, n_estimators=300 ..............\n",
      "[CV]   learning_rate=0.5, max_depth=15, n_estimators=300, score=0.853, total= 8.3min\n",
      "[CV]  learning_rate=0.5, max_depth=15, n_estimators=300 ..............\n",
      "[CV]   learning_rate=0.5, max_depth=15, n_estimators=300, score=0.858, total=  22.8s\n",
      "[CV]  learning_rate=0.1, max_depth=3, n_estimators=10 ................\n",
      "[CV]   learning_rate=0.1, max_depth=3, n_estimators=10, score=0.843, total=   0.2s\n",
      "[CV]  learning_rate=0.1, max_depth=3, n_estimators=10 ................\n",
      "[CV]   learning_rate=0.1, max_depth=3, n_estimators=10, score=0.845, total=   0.2s\n",
      "[CV]  learning_rate=0.1, max_depth=3, n_estimators=10 ................\n",
      "[CV]   learning_rate=0.1, max_depth=3, n_estimators=10, score=0.840, total=   0.2s\n",
      "[CV]  learning_rate=0.1, max_depth=3, n_estimators=50 ................\n",
      "[CV]   learning_rate=0.1, max_depth=3, n_estimators=50, score=0.856, total=   0.8s\n",
      "[CV]  learning_rate=0.1, max_depth=3, n_estimators=50 ................\n",
      "[CV]   learning_rate=0.1, max_depth=3, n_estimators=50, score=0.854, total=   0.8s\n",
      "[CV]  learning_rate=0.1, max_depth=3, n_estimators=50 ................\n",
      "[CV]   learning_rate=0.1, max_depth=3, n_estimators=50, score=0.855, total=   0.8s\n",
      "[CV]  learning_rate=0.1, max_depth=3, n_estimators=100 ...............\n",
      "[CV]   learning_rate=0.1, max_depth=3, n_estimators=100, score=0.861, total=   1.6s\n",
      "[CV]  learning_rate=0.1, max_depth=3, n_estimators=100 ...............\n",
      "[CV]   learning_rate=0.1, max_depth=3, n_estimators=100, score=0.862, total=   1.6s\n",
      "[CV]  learning_rate=0.1, max_depth=3, n_estimators=100 ...............\n",
      "[CV]   learning_rate=0.1, max_depth=3, n_estimators=100, score=0.863, total=   1.6s\n",
      "[CV]  learning_rate=0.1, max_depth=3, n_estimators=200 ...............\n",
      "[CV]   learning_rate=0.1, max_depth=3, n_estimators=200, score=0.868, total=   3.1s\n",
      "[CV]  learning_rate=0.1, max_depth=3, n_estimators=200 ...............\n",
      "[CV]   learning_rate=0.1, max_depth=3, n_estimators=200, score=0.870, total=   3.2s\n",
      "[CV]  learning_rate=0.1, max_depth=3, n_estimators=200 ...............\n",
      "[CV]   learning_rate=0.1, max_depth=3, n_estimators=200, score=0.870, total=   3.1s\n",
      "[CV]  learning_rate=0.1, max_depth=3, n_estimators=300 ...............\n",
      "[CV]   learning_rate=0.1, max_depth=3, n_estimators=300, score=0.870, total=   4.5s\n",
      "[CV]  learning_rate=0.1, max_depth=3, n_estimators=300 ...............\n",
      "[CV]   learning_rate=0.1, max_depth=3, n_estimators=300, score=0.872, total=   4.7s\n",
      "[CV]  learning_rate=0.1, max_depth=3, n_estimators=300 ...............\n",
      "[CV]   learning_rate=0.1, max_depth=3, n_estimators=300, score=0.872, total=   4.6s\n",
      "[CV]  learning_rate=0.1, max_depth=5, n_estimators=10 ................\n",
      "[CV]   learning_rate=0.1, max_depth=5, n_estimators=10, score=0.854, total=   0.3s\n",
      "[CV]  learning_rate=0.1, max_depth=5, n_estimators=10 ................\n",
      "[CV]   learning_rate=0.1, max_depth=5, n_estimators=10, score=0.851, total=   0.3s\n",
      "[CV]  learning_rate=0.1, max_depth=5, n_estimators=10 ................\n",
      "[CV]   learning_rate=0.1, max_depth=5, n_estimators=10, score=0.851, total=   0.3s\n",
      "[CV]  learning_rate=0.1, max_depth=5, n_estimators=50 ................\n",
      "[CV]   learning_rate=0.1, max_depth=5, n_estimators=50, score=0.861, total=   1.2s\n",
      "[CV]  learning_rate=0.1, max_depth=5, n_estimators=50 ................\n",
      "[CV]   learning_rate=0.1, max_depth=5, n_estimators=50, score=0.862, total=   1.2s\n",
      "[CV]  learning_rate=0.1, max_depth=5, n_estimators=50 ................\n",
      "[CV]   learning_rate=0.1, max_depth=5, n_estimators=50, score=0.862, total=   1.2s\n",
      "[CV]  learning_rate=0.1, max_depth=5, n_estimators=100 ...............\n",
      "[CV]   learning_rate=0.1, max_depth=5, n_estimators=100, score=0.869, total=   2.4s\n",
      "[CV]  learning_rate=0.1, max_depth=5, n_estimators=100 ...............\n",
      "[CV]   learning_rate=0.1, max_depth=5, n_estimators=100, score=0.872, total=   2.4s\n",
      "[CV]  learning_rate=0.1, max_depth=5, n_estimators=100 ...............\n",
      "[CV]   learning_rate=0.1, max_depth=5, n_estimators=100, score=0.871, total=   2.4s\n",
      "[CV]  learning_rate=0.1, max_depth=5, n_estimators=200 ...............\n",
      "[CV]   learning_rate=0.1, max_depth=5, n_estimators=200, score=0.869, total=   4.7s\n",
      "[CV]  learning_rate=0.1, max_depth=5, n_estimators=200 ...............\n",
      "[CV]   learning_rate=0.1, max_depth=5, n_estimators=200, score=0.871, total=   5.9s\n",
      "[CV]  learning_rate=0.1, max_depth=5, n_estimators=200 ...............\n",
      "[CV]   learning_rate=0.1, max_depth=5, n_estimators=200, score=0.873, total=   5.1s\n",
      "[CV]  learning_rate=0.1, max_depth=5, n_estimators=300 ...............\n",
      "[CV]   learning_rate=0.1, max_depth=5, n_estimators=300, score=0.868, total=   6.9s\n",
      "[CV]  learning_rate=0.1, max_depth=5, n_estimators=300 ...............\n",
      "[CV]   learning_rate=0.1, max_depth=5, n_estimators=300, score=0.870, total=   6.9s\n",
      "[CV]  learning_rate=0.1, max_depth=5, n_estimators=300 ...............\n",
      "[CV]   learning_rate=0.1, max_depth=5, n_estimators=300, score=0.873, total=   8.1s\n",
      "[CV]  learning_rate=0.1, max_depth=7, n_estimators=10 ................\n",
      "[CV]   learning_rate=0.1, max_depth=7, n_estimators=10, score=0.858, total=   0.5s\n",
      "[CV]  learning_rate=0.1, max_depth=7, n_estimators=10 ................\n",
      "[CV]   learning_rate=0.1, max_depth=7, n_estimators=10, score=0.858, total=   0.5s\n",
      "[CV]  learning_rate=0.1, max_depth=7, n_estimators=10 ................\n",
      "[CV]   learning_rate=0.1, max_depth=7, n_estimators=10, score=0.856, total=   0.5s\n",
      "[CV]  learning_rate=0.1, max_depth=7, n_estimators=50 ................\n",
      "[CV]   learning_rate=0.1, max_depth=7, n_estimators=50, score=0.866, total=   2.4s\n",
      "[CV]  learning_rate=0.1, max_depth=7, n_estimators=50 ................\n",
      "[CV]   learning_rate=0.1, max_depth=7, n_estimators=50, score=0.869, total=   2.4s\n",
      "[CV]  learning_rate=0.1, max_depth=7, n_estimators=50 ................\n",
      "[CV]   learning_rate=0.1, max_depth=7, n_estimators=50, score=0.867, total=   2.3s\n",
      "[CV]  learning_rate=0.1, max_depth=7, n_estimators=100 ...............\n"
     ]
    },
    {
     "name": "stdout",
     "output_type": "stream",
     "text": [
      "[CV]   learning_rate=0.1, max_depth=7, n_estimators=100, score=0.869, total=   4.5s\n",
      "[CV]  learning_rate=0.1, max_depth=7, n_estimators=100 ...............\n",
      "[CV]   learning_rate=0.1, max_depth=7, n_estimators=100, score=0.872, total=   4.5s\n",
      "[CV]  learning_rate=0.1, max_depth=7, n_estimators=100 ...............\n",
      "[CV]   learning_rate=0.1, max_depth=7, n_estimators=100, score=0.872, total=   4.5s\n",
      "[CV]  learning_rate=0.1, max_depth=7, n_estimators=200 ...............\n",
      "[CV]   learning_rate=0.1, max_depth=7, n_estimators=200, score=0.867, total=   8.9s\n",
      "[CV]  learning_rate=0.1, max_depth=7, n_estimators=200 ...............\n",
      "[CV]   learning_rate=0.1, max_depth=7, n_estimators=200, score=0.870, total=   8.9s\n",
      "[CV]  learning_rate=0.1, max_depth=7, n_estimators=200 ...............\n",
      "[CV]   learning_rate=0.1, max_depth=7, n_estimators=200, score=0.873, total=   8.9s\n",
      "[CV]  learning_rate=0.1, max_depth=7, n_estimators=300 ...............\n",
      "[CV]   learning_rate=0.1, max_depth=7, n_estimators=300, score=0.866, total=  13.1s\n",
      "[CV]  learning_rate=0.1, max_depth=7, n_estimators=300 ...............\n",
      "[CV]   learning_rate=0.1, max_depth=7, n_estimators=300, score=0.868, total=  13.3s\n",
      "[CV]  learning_rate=0.1, max_depth=7, n_estimators=300 ...............\n",
      "[CV]   learning_rate=0.1, max_depth=7, n_estimators=300, score=0.871, total=  13.2s\n",
      "[CV]  learning_rate=0.1, max_depth=9, n_estimators=10 ................\n",
      "[CV]   learning_rate=0.1, max_depth=9, n_estimators=10, score=0.857, total=   0.7s\n",
      "[CV]  learning_rate=0.1, max_depth=9, n_estimators=10 ................\n",
      "[CV]   learning_rate=0.1, max_depth=9, n_estimators=10, score=0.861, total=   0.7s\n",
      "[CV]  learning_rate=0.1, max_depth=9, n_estimators=10 ................\n",
      "[CV]   learning_rate=0.1, max_depth=9, n_estimators=10, score=0.858, total=   0.7s\n",
      "[CV]  learning_rate=0.1, max_depth=9, n_estimators=50 ................\n",
      "[CV]   learning_rate=0.1, max_depth=9, n_estimators=50, score=0.866, total=   3.2s\n",
      "[CV]  learning_rate=0.1, max_depth=9, n_estimators=50 ................\n",
      "[CV]   learning_rate=0.1, max_depth=9, n_estimators=50, score=0.868, total=   2.7s\n",
      "[CV]  learning_rate=0.1, max_depth=9, n_estimators=50 ................\n",
      "[CV]   learning_rate=0.1, max_depth=9, n_estimators=50, score=0.869, total=   2.3s\n",
      "[CV]  learning_rate=0.1, max_depth=9, n_estimators=100 ...............\n",
      "[CV]   learning_rate=0.1, max_depth=9, n_estimators=100, score=0.865, total=   4.4s\n",
      "[CV]  learning_rate=0.1, max_depth=9, n_estimators=100 ...............\n",
      "[CV]   learning_rate=0.1, max_depth=9, n_estimators=100, score=0.869, total=   4.4s\n",
      "[CV]  learning_rate=0.1, max_depth=9, n_estimators=100 ...............\n",
      "[CV]   learning_rate=0.1, max_depth=9, n_estimators=100, score=0.871, total=   4.4s\n",
      "[CV]  learning_rate=0.1, max_depth=9, n_estimators=200 ...............\n",
      "[CV]   learning_rate=0.1, max_depth=9, n_estimators=200, score=0.864, total=   8.4s\n",
      "[CV]  learning_rate=0.1, max_depth=9, n_estimators=200 ...............\n",
      "[CV]   learning_rate=0.1, max_depth=9, n_estimators=200, score=0.865, total=   8.5s\n",
      "[CV]  learning_rate=0.1, max_depth=9, n_estimators=200 ...............\n",
      "[CV]   learning_rate=0.1, max_depth=9, n_estimators=200, score=0.868, total=  10.2s\n",
      "[CV]  learning_rate=0.1, max_depth=9, n_estimators=300 ...............\n",
      "[CV]   learning_rate=0.1, max_depth=9, n_estimators=300, score=0.864, total=  12.5s\n",
      "[CV]  learning_rate=0.1, max_depth=9, n_estimators=300 ...............\n",
      "[CV]   learning_rate=0.1, max_depth=9, n_estimators=300, score=0.863, total=  15.0s\n",
      "[CV]  learning_rate=0.1, max_depth=9, n_estimators=300 ...............\n",
      "[CV]   learning_rate=0.1, max_depth=9, n_estimators=300, score=0.865, total=  12.4s\n",
      "[CV]  learning_rate=0.1, max_depth=11, n_estimators=10 ...............\n",
      "[CV]   learning_rate=0.1, max_depth=11, n_estimators=10, score=0.859, total=   0.7s\n",
      "[CV]  learning_rate=0.1, max_depth=11, n_estimators=10 ...............\n",
      "[CV]   learning_rate=0.1, max_depth=11, n_estimators=10, score=0.862, total=   0.7s\n",
      "[CV]  learning_rate=0.1, max_depth=11, n_estimators=10 ...............\n",
      "[CV]   learning_rate=0.1, max_depth=11, n_estimators=10, score=0.860, total=   0.7s\n",
      "[CV]  learning_rate=0.1, max_depth=11, n_estimators=50 ...............\n",
      "[CV]   learning_rate=0.1, max_depth=11, n_estimators=50, score=0.866, total=   2.9s\n",
      "[CV]  learning_rate=0.1, max_depth=11, n_estimators=50 ...............\n",
      "[CV]   learning_rate=0.1, max_depth=11, n_estimators=50, score=0.868, total=   2.9s\n",
      "[CV]  learning_rate=0.1, max_depth=11, n_estimators=50 ...............\n",
      "[CV]   learning_rate=0.1, max_depth=11, n_estimators=50, score=0.870, total=   4.3s\n",
      "[CV]  learning_rate=0.1, max_depth=11, n_estimators=100 ..............\n",
      "[CV]   learning_rate=0.1, max_depth=11, n_estimators=100, score=0.867, total=   6.0s\n",
      "[CV]  learning_rate=0.1, max_depth=11, n_estimators=100 ..............\n",
      "[CV]   learning_rate=0.1, max_depth=11, n_estimators=100, score=0.869, total=   8.2s\n",
      "[CV]  learning_rate=0.1, max_depth=11, n_estimators=100 ..............\n",
      "[CV]   learning_rate=0.1, max_depth=11, n_estimators=100, score=0.869, total=   5.6s\n",
      "[CV]  learning_rate=0.1, max_depth=11, n_estimators=200 ..............\n",
      "[CV]   learning_rate=0.1, max_depth=11, n_estimators=200, score=0.862, total=  10.5s\n",
      "[CV]  learning_rate=0.1, max_depth=11, n_estimators=200 ..............\n",
      "[CV]   learning_rate=0.1, max_depth=11, n_estimators=200, score=0.865, total=  13.2s\n",
      "[CV]  learning_rate=0.1, max_depth=11, n_estimators=200 ..............\n",
      "[CV]   learning_rate=0.1, max_depth=11, n_estimators=200, score=0.868, total=  10.5s\n",
      "[CV]  learning_rate=0.1, max_depth=11, n_estimators=300 ..............\n",
      "[CV]   learning_rate=0.1, max_depth=11, n_estimators=300, score=0.861, total=  17.8s\n",
      "[CV]  learning_rate=0.1, max_depth=11, n_estimators=300 ..............\n",
      "[CV]   learning_rate=0.1, max_depth=11, n_estimators=300, score=0.861, total=  17.6s\n",
      "[CV]  learning_rate=0.1, max_depth=11, n_estimators=300 ..............\n",
      "[CV]   learning_rate=0.1, max_depth=11, n_estimators=300, score=0.865, total=  17.6s\n",
      "[CV]  learning_rate=0.1, max_depth=15, n_estimators=10 ...............\n",
      "[CV]   learning_rate=0.1, max_depth=15, n_estimators=10, score=0.855, total=   0.9s\n",
      "[CV]  learning_rate=0.1, max_depth=15, n_estimators=10 ...............\n",
      "[CV]   learning_rate=0.1, max_depth=15, n_estimators=10, score=0.860, total=   1.0s\n",
      "[CV]  learning_rate=0.1, max_depth=15, n_estimators=10 ...............\n",
      "[CV]   learning_rate=0.1, max_depth=15, n_estimators=10, score=0.858, total=   0.9s\n",
      "[CV]  learning_rate=0.1, max_depth=15, n_estimators=50 ...............\n",
      "[CV]   learning_rate=0.1, max_depth=15, n_estimators=50, score=0.863, total=   4.2s\n",
      "[CV]  learning_rate=0.1, max_depth=15, n_estimators=50 ...............\n",
      "[CV]   learning_rate=0.1, max_depth=15, n_estimators=50, score=0.863, total=   5.8s\n",
      "[CV]  learning_rate=0.1, max_depth=15, n_estimators=50 ...............\n",
      "[CV]   learning_rate=0.1, max_depth=15, n_estimators=50, score=0.865, total=   4.4s\n",
      "[CV]  learning_rate=0.1, max_depth=15, n_estimators=100 ..............\n",
      "[CV]   learning_rate=0.1, max_depth=15, n_estimators=100, score=0.862, total=  11.0s\n",
      "[CV]  learning_rate=0.1, max_depth=15, n_estimators=100 ..............\n",
      "[CV]   learning_rate=0.1, max_depth=15, n_estimators=100, score=0.861, total=   7.8s\n",
      "[CV]  learning_rate=0.1, max_depth=15, n_estimators=100 ..............\n",
      "[CV]   learning_rate=0.1, max_depth=15, n_estimators=100, score=0.864, total=   7.8s\n",
      "[CV]  learning_rate=0.1, max_depth=15, n_estimators=200 ..............\n",
      "[CV]   learning_rate=0.1, max_depth=15, n_estimators=200, score=0.858, total=  19.9s\n",
      "[CV]  learning_rate=0.1, max_depth=15, n_estimators=200 ..............\n",
      "[CV]   learning_rate=0.1, max_depth=15, n_estimators=200, score=0.857, total=  20.6s\n",
      "[CV]  learning_rate=0.1, max_depth=15, n_estimators=200 ..............\n",
      "[CV]   learning_rate=0.1, max_depth=15, n_estimators=200, score=0.859, total=  14.8s\n",
      "[CV]  learning_rate=0.1, max_depth=15, n_estimators=300 ..............\n",
      "[CV]   learning_rate=0.1, max_depth=15, n_estimators=300, score=0.855, total=  23.7s\n",
      "[CV]  learning_rate=0.1, max_depth=15, n_estimators=300 ..............\n",
      "[CV]   learning_rate=0.1, max_depth=15, n_estimators=300, score=0.853, total=  33.6s\n",
      "[CV]  learning_rate=0.1, max_depth=15, n_estimators=300 ..............\n"
     ]
    },
    {
     "name": "stdout",
     "output_type": "stream",
     "text": [
      "[CV]   learning_rate=0.1, max_depth=15, n_estimators=300, score=0.858, total=  30.1s\n",
      "[CV]  learning_rate=0.01, max_depth=3, n_estimators=10 ...............\n",
      "[CV]   learning_rate=0.01, max_depth=3, n_estimators=10, score=0.843, total=   0.3s\n",
      "[CV]  learning_rate=0.01, max_depth=3, n_estimators=10 ...............\n",
      "[CV]   learning_rate=0.01, max_depth=3, n_estimators=10, score=0.845, total=   0.3s\n",
      "[CV]  learning_rate=0.01, max_depth=3, n_estimators=10 ...............\n",
      "[CV]   learning_rate=0.01, max_depth=3, n_estimators=10, score=0.840, total=   0.3s\n",
      "[CV]  learning_rate=0.01, max_depth=3, n_estimators=50 ...............\n",
      "[CV]   learning_rate=0.01, max_depth=3, n_estimators=50, score=0.856, total=   1.1s\n",
      "[CV]  learning_rate=0.01, max_depth=3, n_estimators=50 ...............\n",
      "[CV]   learning_rate=0.01, max_depth=3, n_estimators=50, score=0.854, total=   1.1s\n",
      "[CV]  learning_rate=0.01, max_depth=3, n_estimators=50 ...............\n",
      "[CV]   learning_rate=0.01, max_depth=3, n_estimators=50, score=0.855, total=   1.1s\n",
      "[CV]  learning_rate=0.01, max_depth=3, n_estimators=100 ..............\n",
      "[CV]   learning_rate=0.01, max_depth=3, n_estimators=100, score=0.861, total=   2.1s\n",
      "[CV]  learning_rate=0.01, max_depth=3, n_estimators=100 ..............\n",
      "[CV]   learning_rate=0.01, max_depth=3, n_estimators=100, score=0.862, total=   2.1s\n",
      "[CV]  learning_rate=0.01, max_depth=3, n_estimators=100 ..............\n",
      "[CV]   learning_rate=0.01, max_depth=3, n_estimators=100, score=0.863, total=   2.1s\n",
      "[CV]  learning_rate=0.01, max_depth=3, n_estimators=200 ..............\n",
      "[CV]   learning_rate=0.01, max_depth=3, n_estimators=200, score=0.868, total=   4.2s\n",
      "[CV]  learning_rate=0.01, max_depth=3, n_estimators=200 ..............\n",
      "[CV]   learning_rate=0.01, max_depth=3, n_estimators=200, score=0.870, total=   4.2s\n",
      "[CV]  learning_rate=0.01, max_depth=3, n_estimators=200 ..............\n",
      "[CV]   learning_rate=0.01, max_depth=3, n_estimators=200, score=0.870, total=   4.2s\n",
      "[CV]  learning_rate=0.01, max_depth=3, n_estimators=300 ..............\n",
      "[CV]   learning_rate=0.01, max_depth=3, n_estimators=300, score=0.870, total=   6.1s\n",
      "[CV]  learning_rate=0.01, max_depth=3, n_estimators=300 ..............\n",
      "[CV]   learning_rate=0.01, max_depth=3, n_estimators=300, score=0.872, total=   6.2s\n",
      "[CV]  learning_rate=0.01, max_depth=3, n_estimators=300 ..............\n",
      "[CV]   learning_rate=0.01, max_depth=3, n_estimators=300, score=0.872, total=   6.2s\n",
      "[CV]  learning_rate=0.01, max_depth=5, n_estimators=10 ...............\n",
      "[CV]   learning_rate=0.01, max_depth=5, n_estimators=10, score=0.854, total=   0.4s\n",
      "[CV]  learning_rate=0.01, max_depth=5, n_estimators=10 ...............\n",
      "[CV]   learning_rate=0.01, max_depth=5, n_estimators=10, score=0.851, total=   0.4s\n",
      "[CV]  learning_rate=0.01, max_depth=5, n_estimators=10 ...............\n",
      "[CV]   learning_rate=0.01, max_depth=5, n_estimators=10, score=0.851, total=   0.4s\n",
      "[CV]  learning_rate=0.01, max_depth=5, n_estimators=50 ...............\n",
      "[CV]   learning_rate=0.01, max_depth=5, n_estimators=50, score=0.861, total=   1.7s\n",
      "[CV]  learning_rate=0.01, max_depth=5, n_estimators=50 ...............\n",
      "[CV]   learning_rate=0.01, max_depth=5, n_estimators=50, score=0.862, total=   1.7s\n",
      "[CV]  learning_rate=0.01, max_depth=5, n_estimators=50 ...............\n",
      "[CV]   learning_rate=0.01, max_depth=5, n_estimators=50, score=0.862, total=   1.7s\n",
      "[CV]  learning_rate=0.01, max_depth=5, n_estimators=100 ..............\n",
      "[CV]   learning_rate=0.01, max_depth=5, n_estimators=100, score=0.869, total=   3.3s\n",
      "[CV]  learning_rate=0.01, max_depth=5, n_estimators=100 ..............\n",
      "[CV]   learning_rate=0.01, max_depth=5, n_estimators=100, score=0.872, total=   3.5s\n",
      "[CV]  learning_rate=0.01, max_depth=5, n_estimators=100 ..............\n",
      "[CV]   learning_rate=0.01, max_depth=5, n_estimators=100, score=0.871, total=   3.7s\n",
      "[CV]  learning_rate=0.01, max_depth=5, n_estimators=200 ..............\n",
      "[CV]   learning_rate=0.01, max_depth=5, n_estimators=200, score=0.869, total=   7.1s\n",
      "[CV]  learning_rate=0.01, max_depth=5, n_estimators=200 ..............\n",
      "[CV]   learning_rate=0.01, max_depth=5, n_estimators=200, score=0.871, total=   6.9s\n",
      "[CV]  learning_rate=0.01, max_depth=5, n_estimators=200 ..............\n",
      "[CV]   learning_rate=0.01, max_depth=5, n_estimators=200, score=0.873, total=   6.8s\n",
      "[CV]  learning_rate=0.01, max_depth=5, n_estimators=300 ..............\n",
      "[CV]   learning_rate=0.01, max_depth=5, n_estimators=300, score=0.868, total=   9.8s\n",
      "[CV]  learning_rate=0.01, max_depth=5, n_estimators=300 ..............\n",
      "[CV]   learning_rate=0.01, max_depth=5, n_estimators=300, score=0.870, total=   9.7s\n",
      "[CV]  learning_rate=0.01, max_depth=5, n_estimators=300 ..............\n",
      "[CV]   learning_rate=0.01, max_depth=5, n_estimators=300, score=0.873, total=   9.8s\n",
      "[CV]  learning_rate=0.01, max_depth=7, n_estimators=10 ...............\n",
      "[CV]   learning_rate=0.01, max_depth=7, n_estimators=10, score=0.858, total=   0.6s\n",
      "[CV]  learning_rate=0.01, max_depth=7, n_estimators=10 ...............\n",
      "[CV]   learning_rate=0.01, max_depth=7, n_estimators=10, score=0.858, total=   0.6s\n",
      "[CV]  learning_rate=0.01, max_depth=7, n_estimators=10 ...............\n",
      "[CV]   learning_rate=0.01, max_depth=7, n_estimators=10, score=0.856, total=   0.6s\n",
      "[CV]  learning_rate=0.01, max_depth=7, n_estimators=50 ...............\n",
      "[CV]   learning_rate=0.01, max_depth=7, n_estimators=50, score=0.866, total=   2.5s\n",
      "[CV]  learning_rate=0.01, max_depth=7, n_estimators=50 ...............\n",
      "[CV]   learning_rate=0.01, max_depth=7, n_estimators=50, score=0.869, total=   2.4s\n",
      "[CV]  learning_rate=0.01, max_depth=7, n_estimators=50 ...............\n",
      "[CV]   learning_rate=0.01, max_depth=7, n_estimators=50, score=0.867, total=   2.3s\n",
      "[CV]  learning_rate=0.01, max_depth=7, n_estimators=100 ..............\n",
      "[CV]   learning_rate=0.01, max_depth=7, n_estimators=100, score=0.869, total=   4.7s\n",
      "[CV]  learning_rate=0.01, max_depth=7, n_estimators=100 ..............\n",
      "[CV]   learning_rate=0.01, max_depth=7, n_estimators=100, score=0.872, total=   4.6s\n",
      "[CV]  learning_rate=0.01, max_depth=7, n_estimators=100 ..............\n",
      "[CV]   learning_rate=0.01, max_depth=7, n_estimators=100, score=0.872, total=   4.7s\n",
      "[CV]  learning_rate=0.01, max_depth=7, n_estimators=200 ..............\n",
      "[CV]   learning_rate=0.01, max_depth=7, n_estimators=200, score=0.867, total=   9.2s\n",
      "[CV]  learning_rate=0.01, max_depth=7, n_estimators=200 ..............\n",
      "[CV]   learning_rate=0.01, max_depth=7, n_estimators=200, score=0.870, total=   9.3s\n",
      "[CV]  learning_rate=0.01, max_depth=7, n_estimators=200 ..............\n",
      "[CV]   learning_rate=0.01, max_depth=7, n_estimators=200, score=0.873, total=   9.2s\n",
      "[CV]  learning_rate=0.01, max_depth=7, n_estimators=300 ..............\n",
      "[CV]   learning_rate=0.01, max_depth=7, n_estimators=300, score=0.866, total=  13.4s\n",
      "[CV]  learning_rate=0.01, max_depth=7, n_estimators=300 ..............\n",
      "[CV]   learning_rate=0.01, max_depth=7, n_estimators=300, score=0.868, total=  13.2s\n",
      "[CV]  learning_rate=0.01, max_depth=7, n_estimators=300 ..............\n",
      "[CV]   learning_rate=0.01, max_depth=7, n_estimators=300, score=0.871, total=  13.3s\n",
      "[CV]  learning_rate=0.01, max_depth=9, n_estimators=10 ...............\n",
      "[CV]   learning_rate=0.01, max_depth=9, n_estimators=10, score=0.857, total=   0.7s\n",
      "[CV]  learning_rate=0.01, max_depth=9, n_estimators=10 ...............\n",
      "[CV]   learning_rate=0.01, max_depth=9, n_estimators=10, score=0.861, total=   0.7s\n",
      "[CV]  learning_rate=0.01, max_depth=9, n_estimators=10 ...............\n",
      "[CV]   learning_rate=0.01, max_depth=9, n_estimators=10, score=0.858, total=   0.7s\n",
      "[CV]  learning_rate=0.01, max_depth=9, n_estimators=50 ...............\n",
      "[CV]   learning_rate=0.01, max_depth=9, n_estimators=50, score=0.866, total=   3.2s\n",
      "[CV]  learning_rate=0.01, max_depth=9, n_estimators=50 ...............\n",
      "[CV]   learning_rate=0.01, max_depth=9, n_estimators=50, score=0.868, total=   3.2s\n",
      "[CV]  learning_rate=0.01, max_depth=9, n_estimators=50 ...............\n",
      "[CV]   learning_rate=0.01, max_depth=9, n_estimators=50, score=0.869, total=   3.3s\n",
      "[CV]  learning_rate=0.01, max_depth=9, n_estimators=100 ..............\n",
      "[CV]   learning_rate=0.01, max_depth=9, n_estimators=100, score=0.865, total=   6.1s\n",
      "[CV]  learning_rate=0.01, max_depth=9, n_estimators=100 ..............\n"
     ]
    },
    {
     "name": "stdout",
     "output_type": "stream",
     "text": [
      "[CV]   learning_rate=0.01, max_depth=9, n_estimators=100, score=0.869, total=   6.1s\n",
      "[CV]  learning_rate=0.01, max_depth=9, n_estimators=100 ..............\n",
      "[CV]   learning_rate=0.01, max_depth=9, n_estimators=100, score=0.871, total=   6.3s\n",
      "[CV]  learning_rate=0.01, max_depth=9, n_estimators=200 ..............\n",
      "[CV]   learning_rate=0.01, max_depth=9, n_estimators=200, score=0.864, total=  12.0s\n",
      "[CV]  learning_rate=0.01, max_depth=9, n_estimators=200 ..............\n",
      "[CV]   learning_rate=0.01, max_depth=9, n_estimators=200, score=0.865, total=  12.0s\n",
      "[CV]  learning_rate=0.01, max_depth=9, n_estimators=200 ..............\n",
      "[CV]   learning_rate=0.01, max_depth=9, n_estimators=200, score=0.868, total=  12.1s\n",
      "[CV]  learning_rate=0.01, max_depth=9, n_estimators=300 ..............\n",
      "[CV]   learning_rate=0.01, max_depth=9, n_estimators=300, score=0.864, total=  17.5s\n",
      "[CV]  learning_rate=0.01, max_depth=9, n_estimators=300 ..............\n",
      "[CV]   learning_rate=0.01, max_depth=9, n_estimators=300, score=0.863, total=  18.0s\n",
      "[CV]  learning_rate=0.01, max_depth=9, n_estimators=300 ..............\n",
      "[CV]   learning_rate=0.01, max_depth=9, n_estimators=300, score=0.865, total=  17.5s\n",
      "[CV]  learning_rate=0.01, max_depth=11, n_estimators=10 ..............\n",
      "[CV]   learning_rate=0.01, max_depth=11, n_estimators=10, score=0.859, total=   0.9s\n",
      "[CV]  learning_rate=0.01, max_depth=11, n_estimators=10 ..............\n",
      "[CV]   learning_rate=0.01, max_depth=11, n_estimators=10, score=0.862, total=   0.9s\n",
      "[CV]  learning_rate=0.01, max_depth=11, n_estimators=10 ..............\n",
      "[CV]   learning_rate=0.01, max_depth=11, n_estimators=10, score=0.860, total=   0.9s\n",
      "[CV]  learning_rate=0.01, max_depth=11, n_estimators=50 ..............\n",
      "[CV]   learning_rate=0.01, max_depth=11, n_estimators=50, score=0.866, total=   4.1s\n",
      "[CV]  learning_rate=0.01, max_depth=11, n_estimators=50 ..............\n",
      "[CV]   learning_rate=0.01, max_depth=11, n_estimators=50, score=0.868, total=   4.1s\n",
      "[CV]  learning_rate=0.01, max_depth=11, n_estimators=50 ..............\n",
      "[CV]   learning_rate=0.01, max_depth=11, n_estimators=50, score=0.870, total=   4.2s\n",
      "[CV]  learning_rate=0.01, max_depth=11, n_estimators=100 .............\n",
      "[CV]   learning_rate=0.01, max_depth=11, n_estimators=100, score=0.867, total=   7.7s\n",
      "[CV]  learning_rate=0.01, max_depth=11, n_estimators=100 .............\n",
      "[CV]   learning_rate=0.01, max_depth=11, n_estimators=100, score=0.869, total=   8.0s\n",
      "[CV]  learning_rate=0.01, max_depth=11, n_estimators=100 .............\n",
      "[CV]   learning_rate=0.01, max_depth=11, n_estimators=100, score=0.869, total=   8.0s\n",
      "[CV]  learning_rate=0.01, max_depth=11, n_estimators=200 .............\n",
      "[CV]   learning_rate=0.01, max_depth=11, n_estimators=200, score=0.862, total=  14.6s\n",
      "[CV]  learning_rate=0.01, max_depth=11, n_estimators=200 .............\n",
      "[CV]   learning_rate=0.01, max_depth=11, n_estimators=200, score=0.865, total=  14.5s\n",
      "[CV]  learning_rate=0.01, max_depth=11, n_estimators=200 .............\n",
      "[CV]   learning_rate=0.01, max_depth=11, n_estimators=200, score=0.868, total=  14.3s\n",
      "[CV]  learning_rate=0.01, max_depth=11, n_estimators=300 .............\n",
      "[CV]   learning_rate=0.01, max_depth=11, n_estimators=300, score=0.861, total=  21.3s\n",
      "[CV]  learning_rate=0.01, max_depth=11, n_estimators=300 .............\n",
      "[CV]   learning_rate=0.01, max_depth=11, n_estimators=300, score=0.861, total=  21.3s\n",
      "[CV]  learning_rate=0.01, max_depth=11, n_estimators=300 .............\n",
      "[CV]   learning_rate=0.01, max_depth=11, n_estimators=300, score=0.865, total=  21.1s\n",
      "[CV]  learning_rate=0.01, max_depth=15, n_estimators=10 ..............\n",
      "[CV]   learning_rate=0.01, max_depth=15, n_estimators=10, score=0.855, total=   1.2s\n",
      "[CV]  learning_rate=0.01, max_depth=15, n_estimators=10 ..............\n",
      "[CV]   learning_rate=0.01, max_depth=15, n_estimators=10, score=0.860, total=   1.2s\n",
      "[CV]  learning_rate=0.01, max_depth=15, n_estimators=10 ..............\n",
      "[CV]   learning_rate=0.01, max_depth=15, n_estimators=10, score=0.858, total=   1.2s\n",
      "[CV]  learning_rate=0.01, max_depth=15, n_estimators=50 ..............\n",
      "[CV]   learning_rate=0.01, max_depth=15, n_estimators=50, score=0.863, total=   5.7s\n",
      "[CV]  learning_rate=0.01, max_depth=15, n_estimators=50 ..............\n",
      "[CV]   learning_rate=0.01, max_depth=15, n_estimators=50, score=0.863, total=   5.7s\n",
      "[CV]  learning_rate=0.01, max_depth=15, n_estimators=50 ..............\n",
      "[CV]   learning_rate=0.01, max_depth=15, n_estimators=50, score=0.865, total=   5.7s\n",
      "[CV]  learning_rate=0.01, max_depth=15, n_estimators=100 .............\n",
      "[CV]   learning_rate=0.01, max_depth=15, n_estimators=100, score=0.862, total=  10.7s\n",
      "[CV]  learning_rate=0.01, max_depth=15, n_estimators=100 .............\n",
      "[CV]   learning_rate=0.01, max_depth=15, n_estimators=100, score=0.861, total=  10.7s\n",
      "[CV]  learning_rate=0.01, max_depth=15, n_estimators=100 .............\n",
      "[CV]   learning_rate=0.01, max_depth=15, n_estimators=100, score=0.864, total=  10.7s\n",
      "[CV]  learning_rate=0.01, max_depth=15, n_estimators=200 .............\n",
      "[CV]   learning_rate=0.01, max_depth=15, n_estimators=200, score=0.858, total=  21.3s\n",
      "[CV]  learning_rate=0.01, max_depth=15, n_estimators=200 .............\n",
      "[CV]   learning_rate=0.01, max_depth=15, n_estimators=200, score=0.857, total=  20.8s\n",
      "[CV]  learning_rate=0.01, max_depth=15, n_estimators=200 .............\n",
      "[CV]   learning_rate=0.01, max_depth=15, n_estimators=200, score=0.859, total=  21.6s\n",
      "[CV]  learning_rate=0.01, max_depth=15, n_estimators=300 .............\n",
      "[CV]   learning_rate=0.01, max_depth=15, n_estimators=300, score=0.855, total=  32.6s\n",
      "[CV]  learning_rate=0.01, max_depth=15, n_estimators=300 .............\n",
      "[CV]   learning_rate=0.01, max_depth=15, n_estimators=300, score=0.853, total=  31.1s\n",
      "[CV]  learning_rate=0.01, max_depth=15, n_estimators=300 .............\n",
      "[CV]   learning_rate=0.01, max_depth=15, n_estimators=300, score=0.858, total=  31.0s\n",
      "[CV]  learning_rate=0.001, max_depth=3, n_estimators=10 ..............\n",
      "[CV]   learning_rate=0.001, max_depth=3, n_estimators=10, score=0.843, total=   0.3s\n",
      "[CV]  learning_rate=0.001, max_depth=3, n_estimators=10 ..............\n",
      "[CV]   learning_rate=0.001, max_depth=3, n_estimators=10, score=0.845, total=   0.3s\n",
      "[CV]  learning_rate=0.001, max_depth=3, n_estimators=10 ..............\n",
      "[CV]   learning_rate=0.001, max_depth=3, n_estimators=10, score=0.840, total=   0.4s\n",
      "[CV]  learning_rate=0.001, max_depth=3, n_estimators=50 ..............\n",
      "[CV]   learning_rate=0.001, max_depth=3, n_estimators=50, score=0.856, total=   1.2s\n",
      "[CV]  learning_rate=0.001, max_depth=3, n_estimators=50 ..............\n",
      "[CV]   learning_rate=0.001, max_depth=3, n_estimators=50, score=0.854, total=   1.1s\n",
      "[CV]  learning_rate=0.001, max_depth=3, n_estimators=50 ..............\n",
      "[CV]   learning_rate=0.001, max_depth=3, n_estimators=50, score=0.855, total=   1.1s\n",
      "[CV]  learning_rate=0.001, max_depth=3, n_estimators=100 .............\n",
      "[CV]   learning_rate=0.001, max_depth=3, n_estimators=100, score=0.861, total=   2.1s\n",
      "[CV]  learning_rate=0.001, max_depth=3, n_estimators=100 .............\n",
      "[CV]   learning_rate=0.001, max_depth=3, n_estimators=100, score=0.862, total=   2.2s\n",
      "[CV]  learning_rate=0.001, max_depth=3, n_estimators=100 .............\n",
      "[CV]   learning_rate=0.001, max_depth=3, n_estimators=100, score=0.863, total=   2.2s\n",
      "[CV]  learning_rate=0.001, max_depth=3, n_estimators=200 .............\n",
      "[CV]   learning_rate=0.001, max_depth=3, n_estimators=200, score=0.868, total=   4.3s\n",
      "[CV]  learning_rate=0.001, max_depth=3, n_estimators=200 .............\n",
      "[CV]   learning_rate=0.001, max_depth=3, n_estimators=200, score=0.870, total=   4.3s\n",
      "[CV]  learning_rate=0.001, max_depth=3, n_estimators=200 .............\n",
      "[CV]   learning_rate=0.001, max_depth=3, n_estimators=200, score=0.870, total=   4.1s\n",
      "[CV]  learning_rate=0.001, max_depth=3, n_estimators=300 .............\n",
      "[CV]   learning_rate=0.001, max_depth=3, n_estimators=300, score=0.870, total=   6.3s\n",
      "[CV]  learning_rate=0.001, max_depth=3, n_estimators=300 .............\n",
      "[CV]   learning_rate=0.001, max_depth=3, n_estimators=300, score=0.872, total=   6.4s\n",
      "[CV]  learning_rate=0.001, max_depth=3, n_estimators=300 .............\n",
      "[CV]   learning_rate=0.001, max_depth=3, n_estimators=300, score=0.872, total=   6.4s\n",
      "[CV]  learning_rate=0.001, max_depth=5, n_estimators=10 ..............\n"
     ]
    },
    {
     "name": "stdout",
     "output_type": "stream",
     "text": [
      "[CV]   learning_rate=0.001, max_depth=5, n_estimators=10, score=0.854, total=   0.4s\n",
      "[CV]  learning_rate=0.001, max_depth=5, n_estimators=10 ..............\n",
      "[CV]   learning_rate=0.001, max_depth=5, n_estimators=10, score=0.851, total=   0.4s\n",
      "[CV]  learning_rate=0.001, max_depth=5, n_estimators=10 ..............\n",
      "[CV]   learning_rate=0.001, max_depth=5, n_estimators=10, score=0.851, total=   0.4s\n",
      "[CV]  learning_rate=0.001, max_depth=5, n_estimators=50 ..............\n",
      "[CV]   learning_rate=0.001, max_depth=5, n_estimators=50, score=0.861, total=   1.7s\n",
      "[CV]  learning_rate=0.001, max_depth=5, n_estimators=50 ..............\n",
      "[CV]   learning_rate=0.001, max_depth=5, n_estimators=50, score=0.862, total=   1.8s\n",
      "[CV]  learning_rate=0.001, max_depth=5, n_estimators=50 ..............\n",
      "[CV]   learning_rate=0.001, max_depth=5, n_estimators=50, score=0.862, total=   1.8s\n",
      "[CV]  learning_rate=0.001, max_depth=5, n_estimators=100 .............\n",
      "[CV]   learning_rate=0.001, max_depth=5, n_estimators=100, score=0.869, total=   3.4s\n",
      "[CV]  learning_rate=0.001, max_depth=5, n_estimators=100 .............\n",
      "[CV]   learning_rate=0.001, max_depth=5, n_estimators=100, score=0.872, total=   3.4s\n",
      "[CV]  learning_rate=0.001, max_depth=5, n_estimators=100 .............\n",
      "[CV]   learning_rate=0.001, max_depth=5, n_estimators=100, score=0.871, total=   3.5s\n",
      "[CV]  learning_rate=0.001, max_depth=5, n_estimators=200 .............\n",
      "[CV]   learning_rate=0.001, max_depth=5, n_estimators=200, score=0.869, total=   6.9s\n",
      "[CV]  learning_rate=0.001, max_depth=5, n_estimators=200 .............\n",
      "[CV]   learning_rate=0.001, max_depth=5, n_estimators=200, score=0.871, total=   6.7s\n",
      "[CV]  learning_rate=0.001, max_depth=5, n_estimators=200 .............\n",
      "[CV]   learning_rate=0.001, max_depth=5, n_estimators=200, score=0.873, total=   6.6s\n",
      "[CV]  learning_rate=0.001, max_depth=5, n_estimators=300 .............\n",
      "[CV]   learning_rate=0.001, max_depth=5, n_estimators=300, score=0.868, total=   9.9s\n",
      "[CV]  learning_rate=0.001, max_depth=5, n_estimators=300 .............\n",
      "[CV]   learning_rate=0.001, max_depth=5, n_estimators=300, score=0.870, total=   9.7s\n",
      "[CV]  learning_rate=0.001, max_depth=5, n_estimators=300 .............\n",
      "[CV]   learning_rate=0.001, max_depth=5, n_estimators=300, score=0.873, total=   9.7s\n",
      "[CV]  learning_rate=0.001, max_depth=7, n_estimators=10 ..............\n",
      "[CV]   learning_rate=0.001, max_depth=7, n_estimators=10, score=0.858, total=   0.6s\n",
      "[CV]  learning_rate=0.001, max_depth=7, n_estimators=10 ..............\n",
      "[CV]   learning_rate=0.001, max_depth=7, n_estimators=10, score=0.858, total=   0.5s\n",
      "[CV]  learning_rate=0.001, max_depth=7, n_estimators=10 ..............\n",
      "[CV]   learning_rate=0.001, max_depth=7, n_estimators=10, score=0.856, total=   0.5s\n",
      "[CV]  learning_rate=0.001, max_depth=7, n_estimators=50 ..............\n",
      "[CV]   learning_rate=0.001, max_depth=7, n_estimators=50, score=0.866, total=   2.3s\n",
      "[CV]  learning_rate=0.001, max_depth=7, n_estimators=50 ..............\n",
      "[CV]   learning_rate=0.001, max_depth=7, n_estimators=50, score=0.869, total=   2.4s\n",
      "[CV]  learning_rate=0.001, max_depth=7, n_estimators=50 ..............\n",
      "[CV]   learning_rate=0.001, max_depth=7, n_estimators=50, score=0.867, total=   2.5s\n",
      "[CV]  learning_rate=0.001, max_depth=7, n_estimators=100 .............\n",
      "[CV]   learning_rate=0.001, max_depth=7, n_estimators=100, score=0.869, total=   4.6s\n",
      "[CV]  learning_rate=0.001, max_depth=7, n_estimators=100 .............\n",
      "[CV]   learning_rate=0.001, max_depth=7, n_estimators=100, score=0.872, total=   4.7s\n",
      "[CV]  learning_rate=0.001, max_depth=7, n_estimators=100 .............\n",
      "[CV]   learning_rate=0.001, max_depth=7, n_estimators=100, score=0.872, total=   4.7s\n",
      "[CV]  learning_rate=0.001, max_depth=7, n_estimators=200 .............\n",
      "[CV]   learning_rate=0.001, max_depth=7, n_estimators=200, score=0.867, total=   9.1s\n",
      "[CV]  learning_rate=0.001, max_depth=7, n_estimators=200 .............\n",
      "[CV]   learning_rate=0.001, max_depth=7, n_estimators=200, score=0.870, total=   9.3s\n",
      "[CV]  learning_rate=0.001, max_depth=7, n_estimators=200 .............\n",
      "[CV]   learning_rate=0.001, max_depth=7, n_estimators=200, score=0.873, total=   9.0s\n",
      "[CV]  learning_rate=0.001, max_depth=7, n_estimators=300 .............\n",
      "[CV]   learning_rate=0.001, max_depth=7, n_estimators=300, score=0.866, total=  13.7s\n",
      "[CV]  learning_rate=0.001, max_depth=7, n_estimators=300 .............\n",
      "[CV]   learning_rate=0.001, max_depth=7, n_estimators=300, score=0.868, total=  13.4s\n",
      "[CV]  learning_rate=0.001, max_depth=7, n_estimators=300 .............\n",
      "[CV]   learning_rate=0.001, max_depth=7, n_estimators=300, score=0.871, total=  13.3s\n",
      "[CV]  learning_rate=0.001, max_depth=9, n_estimators=10 ..............\n",
      "[CV]   learning_rate=0.001, max_depth=9, n_estimators=10, score=0.857, total=   0.7s\n",
      "[CV]  learning_rate=0.001, max_depth=9, n_estimators=10 ..............\n",
      "[CV]   learning_rate=0.001, max_depth=9, n_estimators=10, score=0.861, total=   0.7s\n",
      "[CV]  learning_rate=0.001, max_depth=9, n_estimators=10 ..............\n",
      "[CV]   learning_rate=0.001, max_depth=9, n_estimators=10, score=0.858, total=   0.7s\n",
      "[CV]  learning_rate=0.001, max_depth=9, n_estimators=50 ..............\n",
      "[CV]   learning_rate=0.001, max_depth=9, n_estimators=50, score=0.866, total=   3.2s\n",
      "[CV]  learning_rate=0.001, max_depth=9, n_estimators=50 ..............\n",
      "[CV]   learning_rate=0.001, max_depth=9, n_estimators=50, score=0.868, total=   3.3s\n",
      "[CV]  learning_rate=0.001, max_depth=9, n_estimators=50 ..............\n",
      "[CV]   learning_rate=0.001, max_depth=9, n_estimators=50, score=0.869, total=   3.3s\n",
      "[CV]  learning_rate=0.001, max_depth=9, n_estimators=100 .............\n",
      "[CV]   learning_rate=0.001, max_depth=9, n_estimators=100, score=0.865, total=   6.1s\n",
      "[CV]  learning_rate=0.001, max_depth=9, n_estimators=100 .............\n",
      "[CV]   learning_rate=0.001, max_depth=9, n_estimators=100, score=0.869, total=   6.1s\n",
      "[CV]  learning_rate=0.001, max_depth=9, n_estimators=100 .............\n",
      "[CV]   learning_rate=0.001, max_depth=9, n_estimators=100, score=0.871, total=   6.3s\n",
      "[CV]  learning_rate=0.001, max_depth=9, n_estimators=200 .............\n",
      "[CV]   learning_rate=0.001, max_depth=9, n_estimators=200, score=0.864, total=  12.4s\n",
      "[CV]  learning_rate=0.001, max_depth=9, n_estimators=200 .............\n",
      "[CV]   learning_rate=0.001, max_depth=9, n_estimators=200, score=0.865, total=  11.9s\n",
      "[CV]  learning_rate=0.001, max_depth=9, n_estimators=200 .............\n",
      "[CV]   learning_rate=0.001, max_depth=9, n_estimators=200, score=0.868, total=  12.2s\n",
      "[CV]  learning_rate=0.001, max_depth=9, n_estimators=300 .............\n",
      "[CV]   learning_rate=0.001, max_depth=9, n_estimators=300, score=0.864, total=  18.1s\n",
      "[CV]  learning_rate=0.001, max_depth=9, n_estimators=300 .............\n",
      "[CV]   learning_rate=0.001, max_depth=9, n_estimators=300, score=0.863, total=  17.2s\n",
      "[CV]  learning_rate=0.001, max_depth=9, n_estimators=300 .............\n",
      "[CV]   learning_rate=0.001, max_depth=9, n_estimators=300, score=0.865, total=  17.3s\n",
      "[CV]  learning_rate=0.001, max_depth=11, n_estimators=10 .............\n",
      "[CV]   learning_rate=0.001, max_depth=11, n_estimators=10, score=0.859, total=   0.9s\n",
      "[CV]  learning_rate=0.001, max_depth=11, n_estimators=10 .............\n",
      "[CV]   learning_rate=0.001, max_depth=11, n_estimators=10, score=0.862, total=   0.9s\n",
      "[CV]  learning_rate=0.001, max_depth=11, n_estimators=10 .............\n",
      "[CV]   learning_rate=0.001, max_depth=11, n_estimators=10, score=0.860, total=   1.0s\n",
      "[CV]  learning_rate=0.001, max_depth=11, n_estimators=50 .............\n",
      "[CV]   learning_rate=0.001, max_depth=11, n_estimators=50, score=0.866, total=   4.8s\n",
      "[CV]  learning_rate=0.001, max_depth=11, n_estimators=50 .............\n",
      "[CV]   learning_rate=0.001, max_depth=11, n_estimators=50, score=0.868, total=   5.7s\n",
      "[CV]  learning_rate=0.001, max_depth=11, n_estimators=50 .............\n",
      "[CV]   learning_rate=0.001, max_depth=11, n_estimators=50, score=0.870, total=   5.2s\n",
      "[CV]  learning_rate=0.001, max_depth=11, n_estimators=100 ............\n",
      "[CV]   learning_rate=0.001, max_depth=11, n_estimators=100, score=0.867, total=   7.7s\n",
      "[CV]  learning_rate=0.001, max_depth=11, n_estimators=100 ............\n",
      "[CV]   learning_rate=0.001, max_depth=11, n_estimators=100, score=0.869, total=   7.6s\n",
      "[CV]  learning_rate=0.001, max_depth=11, n_estimators=100 ............\n"
     ]
    },
    {
     "name": "stdout",
     "output_type": "stream",
     "text": [
      "[CV]   learning_rate=0.001, max_depth=11, n_estimators=100, score=0.869, total=   7.6s\n",
      "[CV]  learning_rate=0.001, max_depth=11, n_estimators=200 ............\n",
      "[CV]   learning_rate=0.001, max_depth=11, n_estimators=200, score=0.862, total=  15.5s\n",
      "[CV]  learning_rate=0.001, max_depth=11, n_estimators=200 ............\n",
      "[CV]   learning_rate=0.001, max_depth=11, n_estimators=200, score=0.865, total=  14.7s\n",
      "[CV]  learning_rate=0.001, max_depth=11, n_estimators=200 ............\n",
      "[CV]   learning_rate=0.001, max_depth=11, n_estimators=200, score=0.868, total=  15.3s\n",
      "[CV]  learning_rate=0.001, max_depth=11, n_estimators=300 ............\n",
      "[CV]   learning_rate=0.001, max_depth=11, n_estimators=300, score=0.861, total=  22.3s\n",
      "[CV]  learning_rate=0.001, max_depth=11, n_estimators=300 ............\n",
      "[CV]   learning_rate=0.001, max_depth=11, n_estimators=300, score=0.861, total=  24.1s\n",
      "[CV]  learning_rate=0.001, max_depth=11, n_estimators=300 ............\n",
      "[CV]   learning_rate=0.001, max_depth=11, n_estimators=300, score=0.865, total=  21.9s\n",
      "[CV]  learning_rate=0.001, max_depth=15, n_estimators=10 .............\n",
      "[CV]   learning_rate=0.001, max_depth=15, n_estimators=10, score=0.855, total=   1.2s\n",
      "[CV]  learning_rate=0.001, max_depth=15, n_estimators=10 .............\n",
      "[CV]   learning_rate=0.001, max_depth=15, n_estimators=10, score=0.860, total=   1.2s\n",
      "[CV]  learning_rate=0.001, max_depth=15, n_estimators=10 .............\n",
      "[CV]   learning_rate=0.001, max_depth=15, n_estimators=10, score=0.858, total=   1.2s\n",
      "[CV]  learning_rate=0.001, max_depth=15, n_estimators=50 .............\n",
      "[CV]   learning_rate=0.001, max_depth=15, n_estimators=50, score=0.863, total=   5.8s\n",
      "[CV]  learning_rate=0.001, max_depth=15, n_estimators=50 .............\n",
      "[CV]   learning_rate=0.001, max_depth=15, n_estimators=50, score=0.863, total=   5.7s\n",
      "[CV]  learning_rate=0.001, max_depth=15, n_estimators=50 .............\n",
      "[CV]   learning_rate=0.001, max_depth=15, n_estimators=50, score=0.865, total=   5.7s\n",
      "[CV]  learning_rate=0.001, max_depth=15, n_estimators=100 ............\n",
      "[CV]   learning_rate=0.001, max_depth=15, n_estimators=100, score=0.862, total=  11.0s\n",
      "[CV]  learning_rate=0.001, max_depth=15, n_estimators=100 ............\n",
      "[CV]   learning_rate=0.001, max_depth=15, n_estimators=100, score=0.861, total=  11.1s\n",
      "[CV]  learning_rate=0.001, max_depth=15, n_estimators=100 ............\n",
      "[CV]   learning_rate=0.001, max_depth=15, n_estimators=100, score=0.864, total=  11.5s\n",
      "[CV]  learning_rate=0.001, max_depth=15, n_estimators=200 ............\n",
      "[CV]   learning_rate=0.001, max_depth=15, n_estimators=200, score=0.858, total=  23.2s\n",
      "[CV]  learning_rate=0.001, max_depth=15, n_estimators=200 ............\n",
      "[CV]   learning_rate=0.001, max_depth=15, n_estimators=200, score=0.857, total=  22.0s\n",
      "[CV]  learning_rate=0.001, max_depth=15, n_estimators=200 ............\n",
      "[CV]   learning_rate=0.001, max_depth=15, n_estimators=200, score=0.859, total=  21.2s\n",
      "[CV]  learning_rate=0.001, max_depth=15, n_estimators=300 ............\n",
      "[CV]   learning_rate=0.001, max_depth=15, n_estimators=300, score=0.855, total=  31.3s\n",
      "[CV]  learning_rate=0.001, max_depth=15, n_estimators=300 ............\n",
      "[CV]   learning_rate=0.001, max_depth=15, n_estimators=300, score=0.853, total=  31.4s\n",
      "[CV]  learning_rate=0.001, max_depth=15, n_estimators=300 ............\n",
      "[CV]   learning_rate=0.001, max_depth=15, n_estimators=300, score=0.858, total=  30.5s\n"
     ]
    },
    {
     "name": "stderr",
     "output_type": "stream",
     "text": [
      "[Parallel(n_jobs=1)]: Done 450 out of 450 | elapsed: 61.5min finished\n"
     ]
    },
    {
     "data": {
      "text/plain": [
       "GridSearchCV(cv='warn', error_score='raise-deprecating',\n",
       "             estimator=XGBClassifier(base_score=0.5, booster='gbtree',\n",
       "                                     colsample_bylevel=1, colsample_bynode=1,\n",
       "                                     colsample_bytree=1, gamma=0,\n",
       "                                     learning_rate=0.1, max_delta_step=0,\n",
       "                                     max_depth=3, min_child_weight=1,\n",
       "                                     missing=None, n_estimators=100, n_jobs=1,\n",
       "                                     nthread=None, objective='binary:logistic',\n",
       "                                     random_state=0, reg_alpha=0, reg_lambda=1,\n",
       "                                     scale_pos_weight=1, seed=None, silent=None,\n",
       "                                     subsample=1, verbosity=1),\n",
       "             iid='warn', n_jobs=None,\n",
       "             param_grid={' learning_rate': [1, 0.5, 0.1, 0.01, 0.001],\n",
       "                         'max_depth': [3, 5, 7, 9, 11, 15],\n",
       "                         'n_estimators': [10, 50, 100, 200, 300]},\n",
       "             pre_dispatch='2*n_jobs', refit=True, return_train_score=False,\n",
       "             scoring=None, verbose=3)"
      ]
     },
     "execution_count": 98,
     "metadata": {},
     "output_type": "execute_result"
    }
   ],
   "source": [
    "gsv = GridSearchCV(xbc,param_grid=param_grid,verbose=3)\n",
    "gsv.fit(x_train,y_train)"
   ]
  },
  {
   "cell_type": "code",
   "execution_count": 103,
   "metadata": {},
   "outputs": [
    {
     "data": {
      "text/plain": [
       "{' learning_rate': 1, 'max_depth': 3, 'n_estimators': 300}"
      ]
     },
     "execution_count": 103,
     "metadata": {},
     "output_type": "execute_result"
    }
   ],
   "source": [
    "gsv.best_params_"
   ]
  },
  {
   "cell_type": "code",
   "execution_count": 104,
   "metadata": {},
   "outputs": [
    {
     "data": {
      "text/plain": [
       "XGBClassifier(base_score=0.5, booster='gbtree', colsample_bylevel=1,\n",
       "              colsample_bynode=1, colsample_bytree=1, gamma=0, learning_rate=1,\n",
       "              max_delta_step=0, max_depth=3, min_child_weight=1, missing=None,\n",
       "              n_estimators=300, n_jobs=1, nthread=None,\n",
       "              objective='binary:logistic', random_state=0, reg_alpha=0,\n",
       "              reg_lambda=1, scale_pos_weight=1, seed=None, silent=None,\n",
       "              subsample=1, verbosity=1)"
      ]
     },
     "execution_count": 104,
     "metadata": {},
     "output_type": "execute_result"
    }
   ],
   "source": [
    "xbc_tuned = XGBClassifier(learning_rate=1,max_depth=3,n_estimators=300)\n",
    "xbc_tuned.fit(x_train,y_train)"
   ]
  },
  {
   "cell_type": "code",
   "execution_count": 106,
   "metadata": {},
   "outputs": [
    {
     "name": "stdout",
     "output_type": "stream",
     "text": [
      "0.8691780120790255\n"
     ]
    }
   ],
   "source": [
    "XBc = xbc_tuned.score(x_test,y_test)\n",
    "print(XBc)"
   ]
  },
  {
   "cell_type": "markdown",
   "metadata": {},
   "source": [
    "### XGBoost_Classifier Model Evaluation"
   ]
  },
  {
   "cell_type": "code",
   "execution_count": 107,
   "metadata": {},
   "outputs": [],
   "source": [
    "xbc_y_pred = xbc_tuned.predict(x_test)"
   ]
  },
  {
   "cell_type": "code",
   "execution_count": 108,
   "metadata": {},
   "outputs": [
    {
     "name": "stdout",
     "output_type": "stream",
     "text": [
      "Accuracy_Score:0.8623195823523391\n",
      "**************************************************\n",
      "Classification_Report:              precision    recall  f1-score   support\n",
      "\n",
      "           0       0.88      0.95      0.91      7436\n",
      "           1       0.79      0.57      0.66      2333\n",
      "\n",
      "    accuracy                           0.86      9769\n",
      "   macro avg       0.84      0.76      0.79      9769\n",
      "weighted avg       0.86      0.86      0.85      9769\n",
      "\n",
      "**************************************************\n",
      "Confusion_Matrix:[[7090  346]\n",
      " [ 999 1334]]\n"
     ]
    }
   ],
   "source": [
    "print(f\"Accuracy_Score:{accuracy_score(y_test,rfc_y_pred)}\")\n",
    "print('*'*50)\n",
    "print(f\"Classification_Report:{classification_report(y_test,rfc_y_pred)}\")\n",
    "print('*'*50)\n",
    "print(f\"Confusion_Matrix:{confusion_matrix(y_test,rfc_y_pred)}\")"
   ]
  },
  {
   "cell_type": "markdown",
   "metadata": {},
   "source": [
    "Lets compare all the Models with its Model score by a table"
   ]
  },
  {
   "cell_type": "code",
   "execution_count": 109,
   "metadata": {},
   "outputs": [
    {
     "data": {
      "text/html": [
       "<div>\n",
       "<style scoped>\n",
       "    .dataframe tbody tr th:only-of-type {\n",
       "        vertical-align: middle;\n",
       "    }\n",
       "\n",
       "    .dataframe tbody tr th {\n",
       "        vertical-align: top;\n",
       "    }\n",
       "\n",
       "    .dataframe thead th {\n",
       "        text-align: right;\n",
       "    }\n",
       "</style>\n",
       "<table border=\"1\" class=\"dataframe\">\n",
       "  <thead>\n",
       "    <tr style=\"text-align: right;\">\n",
       "      <th></th>\n",
       "      <th>Models</th>\n",
       "      <th>Model_Scores</th>\n",
       "    </tr>\n",
       "  </thead>\n",
       "  <tbody>\n",
       "    <tr>\n",
       "      <th>0</th>\n",
       "      <td>Logistic_Reg</td>\n",
       "      <td>0.854745</td>\n",
       "    </tr>\n",
       "    <tr>\n",
       "      <th>1</th>\n",
       "      <td>Decision Tree</td>\n",
       "      <td>0.859146</td>\n",
       "    </tr>\n",
       "    <tr>\n",
       "      <th>2</th>\n",
       "      <td>Random Forest</td>\n",
       "      <td>0.862320</td>\n",
       "    </tr>\n",
       "    <tr>\n",
       "      <th>3</th>\n",
       "      <td>KNN</td>\n",
       "      <td>0.854028</td>\n",
       "    </tr>\n",
       "    <tr>\n",
       "      <th>4</th>\n",
       "      <td>XGBoost_Classifier</td>\n",
       "      <td>0.869178</td>\n",
       "    </tr>\n",
       "  </tbody>\n",
       "</table>\n",
       "</div>"
      ],
      "text/plain": [
       "               Models  Model_Scores\n",
       "0        Logistic_Reg      0.854745\n",
       "1       Decision Tree      0.859146\n",
       "2       Random Forest      0.862320\n",
       "3                 KNN      0.854028\n",
       "4  XGBoost_Classifier      0.869178"
      ]
     },
     "execution_count": 109,
     "metadata": {},
     "output_type": "execute_result"
    }
   ],
   "source": [
    "df = {'Models':['Logistic_Reg','Decision Tree','Random Forest','KNN','XGBoost_Classifier'],'Model_Scores':[Log_Reg,Dtc,RFC,KNN,XBc]}\n",
    "pd.DataFrame(df)"
   ]
  },
  {
   "cell_type": "markdown",
   "metadata": {},
   "source": [
    "From Above table we can come to conclusion that XG boost classifier is the best as it gives high model scores when compared to other models"
   ]
  }
 ],
 "metadata": {
  "kernelspec": {
   "display_name": "Python 3",
   "language": "python",
   "name": "python3"
  },
  "language_info": {
   "codemirror_mode": {
    "name": "ipython",
    "version": 3
   },
   "file_extension": ".py",
   "mimetype": "text/x-python",
   "name": "python",
   "nbconvert_exporter": "python",
   "pygments_lexer": "ipython3",
   "version": "3.7.6"
  }
 },
 "nbformat": 4,
 "nbformat_minor": 4
}
